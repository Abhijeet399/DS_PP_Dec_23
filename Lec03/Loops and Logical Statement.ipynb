{
 "cells": [
  {
   "cell_type": "code",
   "execution_count": 8,
   "id": "d3d0cf16",
   "metadata": {},
   "outputs": [],
   "source": [
    "def higher_number(a, b):\n",
    "    if b > a:\n",
    "        print('B is greater than A')\n",
    "        return b\n",
    "    else:\n",
    "        print('A is greater than B')\n",
    "        return a"
   ]
  },
  {
   "cell_type": "code",
   "execution_count": 11,
   "id": "5ccbef5c",
   "metadata": {},
   "outputs": [
    {
     "name": "stdout",
     "output_type": "stream",
     "text": [
      "A is greater than B\n"
     ]
    }
   ],
   "source": [
    "num = higher_number(50, 10)"
   ]
  },
  {
   "cell_type": "code",
   "execution_count": 12,
   "id": "7e921fe1",
   "metadata": {},
   "outputs": [
    {
     "name": "stdout",
     "output_type": "stream",
     "text": [
      "50\n"
     ]
    }
   ],
   "source": [
    "print(num)"
   ]
  },
  {
   "cell_type": "code",
   "execution_count": 13,
   "id": "e0503ddd",
   "metadata": {},
   "outputs": [],
   "source": [
    "def calculator(a, b, button):\n",
    "    if button == '+':\n",
    "        return a+b\n",
    "    elif button == '-':\n",
    "        return a - b\n",
    "    elif button == '*':\n",
    "        return a * b\n",
    "    else: \n",
    "        return a / b"
   ]
  },
  {
   "cell_type": "code",
   "execution_count": 14,
   "id": "6f20ec8c",
   "metadata": {},
   "outputs": [
    {
     "data": {
      "text/plain": [
       "-40"
      ]
     },
     "execution_count": 14,
     "metadata": {},
     "output_type": "execute_result"
    }
   ],
   "source": [
    "calculator(10, 50, '-')"
   ]
  },
  {
   "cell_type": "code",
   "execution_count": 15,
   "id": "e5553c92",
   "metadata": {},
   "outputs": [],
   "source": [
    "# Logical Operators:\n",
    "# 1. And\n",
    "# 2. OR\n",
    "# 3. Not"
   ]
  },
  {
   "cell_type": "code",
   "execution_count": 17,
   "id": "ba531626",
   "metadata": {},
   "outputs": [
    {
     "name": "stdout",
     "output_type": "stream",
     "text": [
      "Num is > 5\n",
      "Num > 5 and smaller than 20\n"
     ]
    }
   ],
   "source": [
    "num = 10\n",
    "\n",
    "if num > 5:\n",
    "    print('Num is > 5')\n",
    "    if num < 20:\n",
    "        print('Num > 5 and smaller than 20')"
   ]
  },
  {
   "cell_type": "code",
   "execution_count": 18,
   "id": "1d2a834b",
   "metadata": {},
   "outputs": [
    {
     "name": "stdout",
     "output_type": "stream",
     "text": [
      "Num > 5 and smaller than 20\n"
     ]
    }
   ],
   "source": [
    "if num > 5 and num < 20:\n",
    "    print(\"Num > 5 and smaller than 20\")"
   ]
  },
  {
   "cell_type": "code",
   "execution_count": 21,
   "id": "4e0f2eba",
   "metadata": {},
   "outputs": [
    {
     "name": "stdout",
     "output_type": "stream",
     "text": [
      "True\n"
     ]
    }
   ],
   "source": [
    "print(num > 5 and num < 20)"
   ]
  },
  {
   "cell_type": "code",
   "execution_count": 25,
   "id": "2f9baa94",
   "metadata": {},
   "outputs": [
    {
     "data": {
      "text/plain": [
       "True"
      ]
     },
     "execution_count": 25,
     "metadata": {},
     "output_type": "execute_result"
    }
   ],
   "source": [
    "5 < 2 or 10 > 6"
   ]
  },
  {
   "cell_type": "code",
   "execution_count": 35,
   "id": "503bc942",
   "metadata": {},
   "outputs": [
    {
     "data": {
      "text/plain": [
       "True"
      ]
     },
     "execution_count": 35,
     "metadata": {},
     "output_type": "execute_result"
    }
   ],
   "source": [
    "False or not False"
   ]
  },
  {
   "cell_type": "code",
   "execution_count": 36,
   "id": "41e3d169",
   "metadata": {},
   "outputs": [
    {
     "data": {
      "text/plain": [
       "False"
      ]
     },
     "execution_count": 36,
     "metadata": {},
     "output_type": "execute_result"
    }
   ],
   "source": [
    "not True"
   ]
  },
  {
   "cell_type": "code",
   "execution_count": 59,
   "id": "55ca0f21",
   "metadata": {},
   "outputs": [],
   "source": [
    "def higher_num(a, b, c):\n",
    "    if (a >= b) and (a >= c):\n",
    "        return a\n",
    "    elif (b >= a) and (b >= c):\n",
    "        return b\n",
    "    else:\n",
    "        return c"
   ]
  },
  {
   "cell_type": "code",
   "execution_count": 60,
   "id": "436dd99e",
   "metadata": {},
   "outputs": [
    {
     "name": "stdout",
     "output_type": "stream",
     "text": [
      "10\n"
     ]
    }
   ],
   "source": [
    "print(higher_num(10, 10, 10))"
   ]
  },
  {
   "cell_type": "code",
   "execution_count": 61,
   "id": "75af0224",
   "metadata": {},
   "outputs": [],
   "source": [
    "# Loops \n",
    "# 1. For \n",
    "# 2. While"
   ]
  },
  {
   "cell_type": "code",
   "execution_count": 62,
   "id": "9d91db71",
   "metadata": {},
   "outputs": [],
   "source": [
    "# for iterator in iterable:\n",
    "#     print('something something')"
   ]
  },
  {
   "cell_type": "code",
   "execution_count": 76,
   "id": "ba739b91",
   "metadata": {},
   "outputs": [
    {
     "name": "stdout",
     "output_type": "stream",
     "text": [
      "1 0\n",
      "1 1\n",
      "1 2\n",
      "1 3\n",
      "1 4\n",
      "3 0\n",
      "3 1\n",
      "3 2\n",
      "3 3\n",
      "3 4\n",
      "5 0\n",
      "5 1\n",
      "5 2\n",
      "5 3\n",
      "5 4\n",
      "7 0\n",
      "7 1\n",
      "7 2\n",
      "7 3\n",
      "7 4\n",
      "9 0\n",
      "9 1\n",
      "9 2\n",
      "9 3\n",
      "9 4\n"
     ]
    }
   ],
   "source": [
    "for j in range(1, 10, 2):\n",
    "    for i in range(0, 5):\n",
    "        print(j, i)"
   ]
  },
  {
   "cell_type": "code",
   "execution_count": 88,
   "id": "5a370eb1",
   "metadata": {},
   "outputs": [
    {
     "name": "stdout",
     "output_type": "stream",
     "text": [
      " * * * * *\n",
      " * * * * *\n",
      " * * * * *\n",
      " * * * * *\n",
      " * * * * *\n"
     ]
    }
   ],
   "source": [
    "n = 5\n",
    "\n",
    "for row in range(n):\n",
    "    for col in range(n):\n",
    "        print(' *', end = '')\n",
    "    print()"
   ]
  },
  {
   "cell_type": "code",
   "execution_count": 95,
   "id": "01bc238b",
   "metadata": {},
   "outputs": [
    {
     "name": "stdout",
     "output_type": "stream",
     "text": [
      " * * * * *\n",
      " * * * *\n",
      " * * *\n",
      " * *\n",
      " *\n"
     ]
    }
   ],
   "source": [
    "n = 5\n",
    "\n",
    "for row in range(n, 0, -1):\n",
    "    for col in range(row):\n",
    "        print(' *', end = '')\n",
    "    print()"
   ]
  },
  {
   "cell_type": "code",
   "execution_count": 98,
   "id": "0c0fda41",
   "metadata": {},
   "outputs": [
    {
     "name": "stdout",
     "output_type": "stream",
     "text": [
      "         *\n",
      "       * *\n",
      "     * * *\n",
      "   * * * *\n",
      " * * * * *\n"
     ]
    }
   ],
   "source": [
    "for row in range(1, n + 1):\n",
    "    for space in range(n - row):\n",
    "        print('  ', end = '')\n",
    "    for star in range(row):\n",
    "        print(' *', end = '')\n",
    "    print()"
   ]
  },
  {
   "cell_type": "code",
   "execution_count": 99,
   "id": "711ded8f",
   "metadata": {},
   "outputs": [
    {
     "name": "stdout",
     "output_type": "stream",
     "text": [
      " * * * * *\n",
      "   * * * *\n",
      "     * * *\n",
      "       * *\n",
      "         *\n"
     ]
    }
   ],
   "source": [
    "for row in range(n, 0, -1):\n",
    "    for space in range(n - row):\n",
    "        print('  ', end = '')\n",
    "    for star in range(row):\n",
    "        print(' *', end = '')\n",
    "    print()"
   ]
  },
  {
   "cell_type": "code",
   "execution_count": null,
   "id": "fac5fb26",
   "metadata": {},
   "outputs": [],
   "source": []
  }
 ],
 "metadata": {
  "kernelspec": {
   "display_name": "Python 3 (ipykernel)",
   "language": "python",
   "name": "python3"
  },
  "language_info": {
   "codemirror_mode": {
    "name": "ipython",
    "version": 3
   },
   "file_extension": ".py",
   "mimetype": "text/x-python",
   "name": "python",
   "nbconvert_exporter": "python",
   "pygments_lexer": "ipython3",
   "version": "3.8.10"
  }
 },
 "nbformat": 4,
 "nbformat_minor": 5
}
