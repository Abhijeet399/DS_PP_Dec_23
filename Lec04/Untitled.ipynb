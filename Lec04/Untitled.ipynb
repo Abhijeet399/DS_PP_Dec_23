{
 "cells": [
  {
   "cell_type": "code",
   "execution_count": 3,
   "id": "fa27ef9d",
   "metadata": {},
   "outputs": [
    {
     "name": "stdout",
     "output_type": "stream",
     "text": [
      " * * * * *\n",
      "     * * * *\n",
      "         * * *\n",
      "             * *\n",
      "                 *\n"
     ]
    }
   ],
   "source": [
    "n = 5\n",
    "for row in range(n, 0, -1):\n",
    "    for space in range(n - row):\n",
    "        print('    ', end = '')\n",
    "    for star in range(row):\n",
    "        print(' *', end = '')\n",
    "    print()"
   ]
  },
  {
   "cell_type": "code",
   "execution_count": 7,
   "id": "f8486f8f",
   "metadata": {},
   "outputs": [
    {
     "name": "stdout",
     "output_type": "stream",
     "text": [
      "* * * * * \n",
      "*       * \n",
      "*       * \n",
      "*       * \n",
      "* * * * * \n"
     ]
    }
   ],
   "source": [
    "for i in range(n):\n",
    "    for j in range(n):\n",
    "        if (i == 0) or (i == n - 1) or (j == 0) or (j == n - 1):\n",
    "            print('* ', end = '')\n",
    "        else:\n",
    "            print('  ', end = '')\n",
    "    print()"
   ]
  },
  {
   "cell_type": "code",
   "execution_count": 11,
   "id": "3c2665ac",
   "metadata": {},
   "outputs": [
    {
     "name": "stdout",
     "output_type": "stream",
     "text": [
      "*       * \n",
      "  *   *   \n",
      "    *     \n",
      "  *   *   \n",
      "*       * \n"
     ]
    }
   ],
   "source": [
    "for i in range(1, n + 1):\n",
    "    for j in range(1, n + 1):\n",
    "        if (i == j) or (i + j == n + 1):\n",
    "            print('* ', end = '')\n",
    "        else:\n",
    "            print('  ', end = '')\n",
    "    print()"
   ]
  },
  {
   "cell_type": "code",
   "execution_count": 18,
   "id": "c1ec0d44",
   "metadata": {},
   "outputs": [
    {
     "name": "stdout",
     "output_type": "stream",
     "text": [
      "Hello World!\n",
      "Hello World!\n",
      "Hello World!\n"
     ]
    }
   ],
   "source": [
    "a = 2\n",
    "while (a < 5):\n",
    "    print('Hello World!')\n",
    "    a += 1"
   ]
  },
  {
   "cell_type": "code",
   "execution_count": 19,
   "id": "101658dd",
   "metadata": {},
   "outputs": [
    {
     "data": {
      "text/plain": [
       "5"
      ]
     },
     "execution_count": 19,
     "metadata": {},
     "output_type": "execute_result"
    }
   ],
   "source": [
    "a"
   ]
  },
  {
   "cell_type": "code",
   "execution_count": 34,
   "id": "fc6a5e2e",
   "metadata": {},
   "outputs": [],
   "source": [
    "num = 13\n",
    "def no_factors(number):\n",
    "    factors = 0\n",
    "    for i in range(1, number + 1):\n",
    "        if number % i == 0:\n",
    "            factors += 1\n",
    "            print(i)\n",
    "    return factors"
   ]
  },
  {
   "cell_type": "code",
   "execution_count": 35,
   "id": "d6a3f519",
   "metadata": {},
   "outputs": [
    {
     "name": "stdout",
     "output_type": "stream",
     "text": [
      "1\n",
      "13\n",
      "2\n",
      "1\n",
      "13\n",
      "Prime\n"
     ]
    }
   ],
   "source": [
    "print(no_factors(num))\n",
    "if no_factors(num) > 2:\n",
    "    print('Not prime')\n",
    "else:\n",
    "    print('Prime')"
   ]
  },
  {
   "cell_type": "code",
   "execution_count": 49,
   "id": "62c78408",
   "metadata": {},
   "outputs": [
    {
     "name": "stdout",
     "output_type": "stream",
     "text": [
      "Prime\n"
     ]
    }
   ],
   "source": [
    "flag = False\n",
    "num = 2\n",
    "\n",
    "for i in range(2, num):\n",
    "    if num % i == 0:\n",
    "        flag = True\n",
    "        break\n",
    "        \n",
    "if flag == False:\n",
    "    print('Prime')\n",
    "else:\n",
    "    print('Not prime')"
   ]
  },
  {
   "cell_type": "code",
   "execution_count": 56,
   "id": "f401951b",
   "metadata": {},
   "outputs": [],
   "source": [
    "# 1. Break\n",
    "# 2. Continue"
   ]
  },
  {
   "cell_type": "code",
   "execution_count": 57,
   "id": "a730813b",
   "metadata": {},
   "outputs": [
    {
     "name": "stdout",
     "output_type": "stream",
     "text": [
      "0 0\n",
      "0 1\n",
      "0 3\n",
      "0 4\n",
      "1 0\n",
      "1 1\n",
      "1 3\n",
      "1 4\n",
      "2 0\n",
      "2 1\n",
      "2 3\n",
      "2 4\n",
      "3 0\n",
      "3 1\n",
      "3 3\n",
      "3 4\n",
      "4 0\n",
      "4 1\n",
      "4 3\n",
      "4 4\n"
     ]
    }
   ],
   "source": [
    "for i in range(5):\n",
    "    for j in range(5):\n",
    "        if j == 2:\n",
    "            continue\n",
    "        print(i, j)"
   ]
  },
  {
   "cell_type": "code",
   "execution_count": 75,
   "id": "eeb03813",
   "metadata": {},
   "outputs": [],
   "source": [
    "def square(num1, num2):\n",
    "#     print(num ** 2)\n",
    "    return num1**2, num2**2"
   ]
  },
  {
   "cell_type": "code",
   "execution_count": 77,
   "id": "1c16ef8b",
   "metadata": {},
   "outputs": [
    {
     "name": "stdout",
     "output_type": "stream",
     "text": [
      "(2025, 400)\n"
     ]
    }
   ],
   "source": [
    "number = 45\n",
    "print(square(number, 20))"
   ]
  },
  {
   "cell_type": "code",
   "execution_count": 78,
   "id": "448bfc57",
   "metadata": {},
   "outputs": [
    {
     "name": "stdout",
     "output_type": "stream",
     "text": [
      "(196, 144)\n"
     ]
    }
   ],
   "source": [
    "print(square(14, 12))"
   ]
  },
  {
   "cell_type": "code",
   "execution_count": 88,
   "id": "17e38a6f",
   "metadata": {},
   "outputs": [],
   "source": [
    "def adder(a, b, c = 0):\n",
    "    print(a, b)\n",
    "    print(a + b + c)"
   ]
  },
  {
   "cell_type": "code",
   "execution_count": 103,
   "id": "3d3ae6a4",
   "metadata": {},
   "outputs": [
    {
     "name": "stdout",
     "output_type": "stream",
     "text": [
      "10 20\n",
      "80\n",
      "None\n"
     ]
    }
   ],
   "source": [
    "print(adder(10, 20, 50))"
   ]
  },
  {
   "cell_type": "code",
   "execution_count": 104,
   "id": "c90155ea",
   "metadata": {},
   "outputs": [
    {
     "name": "stdout",
     "output_type": "stream",
     "text": [
      "1 2 3 4 5 10 50\n"
     ]
    }
   ],
   "source": [
    "print(1, 2, 3, 4, 5, 10, 50)"
   ]
  },
  {
   "cell_type": "code",
   "execution_count": 128,
   "id": "889b7d7d",
   "metadata": {},
   "outputs": [],
   "source": [
    "n = 110\n",
    "a = 110"
   ]
  },
  {
   "cell_type": "code",
   "execution_count": 129,
   "id": "2f5f24c9",
   "metadata": {},
   "outputs": [
    {
     "name": "stdout",
     "output_type": "stream",
     "text": [
      "140705099031728 140705099031728\n"
     ]
    }
   ],
   "source": [
    "print(id(a), id(n))"
   ]
  },
  {
   "cell_type": "code",
   "execution_count": 130,
   "id": "293563e2",
   "metadata": {},
   "outputs": [],
   "source": [
    "a = 100"
   ]
  },
  {
   "cell_type": "code",
   "execution_count": 131,
   "id": "6820c1a0",
   "metadata": {},
   "outputs": [
    {
     "name": "stdout",
     "output_type": "stream",
     "text": [
      "140705099031408 140705099031728\n"
     ]
    }
   ],
   "source": [
    "print(id(a), id(n))"
   ]
  },
  {
   "cell_type": "code",
   "execution_count": null,
   "id": "c083b9e2",
   "metadata": {},
   "outputs": [],
   "source": []
  }
 ],
 "metadata": {
  "kernelspec": {
   "display_name": "Python 3 (ipykernel)",
   "language": "python",
   "name": "python3"
  },
  "language_info": {
   "codemirror_mode": {
    "name": "ipython",
    "version": 3
   },
   "file_extension": ".py",
   "mimetype": "text/x-python",
   "name": "python",
   "nbconvert_exporter": "python",
   "pygments_lexer": "ipython3",
   "version": "3.8.10"
  }
 },
 "nbformat": 4,
 "nbformat_minor": 5
}
