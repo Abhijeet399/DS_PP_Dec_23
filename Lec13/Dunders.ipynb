{
 "cells": [
  {
   "cell_type": "code",
   "execution_count": 37,
   "id": "6fa9d484",
   "metadata": {},
   "outputs": [
    {
     "name": "stdout",
     "output_type": "stream",
     "text": [
      "Enter?True\n"
     ]
    }
   ],
   "source": [
    "class Person:\n",
    "    \n",
    "    __mammel = bool(input('Enter?'))\n",
    "    \n",
    "    def __init__(self, name, height):\n",
    "        self.name = name\n",
    "        self._height = height\n",
    "        self.__money = int(input('Money?'))\n",
    "        print(self.__money)\n",
    "    \n",
    "    def calculator(self, a, b, operation):\n",
    "        if operation == '+':\n",
    "            print(a + b)"
   ]
  },
  {
   "cell_type": "code",
   "execution_count": 40,
   "id": "5cec91bf",
   "metadata": {},
   "outputs": [
    {
     "name": "stdout",
     "output_type": "stream",
     "text": [
      "Money?100\n",
      "100\n"
     ]
    }
   ],
   "source": [
    "abhijeet = Person('Abhijeet', 5.85)"
   ]
  },
  {
   "cell_type": "code",
   "execution_count": 41,
   "id": "880da29a",
   "metadata": {},
   "outputs": [
    {
     "data": {
      "text/plain": [
       "'Abhijeet'"
      ]
     },
     "execution_count": 41,
     "metadata": {},
     "output_type": "execute_result"
    }
   ],
   "source": [
    "abhijeet.name"
   ]
  },
  {
   "cell_type": "code",
   "execution_count": 42,
   "id": "d5adf3d8",
   "metadata": {},
   "outputs": [
    {
     "name": "stdout",
     "output_type": "stream",
     "text": [
      "Money?200\n",
      "200\n"
     ]
    },
    {
     "ename": "AttributeError",
     "evalue": "'Person' object has no attribute '__mammel'",
     "output_type": "error",
     "traceback": [
      "\u001b[1;31m---------------------------------------------------------------------------\u001b[0m",
      "\u001b[1;31mAttributeError\u001b[0m                            Traceback (most recent call last)",
      "Cell \u001b[1;32mIn[42], line 1\u001b[0m\n\u001b[1;32m----> 1\u001b[0m \u001b[38;5;28mid\u001b[39m(\u001b[43mPerson\u001b[49m\u001b[43m(\u001b[49m\u001b[38;5;241;43m12\u001b[39;49m\u001b[43m,\u001b[49m\u001b[43m \u001b[49m\u001b[38;5;241;43m34\u001b[39;49m\u001b[43m)\u001b[49m\u001b[38;5;241;43m.\u001b[39;49m\u001b[43m__mammel\u001b[49m) \u001b[38;5;241m==\u001b[39m \u001b[38;5;28mid\u001b[39m(abhijeet\u001b[38;5;241m.\u001b[39m__mammel)\n",
      "\u001b[1;31mAttributeError\u001b[0m: 'Person' object has no attribute '__mammel'"
     ]
    }
   ],
   "source": [
    "id(Person(12, 34).__mammel) == id(abhijeet.__mammel)"
   ]
  },
  {
   "cell_type": "code",
   "execution_count": 43,
   "id": "def9650c",
   "metadata": {},
   "outputs": [
    {
     "ename": "AttributeError",
     "evalue": "'Person' object has no attribute '__money'",
     "output_type": "error",
     "traceback": [
      "\u001b[1;31m---------------------------------------------------------------------------\u001b[0m",
      "\u001b[1;31mAttributeError\u001b[0m                            Traceback (most recent call last)",
      "Cell \u001b[1;32mIn[43], line 1\u001b[0m\n\u001b[1;32m----> 1\u001b[0m \u001b[38;5;28mprint\u001b[39m(\u001b[43mabhijeet\u001b[49m\u001b[38;5;241;43m.\u001b[39;49m\u001b[43m__money\u001b[49m)\n",
      "\u001b[1;31mAttributeError\u001b[0m: 'Person' object has no attribute '__money'"
     ]
    }
   ],
   "source": [
    "print(abhijeet.__money)"
   ]
  },
  {
   "cell_type": "code",
   "execution_count": 44,
   "id": "8f6d4a2e",
   "metadata": {},
   "outputs": [
    {
     "ename": "ZeroDivisionError",
     "evalue": "division by zero",
     "output_type": "error",
     "traceback": [
      "\u001b[1;31m---------------------------------------------------------------------------\u001b[0m",
      "\u001b[1;31mZeroDivisionError\u001b[0m                         Traceback (most recent call last)",
      "Cell \u001b[1;32mIn[44], line 1\u001b[0m\n\u001b[1;32m----> 1\u001b[0m \u001b[38;5;28mprint\u001b[39m(\u001b[38;5;241;43m2\u001b[39;49m\u001b[38;5;241;43m/\u001b[39;49m\u001b[38;5;241;43m0\u001b[39;49m)\n",
      "\u001b[1;31mZeroDivisionError\u001b[0m: division by zero"
     ]
    }
   ],
   "source": [
    "print(2/0)"
   ]
  },
  {
   "cell_type": "code",
   "execution_count": 45,
   "id": "9f4c7fb8",
   "metadata": {},
   "outputs": [
    {
     "name": "stdout",
     "output_type": "stream",
     "text": [
      "<class 'type'>\n"
     ]
    }
   ],
   "source": [
    "print(type(NameError))"
   ]
  },
  {
   "cell_type": "code",
   "execution_count": 46,
   "id": "77726384",
   "metadata": {},
   "outputs": [
    {
     "name": "stdout",
     "output_type": "stream",
     "text": [
      "<class 'type'>\n"
     ]
    }
   ],
   "source": [
    "print(type(Exception))"
   ]
  },
  {
   "cell_type": "code",
   "execution_count": 47,
   "id": "ec5c506a",
   "metadata": {},
   "outputs": [],
   "source": [
    "a = 10\n",
    "b = 15"
   ]
  },
  {
   "cell_type": "code",
   "execution_count": 48,
   "id": "7ad4ac4a",
   "metadata": {},
   "outputs": [
    {
     "data": {
      "text/plain": [
       "False"
      ]
     },
     "execution_count": 48,
     "metadata": {},
     "output_type": "execute_result"
    }
   ],
   "source": [
    "id(a) == id(b)"
   ]
  },
  {
   "cell_type": "code",
   "execution_count": 49,
   "id": "3f589960",
   "metadata": {},
   "outputs": [
    {
     "name": "stdout",
     "output_type": "stream",
     "text": [
      "<class 'int'> <class 'int'>\n"
     ]
    }
   ],
   "source": [
    "print(type(a), type(b))"
   ]
  },
  {
   "cell_type": "code",
   "execution_count": 50,
   "id": "e56bd671",
   "metadata": {},
   "outputs": [
    {
     "name": "stdout",
     "output_type": "stream",
     "text": [
      "Money?200\n",
      "200\n"
     ]
    }
   ],
   "source": [
    "amit = Person('Amit', 5.10)"
   ]
  },
  {
   "cell_type": "code",
   "execution_count": 51,
   "id": "a3fff86d",
   "metadata": {},
   "outputs": [
    {
     "name": "stdout",
     "output_type": "stream",
     "text": [
      "<class '__main__.Person'> <class '__main__.Person'>\n"
     ]
    }
   ],
   "source": [
    "print(type(abhijeet), type(amit))"
   ]
  },
  {
   "cell_type": "code",
   "execution_count": 52,
   "id": "936b3ee9",
   "metadata": {},
   "outputs": [
    {
     "name": "stdout",
     "output_type": "stream",
     "text": [
      "25\n"
     ]
    }
   ],
   "source": [
    "print(a + b)"
   ]
  },
  {
   "cell_type": "code",
   "execution_count": 53,
   "id": "add5a3db",
   "metadata": {},
   "outputs": [
    {
     "ename": "TypeError",
     "evalue": "unsupported operand type(s) for +: 'Person' and 'Person'",
     "output_type": "error",
     "traceback": [
      "\u001b[1;31m---------------------------------------------------------------------------\u001b[0m",
      "\u001b[1;31mTypeError\u001b[0m                                 Traceback (most recent call last)",
      "Cell \u001b[1;32mIn[53], line 1\u001b[0m\n\u001b[1;32m----> 1\u001b[0m \u001b[38;5;28mprint\u001b[39m(\u001b[43mabhijeet\u001b[49m\u001b[43m \u001b[49m\u001b[38;5;241;43m+\u001b[39;49m\u001b[43m \u001b[49m\u001b[43mamit\u001b[49m)\n",
      "\u001b[1;31mTypeError\u001b[0m: unsupported operand type(s) for +: 'Person' and 'Person'"
     ]
    }
   ],
   "source": [
    "print(abhijeet + amit)"
   ]
  },
  {
   "cell_type": "code",
   "execution_count": 54,
   "id": "82721617",
   "metadata": {},
   "outputs": [
    {
     "name": "stdout",
     "output_type": "stream",
     "text": [
      "70\n"
     ]
    }
   ],
   "source": [
    "abhijeet.calculator(20, 50, '+')"
   ]
  },
  {
   "cell_type": "code",
   "execution_count": 56,
   "id": "89075c13",
   "metadata": {},
   "outputs": [],
   "source": [
    "class Person:\n",
    "    \n",
    "    __mammel = True\n",
    "    \n",
    "    def __init__(self, name, height):\n",
    "        self.name = name\n",
    "        self.height = height\n",
    "        self.__money = int(input('Money?'))\n",
    "        print(self.__money)\n",
    "    \n",
    "    def __add__(self, other):\n",
    "        return self.height + other.height"
   ]
  },
  {
   "cell_type": "code",
   "execution_count": 57,
   "id": "35e5a90c",
   "metadata": {},
   "outputs": [
    {
     "name": "stdout",
     "output_type": "stream",
     "text": [
      "Money?100\n",
      "100\n",
      "Money?600\n",
      "600\n"
     ]
    }
   ],
   "source": [
    "abhijeet = Person('Abhijeet', 5.85)\n",
    "amit = Person('Amit', 5.10)"
   ]
  },
  {
   "cell_type": "code",
   "execution_count": 59,
   "id": "2b77e849",
   "metadata": {},
   "outputs": [
    {
     "name": "stdout",
     "output_type": "stream",
     "text": [
      "25\n",
      "10.95\n"
     ]
    }
   ],
   "source": [
    "print(a + b)\n",
    "print(abhijeet + amit)"
   ]
  },
  {
   "cell_type": "code",
   "execution_count": 61,
   "id": "23cd72cc",
   "metadata": {},
   "outputs": [
    {
     "name": "stdout",
     "output_type": "stream",
     "text": [
      "<class 'int'>\n"
     ]
    }
   ],
   "source": [
    "print(type(1))"
   ]
  },
  {
   "cell_type": "code",
   "execution_count": 213,
   "id": "db675c5f",
   "metadata": {},
   "outputs": [],
   "source": [
    "class Apna_data_type:\n",
    "    \n",
    "    def __init__(self, value):\n",
    "        self.value = value\n",
    "    \n",
    "    def __add__(self, other):\n",
    "        if type(other) == int and type(self.value) == int:\n",
    "            return self.value + other\n",
    "        \n",
    "        elif type(other) == str and type(self.value) == int:\n",
    "            return str(self.value) + other\n",
    "        \n",
    "        elif type(other) == type(self):\n",
    "            if type(self.value) == int and type(other.value) == str:\n",
    "                return str(self.value) + other.value\n",
    "        else:\n",
    "            return 'Not a valid operation'\n",
    "    \n",
    "    def __sub__(self, other):\n",
    "        return self.value - other\n",
    "    \n",
    "    def __str__(self):\n",
    "        return str(self.value)"
   ]
  },
  {
   "cell_type": "code",
   "execution_count": 214,
   "id": "48c91d1b",
   "metadata": {},
   "outputs": [],
   "source": [
    "var = Apna_data_type(50)\n",
    "temp = Apna_data_type('12')"
   ]
  },
  {
   "cell_type": "code",
   "execution_count": 215,
   "id": "3796e140",
   "metadata": {},
   "outputs": [
    {
     "data": {
      "text/plain": [
       "50"
      ]
     },
     "execution_count": 215,
     "metadata": {},
     "output_type": "execute_result"
    }
   ],
   "source": [
    "var.value"
   ]
  },
  {
   "cell_type": "code",
   "execution_count": 216,
   "id": "6247f95c",
   "metadata": {},
   "outputs": [
    {
     "name": "stdout",
     "output_type": "stream",
     "text": [
      "250\n"
     ]
    }
   ],
   "source": [
    "print(var + 200)"
   ]
  },
  {
   "cell_type": "code",
   "execution_count": 217,
   "id": "8b21eae9",
   "metadata": {},
   "outputs": [
    {
     "name": "stdout",
     "output_type": "stream",
     "text": [
      "50hello\n"
     ]
    }
   ],
   "source": [
    "print(var + \"hello\")"
   ]
  },
  {
   "cell_type": "code",
   "execution_count": 218,
   "id": "fc0e8df3",
   "metadata": {},
   "outputs": [
    {
     "name": "stdout",
     "output_type": "stream",
     "text": [
      "5012\n"
     ]
    }
   ],
   "source": [
    "print(var + temp)"
   ]
  },
  {
   "cell_type": "code",
   "execution_count": 219,
   "id": "875bee4d",
   "metadata": {},
   "outputs": [
    {
     "name": "stdout",
     "output_type": "stream",
     "text": [
      "Not a valid operation\n"
     ]
    }
   ],
   "source": [
    "print(var + [123])"
   ]
  },
  {
   "cell_type": "code",
   "execution_count": 220,
   "id": "5980817b",
   "metadata": {},
   "outputs": [
    {
     "name": "stdout",
     "output_type": "stream",
     "text": [
      "None\n"
     ]
    }
   ],
   "source": [
    "print(temp + var)"
   ]
  },
  {
   "cell_type": "code",
   "execution_count": 221,
   "id": "d6d27564",
   "metadata": {},
   "outputs": [
    {
     "name": "stdout",
     "output_type": "stream",
     "text": [
      "48\n"
     ]
    }
   ],
   "source": [
    "print(var - 2)"
   ]
  },
  {
   "cell_type": "code",
   "execution_count": 222,
   "id": "4979f7ca",
   "metadata": {},
   "outputs": [],
   "source": [
    "# '''\n",
    "# O| | \n",
    "# -----\n",
    "#  |X| \n",
    "# -----\n",
    "#  | |O\n",
    "# '''"
   ]
  },
  {
   "cell_type": "code",
   "execution_count": 223,
   "id": "58124292",
   "metadata": {},
   "outputs": [
    {
     "name": "stdout",
     "output_type": "stream",
     "text": [
      "<class '__main__.Apna_data_type'>\n"
     ]
    }
   ],
   "source": [
    "print(Apna_data_type)"
   ]
  },
  {
   "cell_type": "code",
   "execution_count": 224,
   "id": "2b16a17f",
   "metadata": {},
   "outputs": [],
   "source": [
    "import numpy.random\n",
    "import numpy"
   ]
  },
  {
   "cell_type": "code",
   "execution_count": 225,
   "id": "73e6335a",
   "metadata": {},
   "outputs": [
    {
     "name": "stdout",
     "output_type": "stream",
     "text": [
      "<module 'numpy.random' from 'C:\\\\Users\\\\bhatt\\\\AppData\\\\Local\\\\Packages\\\\PythonSoftwareFoundation.Python.3.8_qbz5n2kfra8p0\\\\LocalCache\\\\local-packages\\\\Python38\\\\site-packages\\\\numpy\\\\random\\\\__init__.py'>\n"
     ]
    }
   ],
   "source": [
    "print(numpy.random)"
   ]
  },
  {
   "cell_type": "code",
   "execution_count": 226,
   "id": "4b4ea9a1",
   "metadata": {},
   "outputs": [
    {
     "name": "stdout",
     "output_type": "stream",
     "text": [
      "50\n"
     ]
    }
   ],
   "source": [
    "print(str(50))"
   ]
  },
  {
   "cell_type": "code",
   "execution_count": 227,
   "id": "278a2a9c",
   "metadata": {},
   "outputs": [
    {
     "data": {
      "text/plain": [
       "'50'"
      ]
     },
     "execution_count": 227,
     "metadata": {},
     "output_type": "execute_result"
    }
   ],
   "source": [
    "str(var)"
   ]
  },
  {
   "cell_type": "code",
   "execution_count": 228,
   "id": "ec0a4046",
   "metadata": {},
   "outputs": [
    {
     "data": {
      "text/plain": [
       "'50'"
      ]
     },
     "execution_count": 228,
     "metadata": {},
     "output_type": "execute_result"
    }
   ],
   "source": [
    "str(50)"
   ]
  },
  {
   "cell_type": "code",
   "execution_count": 229,
   "id": "82d61748",
   "metadata": {},
   "outputs": [
    {
     "data": {
      "text/plain": [
       "'50'"
      ]
     },
     "execution_count": 229,
     "metadata": {},
     "output_type": "execute_result"
    }
   ],
   "source": [
    "str(var)"
   ]
  },
  {
   "cell_type": "code",
   "execution_count": null,
   "id": "8259372a",
   "metadata": {},
   "outputs": [],
   "source": []
  }
 ],
 "metadata": {
  "kernelspec": {
   "display_name": "Python 3 (ipykernel)",
   "language": "python",
   "name": "python3"
  },
  "language_info": {
   "codemirror_mode": {
    "name": "ipython",
    "version": 3
   },
   "file_extension": ".py",
   "mimetype": "text/x-python",
   "name": "python",
   "nbconvert_exporter": "python",
   "pygments_lexer": "ipython3",
   "version": "3.8.10"
  }
 },
 "nbformat": 4,
 "nbformat_minor": 5
}
