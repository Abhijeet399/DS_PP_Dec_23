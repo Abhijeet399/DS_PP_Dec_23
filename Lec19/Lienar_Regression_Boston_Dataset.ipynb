{
 "cells": [
  {
   "cell_type": "code",
   "execution_count": 1,
   "id": "7a9f4a19",
   "metadata": {},
   "outputs": [],
   "source": [
    "import numpy as np\n",
    "import pandas as pd\n",
    "import matplotlib.pyplot as plt\n",
    "from sklearn.datasets import load_boston"
   ]
  },
  {
   "cell_type": "code",
   "execution_count": 2,
   "id": "f98661a7",
   "metadata": {},
   "outputs": [],
   "source": [
    "# data = pd.read_csv('')"
   ]
  },
  {
   "cell_type": "code",
   "execution_count": 3,
   "id": "c893514a",
   "metadata": {},
   "outputs": [
    {
     "name": "stderr",
     "output_type": "stream",
     "text": [
      "C:\\Users\\bhatt\\AppData\\Local\\Packages\\PythonSoftwareFoundation.Python.3.8_qbz5n2kfra8p0\\LocalCache\\local-packages\\Python38\\site-packages\\sklearn\\utils\\deprecation.py:87: FutureWarning: Function load_boston is deprecated; `load_boston` is deprecated in 1.0 and will be removed in 1.2.\n",
      "\n",
      "    The Boston housing prices dataset has an ethical problem. You can refer to\n",
      "    the documentation of this function for further details.\n",
      "\n",
      "    The scikit-learn maintainers therefore strongly discourage the use of this\n",
      "    dataset unless the purpose of the code is to study and educate about\n",
      "    ethical issues in data science and machine learning.\n",
      "\n",
      "    In this special case, you can fetch the dataset from the original\n",
      "    source::\n",
      "\n",
      "        import pandas as pd\n",
      "        import numpy as np\n",
      "\n",
      "\n",
      "        data_url = \"http://lib.stat.cmu.edu/datasets/boston\"\n",
      "        raw_df = pd.read_csv(data_url, sep=\"\\s+\", skiprows=22, header=None)\n",
      "        data = np.hstack([raw_df.values[::2, :], raw_df.values[1::2, :2]])\n",
      "        target = raw_df.values[1::2, 2]\n",
      "\n",
      "    Alternative datasets include the California housing dataset (i.e.\n",
      "    :func:`~sklearn.datasets.fetch_california_housing`) and the Ames housing\n",
      "    dataset. You can load the datasets as follows::\n",
      "\n",
      "        from sklearn.datasets import fetch_california_housing\n",
      "        housing = fetch_california_housing()\n",
      "\n",
      "    for the California housing dataset and::\n",
      "\n",
      "        from sklearn.datasets import fetch_openml\n",
      "        housing = fetch_openml(name=\"house_prices\", as_frame=True)\n",
      "\n",
      "    for the Ames housing dataset.\n",
      "    \n",
      "  warnings.warn(msg, category=FutureWarning)\n"
     ]
    }
   ],
   "source": [
    "data = load_boston()"
   ]
  },
  {
   "cell_type": "code",
   "execution_count": 4,
   "id": "138043ba",
   "metadata": {},
   "outputs": [],
   "source": [
    "import pandas as pd\n",
    "import numpy as np\n",
    "\n",
    "\n",
    "data_url = \"http://lib.stat.cmu.edu/datasets/boston\"\n",
    "raw_df = pd.read_csv(data_url, sep=\"\\s+\", skiprows=22, header=None)\n",
    "data = np.hstack([raw_df.values[::2, :], raw_df.values[1::2, :2]])\n",
    "target = raw_df.values[1::2, 2]"
   ]
  },
  {
   "cell_type": "code",
   "execution_count": 5,
   "id": "9e6cc259",
   "metadata": {},
   "outputs": [],
   "source": [
    "# data = pd.read_csv('................')"
   ]
  },
  {
   "cell_type": "code",
   "execution_count": 6,
   "id": "d180f271",
   "metadata": {},
   "outputs": [],
   "source": [
    "# target = data['MEDV']"
   ]
  },
  {
   "cell_type": "code",
   "execution_count": 7,
   "id": "41db7255",
   "metadata": {},
   "outputs": [],
   "source": [
    "# data = data.drop(['MEDV'], axis = 1)"
   ]
  },
  {
   "cell_type": "code",
   "execution_count": 8,
   "id": "44b79ae6",
   "metadata": {},
   "outputs": [],
   "source": [
    "# data = np.array(data)\n",
    "# target = np.array(target)"
   ]
  },
  {
   "cell_type": "code",
   "execution_count": 9,
   "id": "5b84592d",
   "metadata": {},
   "outputs": [
    {
     "data": {
      "text/plain": [
       "(506, 13)"
      ]
     },
     "execution_count": 9,
     "metadata": {},
     "output_type": "execute_result"
    }
   ],
   "source": [
    "data.shape"
   ]
  },
  {
   "cell_type": "code",
   "execution_count": 10,
   "id": "dc39a572",
   "metadata": {},
   "outputs": [
    {
     "data": {
      "text/plain": [
       "(506,)"
      ]
     },
     "execution_count": 10,
     "metadata": {},
     "output_type": "execute_result"
    }
   ],
   "source": [
    "target.shape"
   ]
  },
  {
   "cell_type": "code",
   "execution_count": 11,
   "id": "ca814ba7",
   "metadata": {},
   "outputs": [],
   "source": [
    "u = np.mean(data, axis = 0)\n",
    "std = np.std(data, axis = 0)"
   ]
  },
  {
   "cell_type": "code",
   "execution_count": 12,
   "id": "1bf80d5a",
   "metadata": {},
   "outputs": [],
   "source": [
    "data = (data - u)/std"
   ]
  },
  {
   "cell_type": "code",
   "execution_count": 13,
   "id": "4c0471b8",
   "metadata": {},
   "outputs": [
    {
     "data": {
      "text/plain": [
       "(13,)"
      ]
     },
     "execution_count": 13,
     "metadata": {},
     "output_type": "execute_result"
    }
   ],
   "source": [
    "u.shape"
   ]
  },
  {
   "cell_type": "code",
   "execution_count": 14,
   "id": "89cca8c6",
   "metadata": {},
   "outputs": [],
   "source": [
    "ones = np.ones((data.shape[0], 1))"
   ]
  },
  {
   "cell_type": "code",
   "execution_count": 15,
   "id": "bd38209f",
   "metadata": {},
   "outputs": [],
   "source": [
    "data = np.hstack((ones, data))"
   ]
  },
  {
   "cell_type": "code",
   "execution_count": 16,
   "id": "0fd99b44",
   "metadata": {},
   "outputs": [
    {
     "data": {
      "text/plain": [
       "(506, 14)"
      ]
     },
     "execution_count": 16,
     "metadata": {},
     "output_type": "execute_result"
    }
   ],
   "source": [
    "data.shape"
   ]
  },
  {
   "cell_type": "code",
   "execution_count": 17,
   "id": "03648699",
   "metadata": {},
   "outputs": [],
   "source": [
    "split = 0.8\n",
    "X_train = data[:int(data.shape[0] * split), :]\n",
    "Y_train = target[:int(target.shape[0] * split)]\n",
    "X_test = data[int(data.shape[0] * split):, :]\n",
    "Y_test = target[int(target.shape[0] * split):]"
   ]
  },
  {
   "cell_type": "code",
   "execution_count": 18,
   "id": "6752a0e6",
   "metadata": {},
   "outputs": [
    {
     "name": "stdout",
     "output_type": "stream",
     "text": [
      "(404, 14) (102, 14) (404,) (102,)\n"
     ]
    }
   ],
   "source": [
    "print(X_train.shape, X_test.shape, Y_train.shape, Y_test.shape)"
   ]
  },
  {
   "cell_type": "code",
   "execution_count": 19,
   "id": "f39d7646",
   "metadata": {},
   "outputs": [],
   "source": [
    "def hypothesis(X, weight):\n",
    "    h_x = 0\n",
    "    for j in range(X.shape[0]):\n",
    "        h_x += X[j] * weight[j]\n",
    "    return h_x"
   ]
  },
  {
   "cell_type": "code",
   "execution_count": 20,
   "id": "aeaa9b25",
   "metadata": {},
   "outputs": [],
   "source": [
    "def loss(X, Y, weight):\n",
    "    error = 0\n",
    "    \n",
    "    for i in range(X.shape[0]):\n",
    "        pred = hypothesis(X[i], weight)\n",
    "        error += (pred - Y[i])**2\n",
    "        \n",
    "    return error/X.shape[0]"
   ]
  },
  {
   "cell_type": "code",
   "execution_count": 21,
   "id": "d19f2979",
   "metadata": {},
   "outputs": [],
   "source": [
    "def gradient(X, Y, weight):\n",
    "    grad = np.zeros((X.shape[1], 1))\n",
    "    \n",
    "    for j in range(X.shape[1]):\n",
    "        for i in range(X.shape[0]):\n",
    "            pred = hypothesis(X[i], weight)\n",
    "            \n",
    "            grad[j] += (pred - Y[i]) * X[i, j]\n",
    "            \n",
    "    return grad/X.shape[0]"
   ]
  },
  {
   "cell_type": "code",
   "execution_count": 22,
   "id": "ce74bd9f",
   "metadata": {},
   "outputs": [],
   "source": [
    "def gradient_descent(X, Y):\n",
    "    weights = np.zeros((X.shape[1], 1))\n",
    "    epochs = 1000\n",
    "    lr_rate = 0.03\n",
    "    list_loss = []\n",
    "    \n",
    "    for i in range(epochs):\n",
    "        grad = gradient(X, Y, weights)\n",
    "        list_loss.append(loss(X, Y, weights))\n",
    "        print(f'On: {i}', end = '\\r')\n",
    "        for j in range(X.shape[1]):\n",
    "            weights[j] = weights[j] - lr_rate * grad[j]\n",
    "    return weights, list_loss"
   ]
  },
  {
   "cell_type": "code",
   "execution_count": 23,
   "id": "c6fb6b7d",
   "metadata": {},
   "outputs": [
    {
     "name": "stdout",
     "output_type": "stream",
     "text": [
      "On: 999\r"
     ]
    }
   ],
   "source": [
    "weights, list_loss = gradient_descent(X_train, Y_train)"
   ]
  },
  {
   "cell_type": "code",
   "execution_count": 24,
   "id": "591c2e93",
   "metadata": {},
   "outputs": [
    {
     "data": {
      "text/plain": [
       "array([[23.03829851],\n",
       "       [-1.62971667],\n",
       "       [ 0.98212177],\n",
       "       [ 0.19169693],\n",
       "       [ 0.51555901],\n",
       "       [-1.6165734 ],\n",
       "       [ 3.34953527],\n",
       "       [ 0.05169315],\n",
       "       [-2.74332546],\n",
       "       [ 3.26287864],\n",
       "       [-1.94644908],\n",
       "       [-1.71584799],\n",
       "       [ 0.03474858],\n",
       "       [-3.81536968]])"
      ]
     },
     "execution_count": 24,
     "metadata": {},
     "output_type": "execute_result"
    }
   ],
   "source": [
    "weights"
   ]
  },
  {
   "cell_type": "code",
   "execution_count": 25,
   "id": "e73d1d04",
   "metadata": {},
   "outputs": [
    {
     "data": {
      "text/plain": [
       "[<matplotlib.lines.Line2D at 0x23eb610ba60>]"
      ]
     },
     "execution_count": 25,
     "metadata": {},
     "output_type": "execute_result"
    },
    {
     "data": {
      "image/png": "[encoded data removed]",
      "text/plain": [
       "<Figure size 640x480 with 1 Axes>"
      ]
     },
     "metadata": {},
     "output_type": "display_data"
    }
   ],
   "source": [
    "plt.plot(list_loss)"
   ]
  },
  {
   "cell_type": "code",
   "execution_count": 26,
   "id": "6f6d3550",
   "metadata": {},
   "outputs": [],
   "source": [
    "pred = []\n",
    "\n",
    "for i in range(X_test.shape[0]):\n",
    "    pred.append(hypothesis(X_test[i], weights))"
   ]
  },
  {
   "cell_type": "code",
   "execution_count": 27,
   "id": "a7e25db0",
   "metadata": {},
   "outputs": [
    {
     "name": "stdout",
     "output_type": "stream",
     "text": [
      "8.5 [5.94882022]\n",
      "5.0 [4.30736368]\n",
      "11.9 [6.48645843]\n",
      "27.9 [21.00464363]\n",
      "17.2 [14.91243316]\n",
      "27.5 [22.95037975]\n",
      "15.0 [15.93800074]\n",
      "17.2 [21.18739245]\n",
      "17.9 [3.53267278]\n",
      "16.3 [11.84598615]\n",
      "7.0 [-4.94566956]\n",
      "7.2 [13.62192055]\n",
      "7.5 [18.40187734]\n",
      "10.4 [8.29082494]\n",
      "8.8 [5.37564147]\n",
      "8.4 [19.52057565]\n",
      "16.7 [21.87756024]\n",
      "14.2 [20.32351647]\n",
      "20.8 [19.84515779]\n",
      "13.4 [17.8425167]\n",
      "11.7 [18.56163277]\n",
      "8.3 [13.85511341]\n",
      "10.2 [20.06440866]\n",
      "10.9 [16.49360624]\n",
      "11.0 [18.3862985]\n",
      "9.5 [17.5115036]\n",
      "14.5 [22.17122927]\n",
      "14.1 [23.05943135]\n",
      "16.1 [25.71954739]\n",
      "14.3 [21.76785587]\n",
      "11.7 [19.79641888]\n",
      "13.4 [17.74841404]\n",
      "9.6 [19.24556932]\n",
      "8.7 [13.25581404]\n",
      "8.4 [8.57860558]\n",
      "12.8 [14.02023635]\n",
      "10.5 [12.87362437]\n",
      "17.1 [19.1499129]\n",
      "18.4 [20.68164314]\n",
      "15.4 [19.95776278]\n",
      "10.8 [13.81288692]\n",
      "11.8 [16.80345135]\n",
      "14.9 [20.38028543]\n",
      "12.6 [19.8459915]\n",
      "14.1 [19.04134937]\n",
      "13.0 [19.92316654]\n",
      "13.4 [22.35384637]\n",
      "15.2 [22.09662451]\n",
      "16.1 [20.68348231]\n",
      "17.8 [25.49814694]\n",
      "14.9 [20.82438589]\n",
      "14.1 [21.15039381]\n",
      "12.7 [17.87413658]\n",
      "13.5 [17.84488731]\n",
      "14.9 [20.15493901]\n",
      "20.0 [20.23809313]\n",
      "16.4 [22.76685894]\n",
      "17.7 [22.46342223]\n",
      "19.5 [21.74711495]\n",
      "20.2 [24.74323519]\n",
      "21.4 [21.89787506]\n",
      "19.9 [19.96071226]\n",
      "19.0 [19.35297969]\n",
      "19.1 [18.8026508]\n",
      "19.1 [17.57285532]\n",
      "20.1 [18.92790798]\n",
      "19.9 [21.70781166]\n",
      "19.6 [24.48767817]\n",
      "23.2 [24.33702249]\n",
      "29.8 [28.14635132]\n",
      "13.8 [17.21947508]\n",
      "13.3 [18.1312435]\n",
      "16.7 [22.33529393]\n",
      "12.0 [11.70293834]\n",
      "14.6 [20.41445761]\n",
      "21.4 [22.74936607]\n",
      "23.0 [24.87932471]\n",
      "23.7 [29.06780405]\n",
      "25.0 [30.83974473]\n",
      "21.8 [22.40450809]\n",
      "20.6 [21.21682254]\n",
      "21.2 [24.22780911]\n",
      "19.1 [21.18123721]\n",
      "20.6 [22.69685161]\n",
      "15.2 [11.67320989]\n",
      "7.0 [8.39167707]\n",
      "8.1 [3.70357399]\n",
      "13.6 [14.14854036]\n",
      "20.1 [16.33094037]\n",
      "21.8 [20.3039576]\n",
      "24.5 [20.46289736]\n",
      "23.1 [16.54532862]\n",
      "19.7 [13.37740366]\n",
      "18.3 [18.9474469]\n",
      "21.2 [21.27868155]\n",
      "17.5 [18.00367492]\n",
      "16.8 [20.47583976]\n",
      "22.4 [23.99471908]\n",
      "20.6 [22.32147581]\n",
      "23.9 [28.42586332]\n",
      "22.0 [26.80569865]\n",
      "11.9 [22.25726942]\n"
     ]
    }
   ],
   "source": [
    "for i in range(Y_test.shape[0]):\n",
    "    print(Y_test[i], pred[i])"
   ]
  },
  {
   "cell_type": "code",
   "execution_count": 28,
   "id": "1810085c",
   "metadata": {},
   "outputs": [
    {
     "data": {
      "text/plain": [
       "array([22.84297144])"
      ]
     },
     "execution_count": 28,
     "metadata": {},
     "output_type": "execute_result"
    }
   ],
   "source": [
    "list_loss[-1]"
   ]
  },
  {
   "cell_type": "code",
   "execution_count": null,
   "id": "b33d77f6",
   "metadata": {},
   "outputs": [],
   "source": []
  }
 ],
 "metadata": {
  "kernelspec": {
   "display_name": "Python 3 (ipykernel)",
   "language": "python",
   "name": "python3"
  },
  "language_info": {
   "codemirror_mode": {
    "name": "ipython",
    "version": 3
   },
   "file_extension": ".py",
   "mimetype": "text/x-python",
   "name": "python",
   "nbconvert_exporter": "python",
   "pygments_lexer": "ipython3",
   "version": "3.8.10"
  }
 },
 "nbformat": 4,
 "nbformat_minor": 5
}
