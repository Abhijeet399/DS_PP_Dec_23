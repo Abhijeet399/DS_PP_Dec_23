{
 "cells": [
  {
   "cell_type": "code",
   "execution_count": 4,
   "id": "05c54b92",
   "metadata": {},
   "outputs": [
    {
     "name": "stdout",
     "output_type": "stream",
     "text": [
      "True\n"
     ]
    }
   ],
   "source": [
    "print(isinstance(5.04, float))"
   ]
  },
  {
   "cell_type": "code",
   "execution_count": 24,
   "id": "e13f46e3",
   "metadata": {},
   "outputs": [],
   "source": [
    "class Person:\n",
    "    mammel = True\n",
    "    name = 'Rahul'\n",
    "    age = 24\n",
    "    gender = 'Male'\n",
    "    \n",
    "    def updation(self, updated_name, updated_age, updated_gender):\n",
    "        print(id(self), id(Person))\n",
    "        self.name = updated_name\n",
    "        self.age = updated_age\n",
    "        self.gender = updated_gender"
   ]
  },
  {
   "cell_type": "code",
   "execution_count": 25,
   "id": "77f6ebd7",
   "metadata": {},
   "outputs": [
    {
     "name": "stdout",
     "output_type": "stream",
     "text": [
      "1949064050864 1949029658032\n"
     ]
    }
   ],
   "source": [
    "abhijeet = Person()\n",
    "abhijeet.updation('Abhijeet', 23, 'Male')"
   ]
  },
  {
   "cell_type": "code",
   "execution_count": 18,
   "id": "54949f5e",
   "metadata": {},
   "outputs": [
    {
     "data": {
      "text/plain": [
       "1949051526352"
      ]
     },
     "execution_count": 18,
     "metadata": {},
     "output_type": "execute_result"
    }
   ],
   "source": [
    "int(0x000001C5CC861CD0)"
   ]
  },
  {
   "cell_type": "code",
   "execution_count": 27,
   "id": "9943471c",
   "metadata": {},
   "outputs": [
    {
     "name": "stdout",
     "output_type": "stream",
     "text": [
      "Rahul Abhijeet\n"
     ]
    }
   ],
   "source": [
    "print(Person.name, abhijeet.name)"
   ]
  },
  {
   "cell_type": "code",
   "execution_count": 28,
   "id": "83bedf0f",
   "metadata": {},
   "outputs": [],
   "source": [
    "vipin = Person()"
   ]
  },
  {
   "cell_type": "code",
   "execution_count": 33,
   "id": "d4f86f9b",
   "metadata": {},
   "outputs": [
    {
     "name": "stdout",
     "output_type": "stream",
     "text": [
      "Rahul Rahul Abhijeet 1949047230960 1949047230960 1949048683248\n"
     ]
    }
   ],
   "source": [
    "print(vipin.name, Person.name, abhijeet.name, id(vipin.name), id(Person.name), id(abhijeet.name))"
   ]
  },
  {
   "cell_type": "code",
   "execution_count": 34,
   "id": "7014b5fa",
   "metadata": {},
   "outputs": [
    {
     "name": "stdout",
     "output_type": "stream",
     "text": [
      "Rahul Rahul Rahul 1949047230960 1949047230960 1949047230960\n"
     ]
    }
   ],
   "source": [
    "abhijeet.name = 'Rahul'\n",
    "print(vipin.name, Person.name, abhijeet.name, id(vipin.name), id(Person.name), id(abhijeet.name))"
   ]
  },
  {
   "cell_type": "code",
   "execution_count": 68,
   "id": "e2c14381",
   "metadata": {},
   "outputs": [],
   "source": [
    "class Person:\n",
    "    mammel = True\n",
    "    \n",
    "    def obj_attr(self, name, age, gender):\n",
    "        self.name = name\n",
    "        self.age = age\n",
    "        self.gender = gender\n",
    "    \n",
    "    def updation(self, updated_name, updated_age, updated_gender):\n",
    "        self.name = updated_name\n",
    "        self.age = updated_age\n",
    "        self.gender = updated_gender"
   ]
  },
  {
   "cell_type": "code",
   "execution_count": 69,
   "id": "66d23700",
   "metadata": {},
   "outputs": [],
   "source": [
    "abhijeet = Person()"
   ]
  },
  {
   "cell_type": "code",
   "execution_count": 70,
   "id": "a9407e8a",
   "metadata": {},
   "outputs": [
    {
     "data": {
      "text/plain": [
       "True"
      ]
     },
     "execution_count": 70,
     "metadata": {},
     "output_type": "execute_result"
    }
   ],
   "source": [
    "abhijeet.mammel"
   ]
  },
  {
   "cell_type": "code",
   "execution_count": 71,
   "id": "e529ac11",
   "metadata": {},
   "outputs": [],
   "source": [
    "abhijeet.obj_attr('Abhijeet', 23, 'Male')"
   ]
  },
  {
   "cell_type": "code",
   "execution_count": 86,
   "id": "eb606932",
   "metadata": {},
   "outputs": [],
   "source": [
    "class Person:\n",
    "    mammel = True\n",
    "    \n",
    "    def __init__(self, name, age, gender):\n",
    "        self.name = name\n",
    "        self.age = age\n",
    "        self.gender = gender\n",
    "    \n",
    "#     def updation(self, updated_name, updated_age, updated_gender):\n",
    "#         self.name = updated_name\n",
    "#         self.age = updated_age\n",
    "#         self.gender = updated_gender"
   ]
  },
  {
   "cell_type": "code",
   "execution_count": 87,
   "id": "559447fc",
   "metadata": {},
   "outputs": [
    {
     "name": "stdout",
     "output_type": "stream",
     "text": [
      "Name?Abhijeet\n"
     ]
    }
   ],
   "source": [
    "name = input(\"Name?\")\n",
    "abhijeet = Person(name, 23, 'Male')"
   ]
  },
  {
   "cell_type": "code",
   "execution_count": 88,
   "id": "2c0299d1",
   "metadata": {},
   "outputs": [
    {
     "name": "stdout",
     "output_type": "stream",
     "text": [
      "Abhijeet 23 Male\n"
     ]
    }
   ],
   "source": [
    "print(abhijeet.name, abhijeet.age, abhijeet.gender)"
   ]
  },
  {
   "cell_type": "code",
   "execution_count": 235,
   "id": "3467522e",
   "metadata": {},
   "outputs": [],
   "source": [
    "class Dog:\n",
    "#     total_tricks = []\n",
    "    \n",
    "    def __init__(self, breed, total_tricks = []):\n",
    "        self.breed = breed\n",
    "#         print(id(self.breed))\n",
    "        self.total_tricks = total_tricks\n",
    "    \n",
    "    def teach_tricks(self, trick):\n",
    "        self.total_tricks.append(trick)\n",
    "        \n",
    "    def details(self):\n",
    "        print(f'Dog breed: {self.breed}, Tricks: {self.total_tricks}')"
   ]
  },
  {
   "cell_type": "code",
   "execution_count": 236,
   "id": "1f0336a9",
   "metadata": {},
   "outputs": [],
   "source": [
    "labra = Dog('Labra')\n",
    "german = Dog('German Shephard')\n",
    "pug = Dog('Pug')\n",
    "# print(id(labra))"
   ]
  },
  {
   "cell_type": "code",
   "execution_count": 224,
   "id": "0b43ecae",
   "metadata": {},
   "outputs": [],
   "source": [
    "german.teach_tricks('Sit')\n",
    "german.teach_tricks('Stand')\n",
    "german.teach_tricks('Dance')\n",
    "german.teach_tricks('Sing')\n",
    "labra.teach_tricks('Fetch')"
   ]
  },
  {
   "cell_type": "code",
   "execution_count": 225,
   "id": "e222130f",
   "metadata": {},
   "outputs": [
    {
     "name": "stdout",
     "output_type": "stream",
     "text": [
      "Dog breed: German Shephard, Tricks: ['Sit', 'Stand', 'Dance', 'Sing']\n"
     ]
    }
   ],
   "source": [
    "german.details()"
   ]
  },
  {
   "cell_type": "code",
   "execution_count": 226,
   "id": "3d3c2029",
   "metadata": {},
   "outputs": [
    {
     "name": "stdout",
     "output_type": "stream",
     "text": [
      "Dog breed: Labra, Tricks: ['Fetch']\n"
     ]
    }
   ],
   "source": [
    "labra.details()"
   ]
  },
  {
   "cell_type": "code",
   "execution_count": 227,
   "id": "ed996567",
   "metadata": {},
   "outputs": [
    {
     "name": "stdout",
     "output_type": "stream",
     "text": [
      "Dog breed: Pug, Tricks: []\n"
     ]
    }
   ],
   "source": [
    "pug.details()"
   ]
  },
  {
   "cell_type": "code",
   "execution_count": 189,
   "id": "a7a2bbf1",
   "metadata": {},
   "outputs": [],
   "source": [
    "class Person:\n",
    "    mammel = True\n",
    "    name = 'Rahul'\n",
    "    age = 24\n",
    "    gender = 'Male'\n",
    "    \n",
    "    def updation(self, updated_name, updated_age, updated_gender):\n",
    "#         print(id(self), id(Person))\n",
    "        self.name = updated_name\n",
    "        self.age = updated_age\n",
    "        self.gender = updated_gender"
   ]
  },
  {
   "cell_type": "code",
   "execution_count": 190,
   "id": "e7c1fc4a",
   "metadata": {},
   "outputs": [],
   "source": [
    "abhijeet = Person()"
   ]
  },
  {
   "cell_type": "code",
   "execution_count": 191,
   "id": "bcf684dd",
   "metadata": {},
   "outputs": [],
   "source": [
    "abhijeet.updation('Abhijeet', 23, 'Male')"
   ]
  },
  {
   "cell_type": "code",
   "execution_count": 192,
   "id": "b77e67e5",
   "metadata": {},
   "outputs": [
    {
     "name": "stdout",
     "output_type": "stream",
     "text": [
      "Abhijeet Rahul\n"
     ]
    }
   ],
   "source": [
    "print(abhijeet.name, Person.name)"
   ]
  },
  {
   "cell_type": "code",
   "execution_count": null,
   "id": "307353d4",
   "metadata": {},
   "outputs": [],
   "source": []
  }
 ],
 "metadata": {
  "kernelspec": {
   "display_name": "Python 3 (ipykernel)",
   "language": "python",
   "name": "python3"
  },
  "language_info": {
   "codemirror_mode": {
    "name": "ipython",
    "version": 3
   },
   "file_extension": ".py",
   "mimetype": "text/x-python",
   "name": "python",
   "nbconvert_exporter": "python",
   "pygments_lexer": "ipython3",
   "version": "3.8.10"
  }
 },
 "nbformat": 4,
 "nbformat_minor": 5
}
