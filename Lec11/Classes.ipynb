{
 "cells": [
  {
   "cell_type": "code",
   "execution_count": 4,
   "id": "c1607747",
   "metadata": {},
   "outputs": [
    {
     "name": "stdout",
     "output_type": "stream",
     "text": [
      "True\n"
     ]
    }
   ],
   "source": [
    "print(isinstance(5.04, float))"
   ]
  },
  {
   "cell_type": "code",
   "execution_count": 24,
   "id": "350a95ae",
   "metadata": {},
   "outputs": [],
   "source": [
    "class Person:\n",
    "    mammel = True\n",
    "    name = 'Rahul'\n",
    "    age = 24\n",
    "    gender = 'Male'\n",
    "    \n",
    "    def updation(self, updated_name, updated_age, updated_gender):\n",
    "        print(id(self), id(Person))\n",
    "        self.name = updated_name\n",
    "        self.age = updated_age\n",
    "        self.gender = updated_gender"
   ]
  },
  {
   "cell_type": "code",
   "execution_count": 25,
   "id": "716b88d9",
   "metadata": {},
   "outputs": [
    {
     "name": "stdout",
     "output_type": "stream",
     "text": [
      "1949064050864 1949029658032\n"
     ]
    }
   ],
   "source": [
    "abhijeet = Person()\n",
    "abhijeet.updation('Abhijeet', 23, 'Male')"
   ]
  },
  {
   "cell_type": "code",
   "execution_count": 18,
   "id": "29c3d5f1",
   "metadata": {},
   "outputs": [
    {
     "data": {
      "text/plain": [
       "1949051526352"
      ]
     },
     "execution_count": 18,
     "metadata": {},
     "output_type": "execute_result"
    }
   ],
   "source": [
    "int(0x000001C5CC861CD0)"
   ]
  },
  {
   "cell_type": "code",
   "execution_count": 27,
   "id": "aa8cba12",
   "metadata": {},
   "outputs": [
    {
     "name": "stdout",
     "output_type": "stream",
     "text": [
      "Rahul Abhijeet\n"
     ]
    }
   ],
   "source": [
    "print(Person.name, abhijeet.name)"
   ]
  },
  {
   "cell_type": "code",
   "execution_count": 28,
   "id": "3edee747",
   "metadata": {},
   "outputs": [],
   "source": [
    "vipin = Person()"
   ]
  },
  {
   "cell_type": "code",
   "execution_count": 33,
   "id": "f31bffe4",
   "metadata": {},
   "outputs": [
    {
     "name": "stdout",
     "output_type": "stream",
     "text": [
      "Rahul Rahul Abhijeet 1949047230960 1949047230960 1949048683248\n"
     ]
    }
   ],
   "source": [
    "print(vipin.name, Person.name, abhijeet.name, id(vipin.name), id(Person.name), id(abhijeet.name))"
   ]
  },
  {
   "cell_type": "code",
   "execution_count": 34,
   "id": "878b480d",
   "metadata": {},
   "outputs": [
    {
     "name": "stdout",
     "output_type": "stream",
     "text": [
      "Rahul Rahul Rahul 1949047230960 1949047230960 1949047230960\n"
     ]
    }
   ],
   "source": [
    "abhijeet.name = 'Rahul'\n",
    "print(vipin.name, Person.name, abhijeet.name, id(vipin.name), id(Person.name), id(abhijeet.name))"
   ]
  },
  {
   "cell_type": "code",
   "execution_count": 68,
   "id": "6a50955f",
   "metadata": {},
   "outputs": [],
   "source": [
    "class Person:\n",
    "    mammel = True\n",
    "    \n",
    "    def obj_attr(self, name, age, gender):\n",
    "        self.name = name\n",
    "        self.age = age\n",
    "        self.gender = gender\n",
    "    \n",
    "    def updation(self, updated_name, updated_age, updated_gender):\n",
    "        self.name = updated_name\n",
    "        self.age = updated_age\n",
    "        self.gender = updated_gender"
   ]
  },
  {
   "cell_type": "code",
   "execution_count": 69,
   "id": "da6e2efe",
   "metadata": {},
   "outputs": [],
   "source": [
    "abhijeet = Person()"
   ]
  },
  {
   "cell_type": "code",
   "execution_count": 70,
   "id": "fa4e1a56",
   "metadata": {},
   "outputs": [
    {
     "data": {
      "text/plain": [
       "True"
      ]
     },
     "execution_count": 70,
     "metadata": {},
     "output_type": "execute_result"
    }
   ],
   "source": [
    "abhijeet.mammel"
   ]
  },
  {
   "cell_type": "code",
   "execution_count": 71,
   "id": "ebf7bbb7",
   "metadata": {},
   "outputs": [],
   "source": [
    "abhijeet.obj_attr('Abhijeet', 23, 'Male')"
   ]
  },
  {
   "cell_type": "code",
   "execution_count": 86,
   "id": "ffa25bde",
   "metadata": {},
   "outputs": [],
   "source": [
    "class Person:\n",
    "    mammel = True\n",
    "    \n",
    "    def __init__(self, name, age, gender):\n",
    "        self.name = name\n",
    "        self.age = age\n",
    "        self.gender = gender\n",
    "    \n",
    "#     def updation(self, updated_name, updated_age, updated_gender):\n",
    "#         self.name = updated_name\n",
    "#         self.age = updated_age\n",
    "#         self.gender = updated_gender"
   ]
  },
  {
   "cell_type": "code",
   "execution_count": 87,
   "id": "d525335a",
   "metadata": {},
   "outputs": [
    {
     "name": "stdout",
     "output_type": "stream",
     "text": [
      "Name?Abhijeet\n"
     ]
    }
   ],
   "source": [
    "name = input(\"Name?\")\n",
    "abhijeet = Person(name, 23, 'Male')"
   ]
  },
  {
   "cell_type": "code",
   "execution_count": 88,
   "id": "5426817f",
   "metadata": {},
   "outputs": [
    {
     "name": "stdout",
     "output_type": "stream",
     "text": [
      "Abhijeet 23 Male\n"
     ]
    }
   ],
   "source": [
    "print(abhijeet.name, abhijeet.age, abhijeet.gender)"
   ]
  },
  {
   "cell_type": "code",
   "execution_count": 220,
   "id": "dcf0dffe",
   "metadata": {},
   "outputs": [],
   "source": [
    "class Dog:\n",
    "#     total_tricks = []\n",
    "    \n",
    "    def __init__(self, breed):\n",
    "        self.breed = breed\n",
    "        self.total_tricks = []\n",
    "    \n",
    "    def teach_tricks(self, trick):\n",
    "        self.total_tricks.append(trick)\n",
    "        \n",
    "    def details(self):\n",
    "        print(f'Dog breed: {self.breed}, Tricks: {self.total_tricks}')"
   ]
  },
  {
   "cell_type": "code",
   "execution_count": 223,
   "id": "031350fe",
   "metadata": {},
   "outputs": [],
   "source": [
    "labra = Dog('Labra')\n",
    "german = Dog('German Shephard')\n",
    "pug = Dog('Pug')"
   ]
  },
  {
   "cell_type": "code",
   "execution_count": 224,
   "id": "d30b6e61",
   "metadata": {},
   "outputs": [],
   "source": [
    "german.teach_tricks('Sit')\n",
    "german.teach_tricks('Stand')\n",
    "german.teach_tricks('Dance')\n",
    "german.teach_tricks('Sing')\n",
    "labra.teach_tricks('Fetch')"
   ]
  },
  {
   "cell_type": "code",
   "execution_count": 225,
   "id": "6cf40000",
   "metadata": {},
   "outputs": [
    {
     "name": "stdout",
     "output_type": "stream",
     "text": [
      "Dog breed: German Shephard, Tricks: ['Sit', 'Stand', 'Dance', 'Sing']\n"
     ]
    }
   ],
   "source": [
    "german.details()"
   ]
  },
  {
   "cell_type": "code",
   "execution_count": 226,
   "id": "fce9b34f",
   "metadata": {},
   "outputs": [
    {
     "name": "stdout",
     "output_type": "stream",
     "text": [
      "Dog breed: Labra, Tricks: ['Fetch']\n"
     ]
    }
   ],
   "source": [
    "labra.details()"
   ]
  },
  {
   "cell_type": "code",
   "execution_count": 227,
   "id": "791ae7c4",
   "metadata": {},
   "outputs": [
    {
     "name": "stdout",
     "output_type": "stream",
     "text": [
      "Dog breed: Pug, Tricks: []\n"
     ]
    }
   ],
   "source": [
    "pug.details()"
   ]
  },
  {
   "cell_type": "code",
   "execution_count": 189,
   "id": "952a084d",
   "metadata": {},
   "outputs": [],
   "source": [
    "class Person:\n",
    "    mammel = True\n",
    "    name = 'Rahul'\n",
    "    age = 24\n",
    "    gender = 'Male'\n",
    "    \n",
    "    def updation(self, updated_name, updated_age, updated_gender):\n",
    "#         print(id(self), id(Person))\n",
    "        self.name = updated_name\n",
    "        self.age = updated_age\n",
    "        self.gender = updated_gender"
   ]
  },
  {
   "cell_type": "code",
   "execution_count": 190,
   "id": "89d65343",
   "metadata": {},
   "outputs": [],
   "source": [
    "abhijeet = Person()"
   ]
  },
  {
   "cell_type": "code",
   "execution_count": 191,
   "id": "678b0b86",
   "metadata": {},
   "outputs": [],
   "source": [
    "abhijeet.updation('Abhijeet', 23, 'Male')"
   ]
  },
  {
   "cell_type": "code",
   "execution_count": 192,
   "id": "22ece4a8",
   "metadata": {},
   "outputs": [
    {
     "name": "stdout",
     "output_type": "stream",
     "text": [
      "Abhijeet Rahul\n"
     ]
    }
   ],
   "source": [
    "print(abhijeet.name, Person.name)"
   ]
  },
  {
   "cell_type": "code",
   "execution_count": null,
   "id": "ba5d29d6",
   "metadata": {},
   "outputs": [],
   "source": []
  }
 ],
 "metadata": {
  "kernelspec": {
   "display_name": "Python 3 (ipykernel)",
   "language": "python",
   "name": "python3"
  },
  "language_info": {
   "codemirror_mode": {
    "name": "ipython",
    "version": 3
   },
   "file_extension": ".py",
   "mimetype": "text/x-python",
   "name": "python",
   "nbconvert_exporter": "python",
   "pygments_lexer": "ipython3",
   "version": "3.8.10"
  }
 },
 "nbformat": 4,
 "nbformat_minor": 5
}
