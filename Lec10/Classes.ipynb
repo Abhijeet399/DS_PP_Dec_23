{
 "cells": [
  {
   "cell_type": "code",
   "execution_count": 1,
   "id": "94e0a852",
   "metadata": {},
   "outputs": [
    {
     "name": "stdout",
     "output_type": "stream",
     "text": [
      "Enter Something?hello 123\n"
     ]
    }
   ],
   "source": [
    "var = input('Enter Something?').split()"
   ]
  },
  {
   "cell_type": "code",
   "execution_count": 2,
   "id": "11d83ade",
   "metadata": {},
   "outputs": [
    {
     "data": {
      "text/plain": [
       "123"
      ]
     },
     "execution_count": 2,
     "metadata": {},
     "output_type": "execute_result"
    }
   ],
   "source": [
    "int(var[1])"
   ]
  },
  {
   "cell_type": "code",
   "execution_count": 3,
   "id": "8746731b",
   "metadata": {},
   "outputs": [],
   "source": [
    "def temp():\n",
    "    print('TEMP')"
   ]
  },
  {
   "cell_type": "markdown",
   "id": "7694db96",
   "metadata": {},
   "source": [
    "# CLASSES"
   ]
  },
  {
   "cell_type": "code",
   "execution_count": 4,
   "id": "8b4c2d1f",
   "metadata": {},
   "outputs": [],
   "source": [
    "class DataScience:\n",
    "    mentor = 'Abhijeet'\n",
    "    subject = 'Data_Science'\n",
    "    place = 'MM'"
   ]
  },
  {
   "cell_type": "code",
   "execution_count": 5,
   "id": "e3503706",
   "metadata": {},
   "outputs": [
    {
     "name": "stdout",
     "output_type": "stream",
     "text": [
      "Abhijeet MM Data_Science <class '__main__.DataScience'>\n"
     ]
    }
   ],
   "source": [
    "print(DataScience.mentor, DataScience.place, DataScience.subject, DataScience)"
   ]
  },
  {
   "cell_type": "code",
   "execution_count": 6,
   "id": "ba7c2e50",
   "metadata": {},
   "outputs": [
    {
     "data": {
      "text/plain": [
       "'__main__'"
      ]
     },
     "execution_count": 6,
     "metadata": {},
     "output_type": "execute_result"
    }
   ],
   "source": [
    "__name__"
   ]
  },
  {
   "cell_type": "code",
   "execution_count": 7,
   "id": "607586ed",
   "metadata": {},
   "outputs": [
    {
     "name": "stdout",
     "output_type": "stream",
     "text": [
      "TEMP\n"
     ]
    }
   ],
   "source": [
    "if __name__ == '__main__':\n",
    "    temp()"
   ]
  },
  {
   "cell_type": "code",
   "execution_count": 8,
   "id": "442d9c18",
   "metadata": {},
   "outputs": [],
   "source": [
    "import numpy as np"
   ]
  },
  {
   "cell_type": "code",
   "execution_count": 9,
   "id": "c574d74d",
   "metadata": {},
   "outputs": [
    {
     "name": "stdout",
     "output_type": "stream",
     "text": [
      "[0 1 2 3 4 5 6 7 8 9]\n"
     ]
    }
   ],
   "source": [
    "print(np.arange(10))"
   ]
  },
  {
   "cell_type": "code",
   "execution_count": 10,
   "id": "274ffb87",
   "metadata": {},
   "outputs": [],
   "source": [
    "ds = DataScience()"
   ]
  },
  {
   "cell_type": "code",
   "execution_count": 11,
   "id": "9efcb410",
   "metadata": {},
   "outputs": [
    {
     "name": "stdout",
     "output_type": "stream",
     "text": [
      "<__main__.DataScience object at 0x00000217F02F8760> Abhijeet\n"
     ]
    }
   ],
   "source": [
    "print(ds, ds.mentor)"
   ]
  },
  {
   "cell_type": "code",
   "execution_count": 12,
   "id": "0e0e66c8",
   "metadata": {},
   "outputs": [
    {
     "name": "stdout",
     "output_type": "stream",
     "text": [
      "<class '__main__.DataScience'>\n"
     ]
    }
   ],
   "source": [
    "print(type(ds))"
   ]
  },
  {
   "cell_type": "code",
   "execution_count": 14,
   "id": "0607ef40",
   "metadata": {},
   "outputs": [
    {
     "name": "stdout",
     "output_type": "stream",
     "text": [
      "Abhijeet Abhijeet 2301459351664 2301459351664 True\n"
     ]
    }
   ],
   "source": [
    "print(DataScience.mentor, ds.mentor, id(DataScience.place), id(ds.place), id(DataScience.place)==id(ds.place))"
   ]
  },
  {
   "cell_type": "code",
   "execution_count": 77,
   "id": "0f99b643",
   "metadata": {},
   "outputs": [],
   "source": [
    "class Person:\n",
    "    mammel = True\n",
    "    name = 'Rahul'\n",
    "    age = 24\n",
    "    gender = 'Male'\n",
    "    \n",
    "    def updation(kuch_bhi, updated_name, updated_age, updated_gender):\n",
    "        Person.name = updated_name\n",
    "        Person.age = updated_age\n",
    "        Person.gender = updated_gender"
   ]
  },
  {
   "cell_type": "code",
   "execution_count": 39,
   "id": "15c06df7",
   "metadata": {},
   "outputs": [],
   "source": [
    "abhijeet = Person()"
   ]
  },
  {
   "cell_type": "code",
   "execution_count": 40,
   "id": "73f927fd",
   "metadata": {},
   "outputs": [
    {
     "data": {
      "text/plain": [
       "'Rahul'"
      ]
     },
     "execution_count": 40,
     "metadata": {},
     "output_type": "execute_result"
    }
   ],
   "source": [
    "abhijeet.name"
   ]
  },
  {
   "cell_type": "code",
   "execution_count": 41,
   "id": "0c634d71",
   "metadata": {},
   "outputs": [],
   "source": [
    "abhijeet.name = 'Abhijeet'"
   ]
  },
  {
   "cell_type": "code",
   "execution_count": 42,
   "id": "7b134362",
   "metadata": {},
   "outputs": [
    {
     "data": {
      "text/plain": [
       "'Abhijeet'"
      ]
     },
     "execution_count": 42,
     "metadata": {},
     "output_type": "execute_result"
    }
   ],
   "source": [
    "abhijeet.name"
   ]
  },
  {
   "cell_type": "code",
   "execution_count": 43,
   "id": "fb0eae9f",
   "metadata": {},
   "outputs": [
    {
     "data": {
      "text/plain": [
       "'Rahul'"
      ]
     },
     "execution_count": 43,
     "metadata": {},
     "output_type": "execute_result"
    }
   ],
   "source": [
    "Person.name"
   ]
  },
  {
   "cell_type": "code",
   "execution_count": 44,
   "id": "adb7d3de",
   "metadata": {},
   "outputs": [],
   "source": [
    "Person.name = 'Rishu'"
   ]
  },
  {
   "cell_type": "code",
   "execution_count": 45,
   "id": "f0a444e0",
   "metadata": {},
   "outputs": [
    {
     "data": {
      "text/plain": [
       "'Abhijeet'"
      ]
     },
     "execution_count": 45,
     "metadata": {},
     "output_type": "execute_result"
    }
   ],
   "source": [
    "abhijeet.name"
   ]
  },
  {
   "cell_type": "code",
   "execution_count": 46,
   "id": "504cf54f",
   "metadata": {},
   "outputs": [
    {
     "data": {
      "text/plain": [
       "'Rishu'"
      ]
     },
     "execution_count": 46,
     "metadata": {},
     "output_type": "execute_result"
    }
   ],
   "source": [
    "Person.name"
   ]
  },
  {
   "cell_type": "code",
   "execution_count": 47,
   "id": "4f31a862",
   "metadata": {},
   "outputs": [],
   "source": [
    "mudit = Person()"
   ]
  },
  {
   "cell_type": "code",
   "execution_count": 48,
   "id": "e3b1231f",
   "metadata": {},
   "outputs": [
    {
     "data": {
      "text/plain": [
       "'Rishu'"
      ]
     },
     "execution_count": 48,
     "metadata": {},
     "output_type": "execute_result"
    }
   ],
   "source": [
    "mudit.name"
   ]
  },
  {
   "cell_type": "code",
   "execution_count": 49,
   "id": "60a66278",
   "metadata": {},
   "outputs": [
    {
     "data": {
      "text/plain": [
       "'Rishu'"
      ]
     },
     "execution_count": 49,
     "metadata": {},
     "output_type": "execute_result"
    }
   ],
   "source": [
    "Person.name"
   ]
  },
  {
   "cell_type": "code",
   "execution_count": 50,
   "id": "ac62b9f4",
   "metadata": {},
   "outputs": [],
   "source": [
    "Person.name = 'Mudit'"
   ]
  },
  {
   "cell_type": "code",
   "execution_count": 51,
   "id": "a6a69368",
   "metadata": {},
   "outputs": [
    {
     "data": {
      "text/plain": [
       "'Mudit'"
      ]
     },
     "execution_count": 51,
     "metadata": {},
     "output_type": "execute_result"
    }
   ],
   "source": [
    "Person.name"
   ]
  },
  {
   "cell_type": "code",
   "execution_count": 52,
   "id": "6f4f1045",
   "metadata": {},
   "outputs": [],
   "source": [
    "mudit.name = 'Rahul'"
   ]
  },
  {
   "cell_type": "code",
   "execution_count": 53,
   "id": "68887594",
   "metadata": {},
   "outputs": [
    {
     "name": "stdout",
     "output_type": "stream",
     "text": [
      "Rahul Mudit 2301459427504 2301843605104\n"
     ]
    }
   ],
   "source": [
    "print(mudit.name, Person.name, id(mudit.name), id(Person.name))"
   ]
  },
  {
   "cell_type": "code",
   "execution_count": 54,
   "id": "a2402723",
   "metadata": {},
   "outputs": [
    {
     "name": "stdout",
     "output_type": "stream",
     "text": [
      "2301400614960\n"
     ]
    }
   ],
   "source": [
    "var = 'STRING'\n",
    "print(id(var))"
   ]
  },
  {
   "cell_type": "code",
   "execution_count": 55,
   "id": "7c531901",
   "metadata": {},
   "outputs": [
    {
     "name": "stdout",
     "output_type": "stream",
     "text": [
      "2301394833648\n"
     ]
    }
   ],
   "source": [
    "var = 'string'\n",
    "print(id(var))"
   ]
  },
  {
   "cell_type": "code",
   "execution_count": 56,
   "id": "4a57019f",
   "metadata": {},
   "outputs": [],
   "source": [
    "abhijeet = Person()"
   ]
  },
  {
   "cell_type": "code",
   "execution_count": 57,
   "id": "580493b4",
   "metadata": {},
   "outputs": [
    {
     "data": {
      "text/plain": [
       "'Mudit'"
      ]
     },
     "execution_count": 57,
     "metadata": {},
     "output_type": "execute_result"
    }
   ],
   "source": [
    "abhijeet.name"
   ]
  },
  {
   "cell_type": "code",
   "execution_count": 58,
   "id": "de4b0930",
   "metadata": {},
   "outputs": [],
   "source": [
    "Person.updation('Abhijeet', 23, 'Male')"
   ]
  },
  {
   "cell_type": "code",
   "execution_count": 63,
   "id": "ec7ea598",
   "metadata": {},
   "outputs": [
    {
     "name": "stdout",
     "output_type": "stream",
     "text": [
      "Mudit\n"
     ]
    }
   ],
   "source": [
    "print(Person.name)"
   ]
  },
  {
   "cell_type": "code",
   "execution_count": 66,
   "id": "9c87f740",
   "metadata": {},
   "outputs": [],
   "source": [
    "abhijeet = Person()"
   ]
  },
  {
   "cell_type": "code",
   "execution_count": 67,
   "id": "7e34678c",
   "metadata": {},
   "outputs": [
    {
     "data": {
      "text/plain": [
       "'Rahul'"
      ]
     },
     "execution_count": 67,
     "metadata": {},
     "output_type": "execute_result"
    }
   ],
   "source": [
    "abhijeet.name"
   ]
  },
  {
   "cell_type": "code",
   "execution_count": 68,
   "id": "f16e6e44",
   "metadata": {},
   "outputs": [],
   "source": [
    "Person.updation('Abhijeet', 23, 'Male')"
   ]
  },
  {
   "cell_type": "code",
   "execution_count": 71,
   "id": "f7098a9d",
   "metadata": {},
   "outputs": [
    {
     "data": {
      "text/plain": [
       "('Abhijeet', 23, 'Male')"
      ]
     },
     "execution_count": 71,
     "metadata": {},
     "output_type": "execute_result"
    }
   ],
   "source": [
    "abhijeet.name, abhijeet.age, abhijeet.gender"
   ]
  },
  {
   "cell_type": "code",
   "execution_count": 73,
   "id": "06f5c2f5",
   "metadata": {},
   "outputs": [
    {
     "data": {
      "text/plain": [
       "'Abhijeet'"
      ]
     },
     "execution_count": 73,
     "metadata": {},
     "output_type": "execute_result"
    }
   ],
   "source": [
    "abhijeet.name"
   ]
  },
  {
   "cell_type": "code",
   "execution_count": 79,
   "id": "2e21fd1b",
   "metadata": {},
   "outputs": [],
   "source": [
    "mudit = Person()"
   ]
  },
  {
   "cell_type": "code",
   "execution_count": 80,
   "id": "14752d05",
   "metadata": {},
   "outputs": [
    {
     "data": {
      "text/plain": [
       "'Rahul'"
      ]
     },
     "execution_count": 80,
     "metadata": {},
     "output_type": "execute_result"
    }
   ],
   "source": [
    "mudit.name"
   ]
  },
  {
   "cell_type": "code",
   "execution_count": 81,
   "id": "b3140de7",
   "metadata": {},
   "outputs": [],
   "source": [
    "mudit.updation('Mudit', 21, 'Male')"
   ]
  },
  {
   "cell_type": "code",
   "execution_count": 82,
   "id": "7d216ebd",
   "metadata": {},
   "outputs": [
    {
     "data": {
      "text/plain": [
       "'Mudit'"
      ]
     },
     "execution_count": 82,
     "metadata": {},
     "output_type": "execute_result"
    }
   ],
   "source": [
    "mudit.name"
   ]
  },
  {
   "cell_type": "code",
   "execution_count": 83,
   "id": "48ae05df",
   "metadata": {},
   "outputs": [
    {
     "data": {
      "text/plain": [
       "'Mudit'"
      ]
     },
     "execution_count": 83,
     "metadata": {},
     "output_type": "execute_result"
    }
   ],
   "source": [
    "Person.name"
   ]
  },
  {
   "cell_type": "code",
   "execution_count": 89,
   "id": "e0de9928",
   "metadata": {},
   "outputs": [],
   "source": [
    "class Person:\n",
    "    mammel = True\n",
    "    name = 'Rahul'\n",
    "    age = 24\n",
    "    gender = 'Male'\n",
    "    \n",
    "    def updation(self, updated_name, updated_age, updated_gender):\n",
    "        self.name = updated_name\n",
    "        self.age = updated_age\n",
    "        self.gender = updated_gender"
   ]
  },
  {
   "cell_type": "code",
   "execution_count": 90,
   "id": "936883e9",
   "metadata": {},
   "outputs": [],
   "source": [
    "abhijeet = Person()"
   ]
  },
  {
   "cell_type": "code",
   "execution_count": 91,
   "id": "b9231416",
   "metadata": {},
   "outputs": [
    {
     "data": {
      "text/plain": [
       "'Rahul'"
      ]
     },
     "execution_count": 91,
     "metadata": {},
     "output_type": "execute_result"
    }
   ],
   "source": [
    "abhijeet.name"
   ]
  },
  {
   "cell_type": "code",
   "execution_count": 92,
   "id": "fedd1f51",
   "metadata": {},
   "outputs": [],
   "source": [
    "abhijeet.updation('Abhijeet', 23, 'Male')"
   ]
  },
  {
   "cell_type": "code",
   "execution_count": 93,
   "id": "6a0cb553",
   "metadata": {},
   "outputs": [
    {
     "data": {
      "text/plain": [
       "'Abhijeet'"
      ]
     },
     "execution_count": 93,
     "metadata": {},
     "output_type": "execute_result"
    }
   ],
   "source": [
    "abhijeet.name"
   ]
  },
  {
   "cell_type": "code",
   "execution_count": 100,
   "id": "ea40100b",
   "metadata": {},
   "outputs": [],
   "source": [
    "Person.updation(Person, 'Abhijeet', 23, 'Male')"
   ]
  },
  {
   "cell_type": "code",
   "execution_count": 101,
   "id": "f762f4c9",
   "metadata": {},
   "outputs": [
    {
     "name": "stdout",
     "output_type": "stream",
     "text": [
      "Abhijeet\n"
     ]
    }
   ],
   "source": [
    "print(Person.name)"
   ]
  },
  {
   "cell_type": "code",
   "execution_count": null,
   "id": "eedfc39c",
   "metadata": {},
   "outputs": [],
   "source": []
  }
 ],
 "metadata": {
  "kernelspec": {
   "display_name": "Python 3 (ipykernel)",
   "language": "python",
   "name": "python3"
  },
  "language_info": {
   "codemirror_mode": {
    "name": "ipython",
    "version": 3
   },
   "file_extension": ".py",
   "mimetype": "text/x-python",
   "name": "python",
   "nbconvert_exporter": "python",
   "pygments_lexer": "ipython3",
   "version": "3.8.10"
  }
 },
 "nbformat": 4,
 "nbformat_minor": 5
}
