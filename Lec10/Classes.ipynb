{
 "cells": [
  {
   "cell_type": "code",
   "execution_count": 1,
   "id": "94e0a852",
   "metadata": {},
   "outputs": [
    {
     "name": "stdout",
     "output_type": "stream",
     "text": [
      "Enter Something?hello 123\n"
     ]
    }
   ],
   "source": [
    "var = input('Enter Something?').split()"
   ]
  },
  {
   "cell_type": "code",
   "execution_count": 2,
   "id": "11d83ade",
   "metadata": {},
   "outputs": [
    {
     "data": {
      "text/plain": [
       "123"
      ]
     },
     "execution_count": 2,
     "metadata": {},
     "output_type": "execute_result"
    }
   ],
   "source": [
    "int(var[1])"
   ]
  },
  {
   "cell_type": "code",
   "execution_count": 3,
   "id": "8746731b",
   "metadata": {},
   "outputs": [],
   "source": [
    "def temp():\n",
    "    print('TEMP')"
   ]
  },
  {
   "cell_type": "markdown",
   "id": "7694db96",
   "metadata": {},
   "source": [
    "# CLASSES"
   ]
  },
  {
   "cell_type": "code",
   "execution_count": 4,
   "id": "8b4c2d1f",
   "metadata": {},
   "outputs": [],
   "source": [
    "class DataScience:\n",
    "    mentor = 'Abhijeet'\n",
    "    subject = 'Data_Science'\n",
    "    place = 'MM'"
   ]
  },
  {
   "cell_type": "code",
   "execution_count": 5,
   "id": "e3503706",
   "metadata": {},
   "outputs": [
    {
     "name": "stdout",
     "output_type": "stream",
     "text": [
      "Abhijeet MM Data_Science <class '__main__.DataScience'>\n"
     ]
    }
   ],
   "source": [
    "print(DataScience.mentor, DataScience.place, DataScience.subject, DataScience)"
   ]
  },
  {
   "cell_type": "code",
   "execution_count": 6,
   "id": "ba7c2e50",
   "metadata": {},
   "outputs": [
    {
     "data": {
      "text/plain": [
       "'__main__'"
      ]
     },
     "execution_count": 6,
     "metadata": {},
     "output_type": "execute_result"
    }
   ],
   "source": [
    "__name__"
   ]
  },
  {
   "cell_type": "code",
   "execution_count": 7,
   "id": "607586ed",
   "metadata": {},
   "outputs": [
    {
     "name": "stdout",
     "output_type": "stream",
     "text": [
      "TEMP\n"
     ]
    }
   ],
   "source": [
    "if __name__ == '__main__':\n",
    "    temp()"
   ]
  },
  {
   "cell_type": "code",
   "execution_count": 8,
   "id": "442d9c18",
   "metadata": {},
   "outputs": [],
   "source": [
    "import numpy as np"
   ]
  },
  {
   "cell_type": "code",
   "execution_count": 9,
   "id": "c574d74d",
   "metadata": {},
   "outputs": [
    {
     "name": "stdout",
     "output_type": "stream",
     "text": [
      "[0 1 2 3 4 5 6 7 8 9]\n"
     ]
    }
   ],
   "source": [
    "print(np.arange(10))"
   ]
  },
  {
   "cell_type": "code",
   "execution_count": 10,
   "id": "274ffb87",
   "metadata": {},
   "outputs": [],
   "source": [
    "ds = DataScience()"
   ]
  },
  {
   "cell_type": "code",
   "execution_count": 11,
   "id": "9efcb410",
   "metadata": {},
   "outputs": [
    {
     "name": "stdout",
     "output_type": "stream",
     "text": [
      "<__main__.DataScience object at 0x00000217F02F8760> Abhijeet\n"
     ]
    }
   ],
   "source": [
    "print(ds, ds.mentor)"
   ]
  },
  {
   "cell_type": "code",
   "execution_count": 12,
   "id": "0e0e66c8",
   "metadata": {},
   "outputs": [
    {
     "name": "stdout",
     "output_type": "stream",
     "text": [
      "<class '__main__.DataScience'>\n"
     ]
    }
   ],
   "source": [
    "print(type(ds))"
   ]
  },
  {
   "cell_type": "code",
   "execution_count": 14,
   "id": "0607ef40",
   "metadata": {},
   "outputs": [
    {
     "name": "stdout",
     "output_type": "stream",
     "text": [
      "Abhijeet Abhijeet 2301459351664 2301459351664 True\n"
     ]
    }
   ],
   "source": [
    "print(DataScience.mentor, ds.mentor, id(DataScience.place), id(ds.place), id(DataScience.place)==id(ds.place))"
   ]
  },
  {
   "cell_type": "code",
   "execution_count": 77,
   "id": "0f99b643",
   "metadata": {},
   "outputs": [],
   "source": [
    "class Person:\n",
    "    mammel = True\n",
    "    name = 'Rahul'\n",
    "    age = 24\n",
    "    gender = 'Male'\n",
    "    \n",
    "    def updation(kuch_bhi, updated_name, updated_age, updated_gender):\n",
    "        Person.name = updated_name\n",
    "        Person.age = updated_age\n",
    "        Person.gender = updated_gender"
   ]
  },
  {
   "cell_type": "code",
   "execution_count": 39,
   "id": "427d18ba",
   "metadata": {},
   "outputs": [],
   "source": [
    "abhijeet = Person()"
   ]
  },
  {
   "cell_type": "code",
   "execution_count": 40,
   "id": "ced82e48",
   "metadata": {},
   "outputs": [
    {
     "data": {
      "text/plain": [
       "'Rahul'"
      ]
     },
     "execution_count": 40,
     "metadata": {},
     "output_type": "execute_result"
    }
   ],
   "source": [
    "abhijeet.name"
   ]
  },
  {
   "cell_type": "code",
   "execution_count": 41,
   "id": "a1f79d56",
   "metadata": {},
   "outputs": [],
   "source": [
    "abhijeet.name = 'Abhijeet'"
   ]
  },
  {
   "cell_type": "code",
   "execution_count": 42,
   "id": "0299a2d4",
   "metadata": {},
   "outputs": [
    {
     "data": {
      "text/plain": [
       "'Abhijeet'"
      ]
     },
     "execution_count": 42,
     "metadata": {},
     "output_type": "execute_result"
    }
   ],
   "source": [
    "abhijeet.name"
   ]
  },
  {
   "cell_type": "code",
   "execution_count": 43,
   "id": "b11ea295",
   "metadata": {},
   "outputs": [
    {
     "data": {
      "text/plain": [
       "'Rahul'"
      ]
     },
     "execution_count": 43,
     "metadata": {},
     "output_type": "execute_result"
    }
   ],
   "source": [
    "Person.name"
   ]
  },
  {
   "cell_type": "code",
   "execution_count": 44,
   "id": "254102f0",
   "metadata": {},
   "outputs": [],
   "source": [
    "Person.name = 'Rishu'"
   ]
  },
  {
   "cell_type": "code",
   "execution_count": 45,
   "id": "69e0cabc",
   "metadata": {},
   "outputs": [
    {
     "data": {
      "text/plain": [
       "'Abhijeet'"
      ]
     },
     "execution_count": 45,
     "metadata": {},
     "output_type": "execute_result"
    }
   ],
   "source": [
    "abhijeet.name"
   ]
  },
  {
   "cell_type": "code",
   "execution_count": 46,
   "id": "0834e9f4",
   "metadata": {},
   "outputs": [
    {
     "data": {
      "text/plain": [
       "'Rishu'"
      ]
     },
     "execution_count": 46,
     "metadata": {},
     "output_type": "execute_result"
    }
   ],
   "source": [
    "Person.name"
   ]
  },
  {
   "cell_type": "code",
   "execution_count": 47,
   "id": "2b9f968b",
   "metadata": {},
   "outputs": [],
   "source": [
    "mudit = Person()"
   ]
  },
  {
   "cell_type": "code",
   "execution_count": 48,
   "id": "27d7b0e6",
   "metadata": {},
   "outputs": [
    {
     "data": {
      "text/plain": [
       "'Rishu'"
      ]
     },
     "execution_count": 48,
     "metadata": {},
     "output_type": "execute_result"
    }
   ],
   "source": [
    "mudit.name"
   ]
  },
  {
   "cell_type": "code",
   "execution_count": 49,
   "id": "151bfcbf",
   "metadata": {},
   "outputs": [
    {
     "data": {
      "text/plain": [
       "'Rishu'"
      ]
     },
     "execution_count": 49,
     "metadata": {},
     "output_type": "execute_result"
    }
   ],
   "source": [
    "Person.name"
   ]
  },
  {
   "cell_type": "code",
   "execution_count": 50,
   "id": "5e619b37",
   "metadata": {},
   "outputs": [],
   "source": [
    "Person.name = 'Mudit'"
   ]
  },
  {
   "cell_type": "code",
   "execution_count": 51,
   "id": "3c6c573f",
   "metadata": {},
   "outputs": [
    {
     "data": {
      "text/plain": [
       "'Mudit'"
      ]
     },
     "execution_count": 51,
     "metadata": {},
     "output_type": "execute_result"
    }
   ],
   "source": [
    "Person.name"
   ]
  },
  {
   "cell_type": "code",
   "execution_count": 52,
   "id": "2664f386",
   "metadata": {},
   "outputs": [],
   "source": [
    "mudit.name = 'Rahul'"
   ]
  },
  {
   "cell_type": "code",
   "execution_count": 53,
   "id": "a0554f4c",
   "metadata": {},
   "outputs": [
    {
     "name": "stdout",
     "output_type": "stream",
     "text": [
      "Rahul Mudit 2301459427504 2301843605104\n"
     ]
    }
   ],
   "source": [
    "print(mudit.name, Person.name, id(mudit.name), id(Person.name))"
   ]
  },
  {
   "cell_type": "code",
   "execution_count": 54,
   "id": "a8da841c",
   "metadata": {},
   "outputs": [
    {
     "name": "stdout",
     "output_type": "stream",
     "text": [
      "2301400614960\n"
     ]
    }
   ],
   "source": [
    "var = 'STRING'\n",
    "print(id(var))"
   ]
  },
  {
   "cell_type": "code",
   "execution_count": 55,
   "id": "9d09038a",
   "metadata": {},
   "outputs": [
    {
     "name": "stdout",
     "output_type": "stream",
     "text": [
      "2301394833648\n"
     ]
    }
   ],
   "source": [
    "var = 'string'\n",
    "print(id(var))"
   ]
  },
  {
   "cell_type": "code",
   "execution_count": 56,
   "id": "d2039682",
   "metadata": {},
   "outputs": [],
   "source": [
    "abhijeet = Person()"
   ]
  },
  {
   "cell_type": "code",
   "execution_count": 57,
   "id": "a13521b2",
   "metadata": {},
   "outputs": [
    {
     "data": {
      "text/plain": [
       "'Mudit'"
      ]
     },
     "execution_count": 57,
     "metadata": {},
     "output_type": "execute_result"
    }
   ],
   "source": [
    "abhijeet.name"
   ]
  },
  {
   "cell_type": "code",
   "execution_count": 58,
   "id": "218123ca",
   "metadata": {},
   "outputs": [],
   "source": [
    "Person.updation('Abhijeet', 23, 'Male')"
   ]
  },
  {
   "cell_type": "code",
   "execution_count": 63,
   "id": "b6da9f28",
   "metadata": {},
   "outputs": [
    {
     "name": "stdout",
     "output_type": "stream",
     "text": [
      "Mudit\n"
     ]
    }
   ],
   "source": [
    "print(Person.name)"
   ]
  },
  {
   "cell_type": "code",
   "execution_count": 66,
   "id": "6e3361b6",
   "metadata": {},
   "outputs": [],
   "source": [
    "abhijeet = Person()"
   ]
  },
  {
   "cell_type": "code",
   "execution_count": 67,
   "id": "ae2d6871",
   "metadata": {},
   "outputs": [
    {
     "data": {
      "text/plain": [
       "'Rahul'"
      ]
     },
     "execution_count": 67,
     "metadata": {},
     "output_type": "execute_result"
    }
   ],
   "source": [
    "abhijeet.name"
   ]
  },
  {
   "cell_type": "code",
   "execution_count": 68,
   "id": "22fffa77",
   "metadata": {},
   "outputs": [],
   "source": [
    "Person.updation('Abhijeet', 23, 'Male')"
   ]
  },
  {
   "cell_type": "code",
   "execution_count": 71,
   "id": "a401138e",
   "metadata": {},
   "outputs": [
    {
     "data": {
      "text/plain": [
       "('Abhijeet', 23, 'Male')"
      ]
     },
     "execution_count": 71,
     "metadata": {},
     "output_type": "execute_result"
    }
   ],
   "source": [
    "abhijeet.name, abhijeet.age, abhijeet.gender"
   ]
  },
  {
   "cell_type": "code",
   "execution_count": 73,
   "id": "715df410",
   "metadata": {},
   "outputs": [
    {
     "data": {
      "text/plain": [
       "'Abhijeet'"
      ]
     },
     "execution_count": 73,
     "metadata": {},
     "output_type": "execute_result"
    }
   ],
   "source": [
    "abhijeet.name"
   ]
  },
  {
   "cell_type": "code",
   "execution_count": 79,
   "id": "14e54753",
   "metadata": {},
   "outputs": [],
   "source": [
    "mudit = Person()"
   ]
  },
  {
   "cell_type": "code",
   "execution_count": 80,
   "id": "30824a83",
   "metadata": {},
   "outputs": [
    {
     "data": {
      "text/plain": [
       "'Rahul'"
      ]
     },
     "execution_count": 80,
     "metadata": {},
     "output_type": "execute_result"
    }
   ],
   "source": [
    "mudit.name"
   ]
  },
  {
   "cell_type": "code",
   "execution_count": 81,
   "id": "1b64e269",
   "metadata": {},
   "outputs": [],
   "source": [
    "mudit.updation('Mudit', 21, 'Male')"
   ]
  },
  {
   "cell_type": "code",
   "execution_count": 82,
   "id": "b26ed602",
   "metadata": {},
   "outputs": [
    {
     "data": {
      "text/plain": [
       "'Mudit'"
      ]
     },
     "execution_count": 82,
     "metadata": {},
     "output_type": "execute_result"
    }
   ],
   "source": [
    "mudit.name"
   ]
  },
  {
   "cell_type": "code",
   "execution_count": 83,
   "id": "a450c73a",
   "metadata": {},
   "outputs": [
    {
     "data": {
      "text/plain": [
       "'Mudit'"
      ]
     },
     "execution_count": 83,
     "metadata": {},
     "output_type": "execute_result"
    }
   ],
   "source": [
    "Person.name"
   ]
  },
  {
   "cell_type": "code",
   "execution_count": 89,
   "id": "d88e3db0",
   "metadata": {},
   "outputs": [],
   "source": [
    "class Person:\n",
    "    mammel = True\n",
    "    name = 'Rahul'\n",
    "    age = 24\n",
    "    gender = 'Male'\n",
    "    \n",
    "    def updation(self, updated_name, updated_age, updated_gender):\n",
    "        self.name = updated_name\n",
    "        self.age = updated_age\n",
    "        self.gender = updated_gender"
   ]
  },
  {
   "cell_type": "code",
   "execution_count": 90,
   "id": "6a37f4d0",
   "metadata": {},
   "outputs": [],
   "source": [
    "abhijeet = Person()"
   ]
  },
  {
   "cell_type": "code",
   "execution_count": 91,
   "id": "578b1555",
   "metadata": {},
   "outputs": [
    {
     "data": {
      "text/plain": [
       "'Rahul'"
      ]
     },
     "execution_count": 91,
     "metadata": {},
     "output_type": "execute_result"
    }
   ],
   "source": [
    "abhijeet.name"
   ]
  },
  {
   "cell_type": "code",
   "execution_count": 92,
   "id": "e930b3a8",
   "metadata": {},
   "outputs": [],
   "source": [
    "abhijeet.updation('Abhijeet', 23, 'Male')"
   ]
  },
  {
   "cell_type": "code",
   "execution_count": 93,
   "id": "79843326",
   "metadata": {},
   "outputs": [
    {
     "data": {
      "text/plain": [
       "'Abhijeet'"
      ]
     },
     "execution_count": 93,
     "metadata": {},
     "output_type": "execute_result"
    }
   ],
   "source": [
    "abhijeet.name"
   ]
  },
  {
   "cell_type": "code",
   "execution_count": 100,
   "id": "79d78e83",
   "metadata": {},
   "outputs": [],
   "source": [
    "Person.updation(Person, 'Abhijeet', 23, 'Male')"
   ]
  },
  {
   "cell_type": "code",
   "execution_count": 101,
   "id": "7a228aeb",
   "metadata": {},
   "outputs": [
    {
     "name": "stdout",
     "output_type": "stream",
     "text": [
      "Abhijeet\n"
     ]
    }
   ],
   "source": [
    "print(Person.name)"
   ]
  },
  {
   "cell_type": "code",
   "execution_count": 106,
   "id": "750886ec",
   "metadata": {},
   "outputs": [
    {
     "name": "stdout",
     "output_type": "stream",
     "text": [
      "True\n"
     ]
    }
   ],
   "source": [
    "print(isinstance(Person, object))"
   ]
  },
  {
   "cell_type": "code",
   "execution_count": null,
   "id": "d3a6083c",
   "metadata": {},
   "outputs": [],
   "source": []
  }
 ],
 "metadata": {
  "kernelspec": {
   "display_name": "Python 3 (ipykernel)",
   "language": "python",
   "name": "python3"
  },
  "language_info": {
   "codemirror_mode": {
    "name": "ipython",
    "version": 3
   },
   "file_extension": ".py",
   "mimetype": "text/x-python",
   "name": "python",
   "nbconvert_exporter": "python",
   "pygments_lexer": "ipython3",
   "version": "3.8.10"
  }
 },
 "nbformat": 4,
 "nbformat_minor": 5
}
