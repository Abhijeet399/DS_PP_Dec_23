{
 "cells": [
  {
   "cell_type": "code",
   "execution_count": 1,
   "id": "42520691",
   "metadata": {},
   "outputs": [],
   "source": [
    "# Tuples"
   ]
  },
  {
   "cell_type": "code",
   "execution_count": 2,
   "id": "f0b087d3",
   "metadata": {},
   "outputs": [],
   "source": [
    "var = ()"
   ]
  },
  {
   "cell_type": "code",
   "execution_count": 3,
   "id": "e45f251a",
   "metadata": {},
   "outputs": [
    {
     "name": "stdout",
     "output_type": "stream",
     "text": [
      "<class 'tuple'>\n"
     ]
    }
   ],
   "source": [
    "print(type(var))"
   ]
  },
  {
   "cell_type": "code",
   "execution_count": 4,
   "id": "64bbd43b",
   "metadata": {},
   "outputs": [
    {
     "name": "stdout",
     "output_type": "stream",
     "text": [
      "()\n"
     ]
    }
   ],
   "source": [
    "print(var)"
   ]
  },
  {
   "cell_type": "code",
   "execution_count": 5,
   "id": "f19cb693",
   "metadata": {},
   "outputs": [],
   "source": [
    "def calculator(a, b):\n",
    "    return a+b, a-b, a*b, a/b"
   ]
  },
  {
   "cell_type": "code",
   "execution_count": 6,
   "id": "61384f44",
   "metadata": {},
   "outputs": [],
   "source": [
    "add, sub, mul, div = calculator(10, 20)"
   ]
  },
  {
   "cell_type": "code",
   "execution_count": 7,
   "id": "b1fb496b",
   "metadata": {},
   "outputs": [
    {
     "name": "stdout",
     "output_type": "stream",
     "text": [
      "30 -10 200 0.5\n",
      "<class 'int'> <class 'int'> <class 'int'> <class 'float'>\n"
     ]
    }
   ],
   "source": [
    "print(add, sub, mul, div)\n",
    "print(type(add), type(sub), type(mul), type(div))"
   ]
  },
  {
   "cell_type": "code",
   "execution_count": 8,
   "id": "e45f850d",
   "metadata": {},
   "outputs": [
    {
     "name": "stdout",
     "output_type": "stream",
     "text": [
      "(30, -10, 200, 0.5)\n"
     ]
    }
   ],
   "source": [
    "print(calculator(10, 20))"
   ]
  },
  {
   "cell_type": "code",
   "execution_count": 9,
   "id": "155d2902",
   "metadata": {},
   "outputs": [],
   "source": [
    "var = (1,2,3,4,'string',True)"
   ]
  },
  {
   "cell_type": "code",
   "execution_count": 10,
   "id": "8c4537de",
   "metadata": {},
   "outputs": [
    {
     "name": "stdout",
     "output_type": "stream",
     "text": [
      "(1, 2, 3, 4, 'string', True)\n"
     ]
    }
   ],
   "source": [
    "print(var)"
   ]
  },
  {
   "cell_type": "code",
   "execution_count": 11,
   "id": "19cc3cbe",
   "metadata": {},
   "outputs": [
    {
     "data": {
      "text/plain": [
       "2"
      ]
     },
     "execution_count": 11,
     "metadata": {},
     "output_type": "execute_result"
    }
   ],
   "source": [
    "var[1]"
   ]
  },
  {
   "cell_type": "code",
   "execution_count": 12,
   "id": "359a4cb2",
   "metadata": {},
   "outputs": [
    {
     "name": "stdout",
     "output_type": "stream",
     "text": [
      "1\n",
      "2\n",
      "3\n",
      "4\n",
      "string\n",
      "True\n"
     ]
    }
   ],
   "source": [
    "for i in var:\n",
    "    print(i)"
   ]
  },
  {
   "cell_type": "code",
   "execution_count": 13,
   "id": "a71884b5",
   "metadata": {},
   "outputs": [
    {
     "ename": "TypeError",
     "evalue": "'tuple' object does not support item assignment",
     "output_type": "error",
     "traceback": [
      "\u001b[1;31m---------------------------------------------------------------------------\u001b[0m",
      "\u001b[1;31mTypeError\u001b[0m                                 Traceback (most recent call last)",
      "Cell \u001b[1;32mIn[13], line 1\u001b[0m\n\u001b[1;32m----> 1\u001b[0m \u001b[43mvar\u001b[49m\u001b[43m[\u001b[49m\u001b[38;5;241;43m0\u001b[39;49m\u001b[43m]\u001b[49m \u001b[38;5;241m=\u001b[39m \u001b[38;5;241m100\u001b[39m\n\u001b[0;32m      2\u001b[0m \u001b[38;5;28mprint\u001b[39m(var)\n",
      "\u001b[1;31mTypeError\u001b[0m: 'tuple' object does not support item assignment"
     ]
    }
   ],
   "source": [
    "var[0] = 100\n",
    "print(var)"
   ]
  },
  {
   "cell_type": "code",
   "execution_count": 14,
   "id": "4a32ca06",
   "metadata": {},
   "outputs": [
    {
     "name": "stdout",
     "output_type": "stream",
     "text": [
      "(60, 20, 800, 2.0)\n"
     ]
    }
   ],
   "source": [
    "calc = calculator(40, 20)\n",
    "print(calc)"
   ]
  },
  {
   "cell_type": "code",
   "execution_count": 15,
   "id": "e4084a3e",
   "metadata": {},
   "outputs": [
    {
     "ename": "TypeError",
     "evalue": "'tuple' object does not support item assignment",
     "output_type": "error",
     "traceback": [
      "\u001b[1;31m---------------------------------------------------------------------------\u001b[0m",
      "\u001b[1;31mTypeError\u001b[0m                                 Traceback (most recent call last)",
      "Cell \u001b[1;32mIn[15], line 1\u001b[0m\n\u001b[1;32m----> 1\u001b[0m \u001b[43mcalc\u001b[49m\u001b[43m[\u001b[49m\u001b[38;5;241;43m0\u001b[39;49m\u001b[43m]\u001b[49m \u001b[38;5;241m=\u001b[39m \u001b[38;5;241m80\u001b[39m\n",
      "\u001b[1;31mTypeError\u001b[0m: 'tuple' object does not support item assignment"
     ]
    }
   ],
   "source": [
    "calc[0] = 80"
   ]
  },
  {
   "cell_type": "code",
   "execution_count": 16,
   "id": "be48d1c1",
   "metadata": {},
   "outputs": [],
   "source": [
    "def adder(a, b):\n",
    "    return a+b, a-b"
   ]
  },
  {
   "cell_type": "code",
   "execution_count": 17,
   "id": "2663aa88",
   "metadata": {},
   "outputs": [],
   "source": [
    "add = adder(1, 2)"
   ]
  },
  {
   "cell_type": "code",
   "execution_count": 18,
   "id": "184b0ab3",
   "metadata": {},
   "outputs": [
    {
     "data": {
      "text/plain": [
       "tuple"
      ]
     },
     "execution_count": 18,
     "metadata": {},
     "output_type": "execute_result"
    }
   ],
   "source": [
    "type(add)"
   ]
  },
  {
   "cell_type": "code",
   "execution_count": 19,
   "id": "cfd5cfcf",
   "metadata": {},
   "outputs": [
    {
     "data": {
      "text/plain": [
       "3"
      ]
     },
     "execution_count": 19,
     "metadata": {},
     "output_type": "execute_result"
    }
   ],
   "source": [
    "add[0]"
   ]
  },
  {
   "cell_type": "code",
   "execution_count": 20,
   "id": "dc10b88f",
   "metadata": {},
   "outputs": [
    {
     "name": "stdout",
     "output_type": "stream",
     "text": [
      "(1, 2, 3, 4, 'string', True) 2546640969632\n"
     ]
    }
   ],
   "source": [
    "print(var, id(var))"
   ]
  },
  {
   "cell_type": "code",
   "execution_count": 21,
   "id": "fff43b38",
   "metadata": {},
   "outputs": [
    {
     "name": "stdout",
     "output_type": "stream",
     "text": [
      "(1, 2, 3) 2546641464256\n"
     ]
    }
   ],
   "source": [
    "var = (1,2,3)\n",
    "print(var, id(var))"
   ]
  },
  {
   "cell_type": "code",
   "execution_count": 22,
   "id": "d3632b7b",
   "metadata": {},
   "outputs": [],
   "source": [
    "converted_tup = list(var)"
   ]
  },
  {
   "cell_type": "code",
   "execution_count": 23,
   "id": "1eb36f59",
   "metadata": {},
   "outputs": [
    {
     "data": {
      "text/plain": [
       "list"
      ]
     },
     "execution_count": 23,
     "metadata": {},
     "output_type": "execute_result"
    }
   ],
   "source": [
    "type(converted_tup)"
   ]
  },
  {
   "cell_type": "code",
   "execution_count": 24,
   "id": "57941e4d",
   "metadata": {},
   "outputs": [
    {
     "data": {
      "text/plain": [
       "[1, 2, 3]"
      ]
     },
     "execution_count": 24,
     "metadata": {},
     "output_type": "execute_result"
    }
   ],
   "source": [
    "converted_tup"
   ]
  },
  {
   "cell_type": "code",
   "execution_count": 25,
   "id": "1fa2c057",
   "metadata": {},
   "outputs": [],
   "source": [
    "converted_tup[0] = 10"
   ]
  },
  {
   "cell_type": "code",
   "execution_count": 26,
   "id": "66cfe6b2",
   "metadata": {},
   "outputs": [
    {
     "data": {
      "text/plain": [
       "[10, 2, 3]"
      ]
     },
     "execution_count": 26,
     "metadata": {},
     "output_type": "execute_result"
    }
   ],
   "source": [
    "converted_tup"
   ]
  },
  {
   "cell_type": "code",
   "execution_count": 27,
   "id": "a012abd8",
   "metadata": {},
   "outputs": [],
   "source": [
    "converted_tup = tuple(converted_tup)"
   ]
  },
  {
   "cell_type": "code",
   "execution_count": 28,
   "id": "a3dbe676",
   "metadata": {},
   "outputs": [
    {
     "data": {
      "text/plain": [
       "((10, 2, 3), tuple)"
      ]
     },
     "execution_count": 28,
     "metadata": {},
     "output_type": "execute_result"
    }
   ],
   "source": [
    "converted_tup, type(converted_tup)"
   ]
  },
  {
   "cell_type": "code",
   "execution_count": 29,
   "id": "8f129d9c",
   "metadata": {},
   "outputs": [
    {
     "data": {
      "text/plain": [
       "(1, 2, 3, 4)"
      ]
     },
     "execution_count": 29,
     "metadata": {},
     "output_type": "execute_result"
    }
   ],
   "source": [
    "1,2,3,4"
   ]
  },
  {
   "cell_type": "code",
   "execution_count": 36,
   "id": "4e9ce485",
   "metadata": {},
   "outputs": [],
   "source": [
    "lst = []\n",
    "for i in range(20):\n",
    "    lst.append(i)"
   ]
  },
  {
   "cell_type": "code",
   "execution_count": 37,
   "id": "b0599e45",
   "metadata": {},
   "outputs": [],
   "source": [
    "lst.reverse()"
   ]
  },
  {
   "cell_type": "code",
   "execution_count": 41,
   "id": "ba2ff194",
   "metadata": {},
   "outputs": [
    {
     "name": "stdout",
     "output_type": "stream",
     "text": [
      "(19, 18, 17, 16, 15, 14, 13, 12, 11, 10, 9, 8, 7, 6, 5, 4, 3, 2, 1, 0) 20\n"
     ]
    }
   ],
   "source": [
    "lst = tuple(lst)\n",
    "print(lst, len(lst))"
   ]
  },
  {
   "cell_type": "code",
   "execution_count": 44,
   "id": "e19ac3a9",
   "metadata": {},
   "outputs": [
    {
     "name": "stdout",
     "output_type": "stream",
     "text": [
      "2\n"
     ]
    }
   ],
   "source": [
    "target = 17\n",
    "start = 0\n",
    "end = len(lst) - 1\n",
    "\n",
    "while(start <= end):\n",
    "    mid = int((start + end)/2)\n",
    "    if lst[mid] == target:\n",
    "        print(mid)\n",
    "        break\n",
    "    if lst[mid] < target:\n",
    "        end = mid - 1\n",
    "    if lst[mid] > target:\n",
    "        start = mid + 1"
   ]
  },
  {
   "cell_type": "code",
   "execution_count": 48,
   "id": "05daa114",
   "metadata": {},
   "outputs": [],
   "source": [
    "var = (1,2,3,4,5,[10,20,30])"
   ]
  },
  {
   "cell_type": "code",
   "execution_count": 50,
   "id": "c597be80",
   "metadata": {},
   "outputs": [
    {
     "name": "stdout",
     "output_type": "stream",
     "text": [
      "(1, 2, 3, 4, 5, [10, 20, 30, 100])\n"
     ]
    }
   ],
   "source": [
    "var[-1].append(100)\n",
    "print(var)"
   ]
  },
  {
   "cell_type": "code",
   "execution_count": 53,
   "id": "76252e5b",
   "metadata": {},
   "outputs": [],
   "source": [
    "# Dictionaries"
   ]
  },
  {
   "cell_type": "code",
   "execution_count": 54,
   "id": "2a41525d",
   "metadata": {},
   "outputs": [],
   "source": [
    "d = {}"
   ]
  },
  {
   "cell_type": "code",
   "execution_count": 55,
   "id": "01738926",
   "metadata": {},
   "outputs": [
    {
     "name": "stdout",
     "output_type": "stream",
     "text": [
      "<class 'dict'>\n"
     ]
    }
   ],
   "source": [
    "print(type(d))"
   ]
  },
  {
   "cell_type": "code",
   "execution_count": 60,
   "id": "f67270ea",
   "metadata": {},
   "outputs": [],
   "source": [
    "d = {\n",
    "    'A': 'The first alphabet',\n",
    "    'B': 100,\n",
    "    2.0: 500,\n",
    "    'hello': [1,2,3], \n",
    "    'another': {\n",
    "        1:1,\n",
    "        2:2,\n",
    "        3:3\n",
    "    }\n",
    "}"
   ]
  },
  {
   "cell_type": "code",
   "execution_count": 61,
   "id": "41a25b1c",
   "metadata": {},
   "outputs": [
    {
     "data": {
      "text/plain": [
       "{'A': 'The first alphabet',\n",
       " 'B': 100,\n",
       " 2.0: 500,\n",
       " 'hello': [1, 2, 3],\n",
       " 'another': {1: 1, 2: 2, 3: 3}}"
      ]
     },
     "execution_count": 61,
     "metadata": {},
     "output_type": "execute_result"
    }
   ],
   "source": [
    "d"
   ]
  },
  {
   "cell_type": "code",
   "execution_count": 70,
   "id": "39ff4260",
   "metadata": {},
   "outputs": [
    {
     "data": {
      "text/plain": [
       "1"
      ]
     },
     "execution_count": 70,
     "metadata": {},
     "output_type": "execute_result"
    }
   ],
   "source": [
    "d['hello'][0]"
   ]
  },
  {
   "cell_type": "code",
   "execution_count": 75,
   "id": "bdffe87f",
   "metadata": {},
   "outputs": [
    {
     "name": "stdout",
     "output_type": "stream",
     "text": [
      "A\n",
      "B\n",
      "2.0\n",
      "hello\n",
      "another\n"
     ]
    }
   ],
   "source": [
    "for i in d:\n",
    "    print(i)"
   ]
  },
  {
   "cell_type": "code",
   "execution_count": 77,
   "id": "4937d260",
   "metadata": {},
   "outputs": [],
   "source": [
    "d['A'] = 'A'"
   ]
  },
  {
   "cell_type": "code",
   "execution_count": 79,
   "id": "c280129e",
   "metadata": {},
   "outputs": [],
   "source": [
    "d[100] = 33.33"
   ]
  },
  {
   "cell_type": "code",
   "execution_count": 80,
   "id": "36a3ae50",
   "metadata": {},
   "outputs": [
    {
     "data": {
      "text/plain": [
       "{'A': 'A',\n",
       " 'B': 100,\n",
       " 2.0: 500,\n",
       " 'hello': [1, 2, 3],\n",
       " 'another': {1: 1, 2: 2, 3: 3},\n",
       " 100: 33.33}"
      ]
     },
     "execution_count": 80,
     "metadata": {},
     "output_type": "execute_result"
    }
   ],
   "source": [
    "d"
   ]
  },
  {
   "cell_type": "code",
   "execution_count": 82,
   "id": "239da12c",
   "metadata": {},
   "outputs": [
    {
     "data": {
      "text/plain": [
       "dict_keys(['A', 'B', 2.0, 'hello', 'another', 100])"
      ]
     },
     "execution_count": 82,
     "metadata": {},
     "output_type": "execute_result"
    }
   ],
   "source": [
    "d.keys()"
   ]
  },
  {
   "cell_type": "code",
   "execution_count": 84,
   "id": "a15ef04f",
   "metadata": {},
   "outputs": [
    {
     "data": {
      "text/plain": [
       "dict_values(['A', 100, 500, [1, 2, 3], {1: 1, 2: 2, 3: 3}, 33.33])"
      ]
     },
     "execution_count": 84,
     "metadata": {},
     "output_type": "execute_result"
    }
   ],
   "source": [
    "d.values()"
   ]
  },
  {
   "cell_type": "code",
   "execution_count": 88,
   "id": "6aa8c9bb",
   "metadata": {},
   "outputs": [
    {
     "data": {
      "text/plain": [
       "dict_items([('A', 'A'), ('B', 100), (2.0, 500), ('hello', [1, 2, 3]), ('another', {1: 1, 2: 2, 3: 3}), (100, 33.33)])"
      ]
     },
     "execution_count": 88,
     "metadata": {},
     "output_type": "execute_result"
    }
   ],
   "source": [
    "d.items()"
   ]
  },
  {
   "cell_type": "code",
   "execution_count": 90,
   "id": "b5c0822c",
   "metadata": {},
   "outputs": [
    {
     "name": "stdout",
     "output_type": "stream",
     "text": [
      "('A', 'A')\n",
      "('B', 100)\n",
      "(2.0, 500)\n",
      "('hello', [1, 2, 3])\n",
      "('another', {1: 1, 2: 2, 3: 3})\n",
      "(100, 33.33)\n"
     ]
    }
   ],
   "source": [
    "for i in d.items():\n",
    "    print(i)"
   ]
  },
  {
   "cell_type": "code",
   "execution_count": 92,
   "id": "767bb92e",
   "metadata": {},
   "outputs": [
    {
     "name": "stdout",
     "output_type": "stream",
     "text": [
      "A\n",
      "100\n",
      "500\n",
      "[1, 2, 3]\n",
      "{1: 1, 2: 2, 3: 3}\n",
      "33.33\n"
     ]
    }
   ],
   "source": [
    "for i in d.values():\n",
    "    print(i)"
   ]
  },
  {
   "cell_type": "code",
   "execution_count": 93,
   "id": "f786eafb",
   "metadata": {},
   "outputs": [
    {
     "name": "stdout",
     "output_type": "stream",
     "text": [
      "Marks?50\n",
      "Marks?Abhijeet\n",
      "Marks?23\n",
      "Marks?95\n",
      "Marks?Vaibhav\n",
      "Marks?20\n",
      "Marks?75\n",
      "Marks?Mudit\n",
      "Marks?21\n"
     ]
    }
   ],
   "source": [
    "all_stuent = {}\n",
    "\n",
    "for i in range(3):\n",
    "    marks = int(input('Marks?'))\n",
    "    name = (input('Name?'))\n",
    "    age = int(input('Age?'))\n",
    "    student = {\n",
    "        'marks': marks,\n",
    "        'Name': name,\n",
    "        'Age': age\n",
    "    }\n",
    "    all_stuent[i] = student"
   ]
  },
  {
   "cell_type": "code",
   "execution_count": 97,
   "id": "550b0391",
   "metadata": {},
   "outputs": [
    {
     "data": {
      "text/plain": [
       "{0: {'marks': 50, 'Name': 'Abhijeet', 'Age': 23},\n",
       " 1: {'marks': 95, 'Name': 'Vaibhav', 'Age': 20},\n",
       " 2: {'marks': 75, 'Name': 'Mudit', 'Age': 21}}"
      ]
     },
     "execution_count": 97,
     "metadata": {},
     "output_type": "execute_result"
    }
   ],
   "source": [
    "all_stuent"
   ]
  },
  {
   "cell_type": "code",
   "execution_count": 102,
   "id": "713f220b",
   "metadata": {},
   "outputs": [
    {
     "data": {
      "text/plain": [
       "100"
      ]
     },
     "execution_count": 102,
     "metadata": {},
     "output_type": "execute_result"
    }
   ],
   "source": [
    "d.pop('B')"
   ]
  },
  {
   "cell_type": "code",
   "execution_count": 103,
   "id": "3a61b2a9",
   "metadata": {
    "scrolled": true
   },
   "outputs": [
    {
     "data": {
      "text/plain": [
       "{'A': 'A',\n",
       " 2.0: 500,\n",
       " 'hello': [1, 2, 3],\n",
       " 'another': {1: 1, 2: 2, 3: 3},\n",
       " 100: 33.33}"
      ]
     },
     "execution_count": 103,
     "metadata": {},
     "output_type": "execute_result"
    }
   ],
   "source": [
    "d"
   ]
  },
  {
   "cell_type": "code",
   "execution_count": 104,
   "id": "6f97b802",
   "metadata": {},
   "outputs": [
    {
     "data": {
      "text/plain": [
       "500"
      ]
     },
     "execution_count": 104,
     "metadata": {},
     "output_type": "execute_result"
    }
   ],
   "source": [
    "d.get(2.0)"
   ]
  },
  {
   "cell_type": "code",
   "execution_count": 110,
   "id": "58e316db",
   "metadata": {},
   "outputs": [],
   "source": [
    "b = 10"
   ]
  },
  {
   "cell_type": "code",
   "execution_count": 111,
   "id": "3cc0305b",
   "metadata": {},
   "outputs": [],
   "source": [
    "del b"
   ]
  },
  {
   "cell_type": "code",
   "execution_count": 112,
   "id": "38b4fb2f",
   "metadata": {},
   "outputs": [
    {
     "ename": "NameError",
     "evalue": "name 'b' is not defined",
     "output_type": "error",
     "traceback": [
      "\u001b[1;31m---------------------------------------------------------------------------\u001b[0m",
      "\u001b[1;31mNameError\u001b[0m                                 Traceback (most recent call last)",
      "Cell \u001b[1;32mIn[112], line 1\u001b[0m\n\u001b[1;32m----> 1\u001b[0m \u001b[38;5;28mprint\u001b[39m(\u001b[43mb\u001b[49m)\n",
      "\u001b[1;31mNameError\u001b[0m: name 'b' is not defined"
     ]
    }
   ],
   "source": [
    "print(b)"
   ]
  },
  {
   "cell_type": "code",
   "execution_count": 116,
   "id": "52126348",
   "metadata": {},
   "outputs": [
    {
     "data": {
      "text/plain": [
       "{'A': 10, 2.0: 10, 'hello': 10, 'another': 10, 100: 10}"
      ]
     },
     "execution_count": 116,
     "metadata": {},
     "output_type": "execute_result"
    }
   ],
   "source": [
    "d.fromkeys(d, 10)"
   ]
  },
  {
   "cell_type": "code",
   "execution_count": 120,
   "id": "f60e98ea",
   "metadata": {},
   "outputs": [],
   "source": [
    "var = (1,2,3)"
   ]
  },
  {
   "cell_type": "code",
   "execution_count": 125,
   "id": "bd39e0b8",
   "metadata": {},
   "outputs": [
    {
     "data": {
      "text/plain": [
       "{1: [20, 30, 40], 2: [20, 30, 40], 3: [20, 30, 40]}"
      ]
     },
     "execution_count": 125,
     "metadata": {},
     "output_type": "execute_result"
    }
   ],
   "source": [
    "d.fromkeys(var, [20, 30, 40])"
   ]
  },
  {
   "cell_type": "code",
   "execution_count": 127,
   "id": "ba468256",
   "metadata": {},
   "outputs": [],
   "source": [
    "d[1000] = 1000"
   ]
  },
  {
   "cell_type": "code",
   "execution_count": 129,
   "id": "444ada50",
   "metadata": {},
   "outputs": [],
   "source": [
    "d['A'] = 'First Alphabet'"
   ]
  },
  {
   "cell_type": "code",
   "execution_count": 134,
   "id": "9a21d176",
   "metadata": {},
   "outputs": [],
   "source": [
    "d.update?"
   ]
  },
  {
   "cell_type": "code",
   "execution_count": null,
   "id": "175d0b21",
   "metadata": {},
   "outputs": [],
   "source": []
  }
 ],
 "metadata": {
  "kernelspec": {
   "display_name": "Python 3 (ipykernel)",
   "language": "python",
   "name": "python3"
  },
  "language_info": {
   "codemirror_mode": {
    "name": "ipython",
    "version": 3
   },
   "file_extension": ".py",
   "mimetype": "text/x-python",
   "name": "python",
   "nbconvert_exporter": "python",
   "pygments_lexer": "ipython3",
   "version": "3.8.10"
  }
 },
 "nbformat": 4,
 "nbformat_minor": 5
}
