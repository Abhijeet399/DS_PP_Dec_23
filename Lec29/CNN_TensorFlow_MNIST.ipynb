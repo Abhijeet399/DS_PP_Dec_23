{
 "cells": [
  {
   "cell_type": "code",
   "execution_count": 1,
   "id": "33bd8e7b",
   "metadata": {},
   "outputs": [],
   "source": [
    "import tensorflow\n",
    "import numpy as np\n",
    "import matplotlib.pyplot as plt\n",
    "from keras.datasets import mnist"
   ]
  },
  {
   "cell_type": "code",
   "execution_count": 2,
   "id": "d7ada6dc",
   "metadata": {},
   "outputs": [],
   "source": [
    "(train_X, train_Y), (test_X, test_Y) = mnist.load_data()"
   ]
  },
  {
   "cell_type": "code",
   "execution_count": 3,
   "id": "a8a8cc1c",
   "metadata": {},
   "outputs": [
    {
     "name": "stdout",
     "output_type": "stream",
     "text": [
      "(60000, 28, 28) (60000,) (10000, 28, 28) (10000,)\n"
     ]
    }
   ],
   "source": [
    "print(train_X.shape, train_Y.shape, test_X.shape, test_Y.shape)"
   ]
  },
  {
   "cell_type": "code",
   "execution_count": 4,
   "id": "ceb2ebd9",
   "metadata": {},
   "outputs": [
    {
     "data": {
      "text/plain": [
       "9"
      ]
     },
     "execution_count": 4,
     "metadata": {},
     "output_type": "execute_result"
    }
   ],
   "source": [
    "max(train_Y)"
   ]
  },
  {
   "cell_type": "code",
   "execution_count": 5,
   "id": "e2cd8ceb",
   "metadata": {},
   "outputs": [
    {
     "data": {
      "image/png": "[encoded data removed]",
      "text/plain": [
       "<Figure size 640x480 with 1 Axes>"
      ]
     },
     "metadata": {},
     "output_type": "display_data"
    },
    {
     "name": "stdout",
     "output_type": "stream",
     "text": [
      "3\n"
     ]
    }
   ],
   "source": [
    "plt.imshow(train_X[490], cmap = 'gray')\n",
    "plt.show()\n",
    "print(train_Y[490])"
   ]
  },
  {
   "cell_type": "code",
   "execution_count": 6,
   "id": "89547bd2",
   "metadata": {},
   "outputs": [],
   "source": [
    "from keras.utils import to_categorical"
   ]
  },
  {
   "cell_type": "code",
   "execution_count": 7,
   "id": "2a6e7b33",
   "metadata": {},
   "outputs": [],
   "source": [
    "train_Y = to_categorical(train_Y)\n",
    "test_Y = to_categorical(test_Y)"
   ]
  },
  {
   "cell_type": "code",
   "execution_count": 8,
   "id": "481cff95",
   "metadata": {},
   "outputs": [
    {
     "name": "stdout",
     "output_type": "stream",
     "text": [
      "[0. 0. 0. 1. 0. 0. 0. 0. 0. 0.]\n"
     ]
    }
   ],
   "source": [
    "print(train_Y[490])"
   ]
  },
  {
   "cell_type": "code",
   "execution_count": 9,
   "id": "20c04f71",
   "metadata": {},
   "outputs": [
    {
     "name": "stdout",
     "output_type": "stream",
     "text": [
      "255\n"
     ]
    }
   ],
   "source": [
    "print(np.max(train_X[5685]))"
   ]
  },
  {
   "cell_type": "code",
   "execution_count": 10,
   "id": "f69bc8e0",
   "metadata": {},
   "outputs": [],
   "source": [
    "train_X = train_X / 255\n",
    "test_X = test_X / 255"
   ]
  },
  {
   "cell_type": "code",
   "execution_count": 11,
   "id": "16101262",
   "metadata": {},
   "outputs": [
    {
     "name": "stdout",
     "output_type": "stream",
     "text": [
      "1.0\n"
     ]
    }
   ],
   "source": [
    "print(np.max(train_X[490]))"
   ]
  },
  {
   "cell_type": "code",
   "execution_count": 12,
   "id": "969c828c",
   "metadata": {},
   "outputs": [
    {
     "data": {
      "image/png": "[encoded data removed]",
      "text/plain": [
       "<Figure size 640x480 with 1 Axes>"
      ]
     },
     "metadata": {},
     "output_type": "display_data"
    },
    {
     "name": "stdout",
     "output_type": "stream",
     "text": [
      "[0. 0. 0. 1. 0. 0. 0. 0. 0. 0.]\n"
     ]
    }
   ],
   "source": [
    "plt.imshow(train_X[490], cmap = 'gray')\n",
    "plt.show()\n",
    "print(train_Y[490])"
   ]
  },
  {
   "cell_type": "code",
   "execution_count": 13,
   "id": "952a1e6e",
   "metadata": {},
   "outputs": [],
   "source": [
    "train_X = np.expand_dims(train_X, -1)\n",
    "test_X = np.expand_dims(test_X, -1)"
   ]
  },
  {
   "cell_type": "code",
   "execution_count": 14,
   "id": "26493080",
   "metadata": {},
   "outputs": [
    {
     "name": "stdout",
     "output_type": "stream",
     "text": [
      "(60000, 28, 28, 1) (10000, 28, 28, 1)\n"
     ]
    }
   ],
   "source": [
    "print(train_X.shape, test_X.shape)"
   ]
  },
  {
   "cell_type": "code",
   "execution_count": 15,
   "id": "f94454b3",
   "metadata": {},
   "outputs": [],
   "source": [
    "from keras.models import Sequential\n",
    "import keras\n",
    "from keras.layers import Conv2D, Dense"
   ]
  },
  {
   "cell_type": "code",
   "execution_count": 16,
   "id": "31f76d07",
   "metadata": {},
   "outputs": [],
   "source": [
    "model = Sequential(name = 'Thala_7')\n",
    "model.add(keras.Input(shape = (28, 28, 1)))\n",
    "model.add(Conv2D(50, kernel_size = (5, 5), strides = (1, 1), padding = 'valid', activation = 'relu'))\n",
    "model.add(Conv2D(100, kernel_size = (5, 5), strides = (1, 1), padding = 'valid', activation = 'relu'))\n",
    "model.add(Conv2D(200, kernel_size = (5, 5), strides = (1, 1), padding = 'valid', activation = 'relu'))\n",
    "model.add(Conv2D(400, kernel_size = (5, 5), strides = (1, 1), padding = 'valid', activation = 'relu'))\n",
    "# model.add(Conv2D(800, kernel_size = (5, 5), strides = (1, 1), padding = 'valid', activation = 'relu'))\n",
    "model.add(keras.layers.Flatten())\n",
    "model.add(Dense(1024, activation = 'relu'))\n",
    "model.add(Dense(10, activation = 'softmax'))"
   ]
  },
  {
   "cell_type": "code",
   "execution_count": 17,
   "id": "7b3fa529",
   "metadata": {},
   "outputs": [
    {
     "name": "stdout",
     "output_type": "stream",
     "text": [
      "Model: \"Thala_7\"\n",
      "_________________________________________________________________\n",
      " Layer (type)                Output Shape              Param #   \n",
      "=================================================================\n",
      " conv2d (Conv2D)             (None, 24, 24, 50)        1300      \n",
      "                                                                 \n",
      " conv2d_1 (Conv2D)           (None, 20, 20, 100)       125100    \n",
      "                                                                 \n",
      " conv2d_2 (Conv2D)           (None, 16, 16, 200)       500200    \n",
      "                                                                 \n",
      " conv2d_3 (Conv2D)           (None, 12, 12, 400)       2000400   \n",
      "                                                                 \n",
      " flatten (Flatten)           (None, 57600)             0         \n",
      "                                                                 \n",
      " dense (Dense)               (None, 1024)              58983424  \n",
      "                                                                 \n",
      " dense_1 (Dense)             (None, 10)                10250     \n",
      "                                                                 \n",
      "=================================================================\n",
      "Total params: 61620674 (235.06 MB)\n",
      "Trainable params: 61620674 (235.06 MB)\n",
      "Non-trainable params: 0 (0.00 Byte)\n",
      "_________________________________________________________________\n"
     ]
    }
   ],
   "source": [
    "model.summary()"
   ]
  },
  {
   "cell_type": "code",
   "execution_count": 18,
   "id": "80adbcd9",
   "metadata": {},
   "outputs": [],
   "source": [
    "model.compile(optimizer = 'Adam', loss = 'categorical_crossentropy', metrics = ['accuracy'])"
   ]
  },
  {
   "cell_type": "code",
   "execution_count": 19,
   "id": "b3d668dd",
   "metadata": {},
   "outputs": [
    {
     "name": "stdout",
     "output_type": "stream",
     "text": [
      "Epoch 1/20\n",
      "270/270 [==============================] - 1130s 4s/step - loss: 0.2159 - accuracy: 0.9352 - val_loss: 0.0628 - val_accuracy: 0.9832\n",
      "Epoch 2/20\n",
      "270/270 [==============================] - 885s 3s/step - loss: 0.0460 - accuracy: 0.9853 - val_loss: 0.0478 - val_accuracy: 0.9875\n",
      "Epoch 3/20\n",
      "270/270 [==============================] - 902s 3s/step - loss: 0.0300 - accuracy: 0.9903 - val_loss: 0.0316 - val_accuracy: 0.9917\n",
      "Epoch 4/20\n",
      "270/270 [==============================] - 891s 3s/step - loss: 0.0216 - accuracy: 0.9929 - val_loss: 0.0285 - val_accuracy: 0.9937\n",
      "Epoch 5/20\n",
      "270/270 [==============================] - 877s 3s/step - loss: 0.0196 - accuracy: 0.9935 - val_loss: 0.0306 - val_accuracy: 0.9913\n",
      "Epoch 6/20\n",
      "270/270 [==============================] - 828s 3s/step - loss: 0.0132 - accuracy: 0.9958 - val_loss: 0.0309 - val_accuracy: 0.9928\n",
      "Epoch 7/20\n",
      "270/270 [==============================] - 1063s 4s/step - loss: 0.0119 - accuracy: 0.9960 - val_loss: 0.0421 - val_accuracy: 0.9915\n",
      "Epoch 8/20\n",
      "270/270 [==============================] - 1140s 4s/step - loss: 0.0118 - accuracy: 0.9961 - val_loss: 0.0388 - val_accuracy: 0.9905\n",
      "Epoch 9/20\n",
      "270/270 [==============================] - 1181s 4s/step - loss: 0.0116 - accuracy: 0.9964 - val_loss: 0.0321 - val_accuracy: 0.9923\n",
      "Epoch 10/20\n",
      "270/270 [==============================] - 1167s 4s/step - loss: 0.0106 - accuracy: 0.9963 - val_loss: 0.0417 - val_accuracy: 0.9915\n",
      "Epoch 11/20\n",
      "270/270 [==============================] - 1152s 4s/step - loss: 0.0081 - accuracy: 0.9975 - val_loss: 0.0401 - val_accuracy: 0.9928\n",
      "Epoch 12/20\n",
      "270/270 [==============================] - 1172s 4s/step - loss: 0.0073 - accuracy: 0.9977 - val_loss: 0.0503 - val_accuracy: 0.9912\n",
      "Epoch 13/20\n",
      "270/270 [==============================] - 1210s 4s/step - loss: 0.0072 - accuracy: 0.9977 - val_loss: 0.0396 - val_accuracy: 0.9923\n",
      "Epoch 14/20\n",
      "270/270 [==============================] - 941s 3s/step - loss: 0.0079 - accuracy: 0.9974 - val_loss: 0.0659 - val_accuracy: 0.9893\n",
      "Epoch 15/20\n",
      "270/270 [==============================] - 835s 3s/step - loss: 0.0111 - accuracy: 0.9967 - val_loss: 0.0416 - val_accuracy: 0.9933\n",
      "Epoch 16/20\n",
      "270/270 [==============================] - 838s 3s/step - loss: 0.0041 - accuracy: 0.9988 - val_loss: 0.0451 - val_accuracy: 0.9908\n",
      "Epoch 17/20\n",
      "176/270 [==================>...........] - ETA: 6:29 - loss: 0.0019 - accuracy: 0.9994"
     ]
    },
    {
     "name": "stderr",
     "output_type": "stream",
     "text": [
      "\n",
      "KeyboardInterrupt\n",
      "\n"
     ]
    }
   ],
   "source": [
    "hist = model.fit(train_X, train_Y, epochs = 20, batch_size = 200, validation_split = 0.1)"
   ]
  },
  {
   "cell_type": "code",
   "execution_count": null,
   "id": "1166384a",
   "metadata": {},
   "outputs": [],
   "source": []
  }
 ],
 "metadata": {
  "kernelspec": {
   "display_name": "Python 3 (ipykernel)",
   "language": "python",
   "name": "python3"
  },
  "language_info": {
   "codemirror_mode": {
    "name": "ipython",
    "version": 3
   },
   "file_extension": ".py",
   "mimetype": "text/x-python",
   "name": "python",
   "nbconvert_exporter": "python",
   "pygments_lexer": "ipython3",
   "version": "3.8.10"
  }
 },
 "nbformat": 4,
 "nbformat_minor": 5
}
