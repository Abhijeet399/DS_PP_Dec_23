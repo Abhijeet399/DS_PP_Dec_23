{
 "cells": [
  {
   "cell_type": "code",
   "execution_count": 40,
   "id": "6f93f5da",
   "metadata": {},
   "outputs": [],
   "source": [
    "file = open('C:/Users/bhatt/OneDrive/Desktop/whisper-main/DS_PP_10_DEC_23/Lec14/abhijeet.txt', 'r')"
   ]
  },
  {
   "cell_type": "code",
   "execution_count": 41,
   "id": "8033be45",
   "metadata": {
    "scrolled": true
   },
   "outputs": [
    {
     "name": "stdout",
     "output_type": "stream",
     "text": [
      "Hello World!\n",
      "My name is Abhijeet.\n"
     ]
    }
   ],
   "source": [
    "print(file.read())"
   ]
  },
  {
   "cell_type": "code",
   "execution_count": 42,
   "id": "2a99395f",
   "metadata": {},
   "outputs": [],
   "source": [
    "file.close()"
   ]
  },
  {
   "cell_type": "code",
   "execution_count": 60,
   "id": "2d53cc94",
   "metadata": {},
   "outputs": [],
   "source": [
    "file = open('C:/Users/bhatt/OneDrive/Desktop/whisper-main/DS_PP_10_DEC_23/Lec14/abhijeet.txt', 'r')"
   ]
  },
  {
   "cell_type": "code",
   "execution_count": 62,
   "id": "6ca64c4e",
   "metadata": {},
   "outputs": [
    {
     "name": "stdout",
     "output_type": "stream",
     "text": [
      "My name is Abhijeet.\n"
     ]
    }
   ],
   "source": [
    "print(file.readline())"
   ]
  },
  {
   "cell_type": "code",
   "execution_count": 63,
   "id": "c66ea916",
   "metadata": {},
   "outputs": [],
   "source": [
    "file.close()"
   ]
  },
  {
   "cell_type": "code",
   "execution_count": 91,
   "id": "f471f3f8",
   "metadata": {},
   "outputs": [],
   "source": [
    "file = open('C:/Users/bhatt/OneDrive/Desktop/whisper-main/DS_PP_10_DEC_23/Lec14/abhijeet.txt', 'r')"
   ]
  },
  {
   "cell_type": "code",
   "execution_count": 92,
   "id": "01b35e09",
   "metadata": {},
   "outputs": [
    {
     "name": "stdout",
     "output_type": "stream",
     "text": [
      "My name is Abhijeet.\n"
     ]
    }
   ],
   "source": [
    "print(file.readlines()[1])"
   ]
  },
  {
   "cell_type": "code",
   "execution_count": 93,
   "id": "12d747cd",
   "metadata": {},
   "outputs": [],
   "source": [
    "file.close()"
   ]
  },
  {
   "cell_type": "code",
   "execution_count": 122,
   "id": "1234edd8",
   "metadata": {},
   "outputs": [],
   "source": [
    "file = open('C:/Users/bhatt/OneDrive/Desktop/whisper-main/DS_PP_10_DEC_23/Lec14/abhijeet.txt', 'r')"
   ]
  },
  {
   "cell_type": "code",
   "execution_count": 123,
   "id": "7f28bc6b",
   "metadata": {},
   "outputs": [
    {
     "name": "stdout",
     "output_type": "stream",
     "text": [
      "['Hello World!\\n', 'My name is Abhijeet.\\n']\n"
     ]
    }
   ],
   "source": [
    "print(file.readlines(15))"
   ]
  },
  {
   "cell_type": "code",
   "execution_count": 124,
   "id": "1d1e79a4",
   "metadata": {},
   "outputs": [],
   "source": [
    "file.close()"
   ]
  },
  {
   "cell_type": "code",
   "execution_count": 127,
   "id": "0bc03723",
   "metadata": {},
   "outputs": [
    {
     "name": "stdout",
     "output_type": "stream",
     "text": [
      "\n",
      "H\n",
      "He\n",
      "Hel\n",
      "Hell\n",
      "Hello\n",
      "Hello \n",
      "Hello W\n",
      "Hello Wo\n",
      "Hello Wor\n",
      "Hello Worl\n",
      "Hello World\n",
      "Hello World!\n",
      "Hello World!\n",
      "\n",
      "Hello World!\n",
      "M\n",
      "Hello World!\n",
      "My\n",
      "Hello World!\n",
      "My \n",
      "Hello World!\n",
      "My n\n",
      "Hello World!\n",
      "My na\n",
      "Hello World!\n",
      "My nam\n"
     ]
    }
   ],
   "source": [
    "file = open('C:/Users/bhatt/OneDrive/Desktop/whisper-main/DS_PP_10_DEC_23/Lec14/abhijeet.txt', 'r')\n",
    "for i in range(20):\n",
    "    file.seek(0)\n",
    "    print(file.read(i))\n",
    "    \n",
    "file.close()"
   ]
  },
  {
   "cell_type": "code",
   "execution_count": 134,
   "id": "b32b995e",
   "metadata": {},
   "outputs": [
    {
     "name": "stdout",
     "output_type": "stream",
     "text": [
      "\n"
     ]
    }
   ],
   "source": [
    "file = open('C:/Users/bhatt/OneDrive/Desktop/whisper-main/DS_PP_10_DEC_23/Lec14/abhijeet.txt', 'r')\n",
    "file.seek(10)\n",
    "print(file.read())\n",
    "file.close()"
   ]
  },
  {
   "cell_type": "code",
   "execution_count": 168,
   "id": "5a400ffc",
   "metadata": {},
   "outputs": [],
   "source": [
    "file = open('C:/Users/bhatt/OneDrive/Desktop/whisper-main/DS_PP_10_DEC_23/Lec15/abhijeet.txt', 'w')"
   ]
  },
  {
   "cell_type": "code",
   "execution_count": 169,
   "id": "434faf37",
   "metadata": {},
   "outputs": [],
   "source": [
    "string = '''Hello World!\n",
    "My name is Abhijeet!\n",
    "I live in New Delhi.\n",
    "I jashdfbfgliuasfdbjszhdbdvfsljdhbf\n",
    "'''"
   ]
  },
  {
   "cell_type": "code",
   "execution_count": 170,
   "id": "5f6fc1bf",
   "metadata": {
    "scrolled": true
   },
   "outputs": [
    {
     "data": {
      "text/plain": [
       "91"
      ]
     },
     "execution_count": 170,
     "metadata": {},
     "output_type": "execute_result"
    }
   ],
   "source": [
    "file.write(string)"
   ]
  },
  {
   "cell_type": "code",
   "execution_count": 171,
   "id": "eca9fc1c",
   "metadata": {},
   "outputs": [],
   "source": [
    "file.close()"
   ]
  },
  {
   "cell_type": "code",
   "execution_count": 177,
   "id": "bd4e65d2",
   "metadata": {},
   "outputs": [],
   "source": [
    "file = open('C:/Users/bhatt/OneDrive/Desktop/whisper-main/DS_PP_10_DEC_23/Lec15/abhijeet.txt', 'a')"
   ]
  },
  {
   "cell_type": "code",
   "execution_count": 178,
   "id": "aca45c05",
   "metadata": {},
   "outputs": [
    {
     "data": {
      "text/plain": [
       "15"
      ]
     },
     "execution_count": 178,
     "metadata": {},
     "output_type": "execute_result"
    }
   ],
   "source": [
    "file.seek(0)\n",
    "file.write('Rishu Bhaiiiii!')"
   ]
  },
  {
   "cell_type": "code",
   "execution_count": 179,
   "id": "87fcf7aa",
   "metadata": {},
   "outputs": [],
   "source": [
    "file.close()"
   ]
  },
  {
   "cell_type": "code",
   "execution_count": 193,
   "id": "b1260602",
   "metadata": {},
   "outputs": [],
   "source": [
    "file = open('C:/Users/bhatt/OneDrive/Desktop/whisper-main/DS_PP_10_DEC_23/Lec15/abhijeet.txt', 'r+')"
   ]
  },
  {
   "cell_type": "code",
   "execution_count": 194,
   "id": "05e1680e",
   "metadata": {
    "scrolled": true
   },
   "outputs": [
    {
     "name": "stdout",
     "output_type": "stream",
     "text": [
      "\n",
      " Amit Bhaiiiii!name is Abhijeet!\n",
      "I live in New Delhi.\n",
      "I jashdfbfgliuasfdbjszhdbdvfsljdhbf\n",
      "Mudit Bhaiiiii!Rishu Bhaiiiii!\n",
      " Rahul Bhaiiiii!\n"
     ]
    }
   ],
   "source": [
    "write_up = file.read()\n",
    "print(write_up)"
   ]
  },
  {
   "cell_type": "code",
   "execution_count": 195,
   "id": "7163f539",
   "metadata": {
    "scrolled": true
   },
   "outputs": [
    {
     "name": "stdout",
     "output_type": "stream",
     "text": [
      "Vipin Bhaiii\n",
      " Amit Bhaiiiii!name is Abhijeet!\n",
      "I live in New Delhi.\n",
      "I jashdfbfgliuasfdbjszhdbdvfsljdhbf\n",
      "Mudit Bhaiiiii!Rishu Bhaiiiii!\n",
      " Rahul Bhaiiiii!\n"
     ]
    }
   ],
   "source": [
    "write_up = 'Vipin Bhaiii' + write_up\n",
    "print(write_up)"
   ]
  },
  {
   "cell_type": "code",
   "execution_count": 196,
   "id": "2691d176",
   "metadata": {},
   "outputs": [
    {
     "data": {
      "text/plain": [
       "150"
      ]
     },
     "execution_count": 196,
     "metadata": {},
     "output_type": "execute_result"
    }
   ],
   "source": [
    "file.seek(0)\n",
    "file.write(write_up)"
   ]
  },
  {
   "cell_type": "code",
   "execution_count": 197,
   "id": "47baf6bc",
   "metadata": {},
   "outputs": [],
   "source": [
    "file.close()"
   ]
  },
  {
   "cell_type": "code",
   "execution_count": 203,
   "id": "8a56141f",
   "metadata": {},
   "outputs": [],
   "source": [
    "file = open('C:/Users/bhatt/OneDrive/Desktop/whisper-main/DS_PP_10_DEC_23/Lec15/abhijeet.txt', 'r+')\n",
    "w = ''\n",
    "for i in range(3):\n",
    "    w += file.readline()\n",
    "w = w + 'Deep Learning\\n'\n",
    "w = w + file.read()\n",
    "file.seek(0)\n",
    "file.write(w)\n",
    "file.close()"
   ]
  },
  {
   "cell_type": "code",
   "execution_count": 199,
   "id": "62e2b251",
   "metadata": {},
   "outputs": [],
   "source": [
    "file.readline?"
   ]
  },
  {
   "cell_type": "code",
   "execution_count": 205,
   "id": "30e6e034",
   "metadata": {},
   "outputs": [
    {
     "name": "stdout",
     "output_type": "stream",
     "text": [
      "8\n"
     ]
    }
   ],
   "source": [
    "file = open('C:/Users/bhatt/OneDrive/Desktop/whisper-main/DS_PP_10_DEC_23/Lec15/abhijeet.txt', 'r+')\n",
    "w = ''\n",
    "total_lines = len(file.readlines())\n",
    "# print(total_lines)\n",
    "file.seek(0)\n",
    "for i in range(int(total_lines/2)):\n",
    "    w += file.readline()\n",
    "w = w + 'Neural Network\\n'\n",
    "w = w + file.read()\n",
    "file.seek(0)\n",
    "file.write(w)\n",
    "file.close()"
   ]
  },
  {
   "cell_type": "code",
   "execution_count": 207,
   "id": "0ffb42fd",
   "metadata": {},
   "outputs": [],
   "source": [
    "file = open('C:/Users/bhatt/OneDrive/Desktop/whisper-main/DS_PP_10_DEC_23/Lec15/abhijeet_updated.txt', 'w+')\n",
    "file.write(w)\n",
    "file.close()"
   ]
  },
  {
   "cell_type": "code",
   "execution_count": 257,
   "id": "964d5f8b",
   "metadata": {},
   "outputs": [],
   "source": [
    "def divide(a, b):\n",
    "    \n",
    "    try:\n",
    "        print('Trying')\n",
    "        if b == 5:\n",
    "            raise ZeroDivisionError('b cant take the value of 5')\n",
    "        print(a/b)\n",
    "        print('Done Trying')\n",
    "    except ZeroDivisionError:\n",
    "        print('Denominator cant be zero')\n",
    "    except TypeError:\n",
    "        print('Both data are of difference data-types')\n",
    "    except IndexError:\n",
    "        print('Index Error')\n",
    "    finally:\n",
    "        print('chalega hi chalega')\n",
    "#     else:\n",
    "#         print('Else')"
   ]
  },
  {
   "cell_type": "code",
   "execution_count": 258,
   "id": "e37f1c63",
   "metadata": {},
   "outputs": [
    {
     "name": "stdout",
     "output_type": "stream",
     "text": [
      "Trying\n",
      "Both data are of difference data-types\n",
      "chalega hi chalega\n"
     ]
    }
   ],
   "source": [
    "divide(1, '0')"
   ]
  },
  {
   "cell_type": "code",
   "execution_count": 259,
   "id": "3af1ad3c",
   "metadata": {},
   "outputs": [
    {
     "name": "stdout",
     "output_type": "stream",
     "text": [
      "Trying\n",
      "Denominator cant be zero\n",
      "chalega hi chalega\n"
     ]
    }
   ],
   "source": [
    "divide(1,5)"
   ]
  },
  {
   "cell_type": "code",
   "execution_count": 262,
   "id": "d58b4060",
   "metadata": {},
   "outputs": [
    {
     "ename": "AssertionError",
     "evalue": "",
     "output_type": "error",
     "traceback": [
      "\u001b[1;31m---------------------------------------------------------------------------\u001b[0m",
      "\u001b[1;31mAssertionError\u001b[0m                            Traceback (most recent call last)",
      "Cell \u001b[1;32mIn[262], line 2\u001b[0m\n\u001b[0;32m      1\u001b[0m b \u001b[38;5;241m=\u001b[39m \u001b[38;5;241m10\u001b[39m\n\u001b[1;32m----> 2\u001b[0m \u001b[38;5;28;01massert\u001b[39;00m b \u001b[38;5;241m!=\u001b[39m \u001b[38;5;241m10\u001b[39m\n\u001b[0;32m      3\u001b[0m \u001b[38;5;28mprint\u001b[39m(\u001b[38;5;124m'\u001b[39m\u001b[38;5;124mHello\u001b[39m\u001b[38;5;124m'\u001b[39m)\n",
      "\u001b[1;31mAssertionError\u001b[0m: "
     ]
    }
   ],
   "source": [
    "b = 10\n",
    "assert b != 10\n",
    "print('Hello')"
   ]
  },
  {
   "cell_type": "code",
   "execution_count": 268,
   "id": "3e7a770b",
   "metadata": {},
   "outputs": [],
   "source": [
    "def divide(a, b):\n",
    "    assert b != 0\n",
    "    print(a/b)"
   ]
  },
  {
   "cell_type": "code",
   "execution_count": 269,
   "id": "dc4a01df",
   "metadata": {},
   "outputs": [
    {
     "ename": "AssertionError",
     "evalue": "",
     "output_type": "error",
     "traceback": [
      "\u001b[1;31m---------------------------------------------------------------------------\u001b[0m",
      "\u001b[1;31mAssertionError\u001b[0m                            Traceback (most recent call last)",
      "Cell \u001b[1;32mIn[269], line 1\u001b[0m\n\u001b[1;32m----> 1\u001b[0m \u001b[43mdivide\u001b[49m\u001b[43m(\u001b[49m\u001b[38;5;241;43m2\u001b[39;49m\u001b[43m,\u001b[49m\u001b[43m \u001b[49m\u001b[38;5;241;43m0\u001b[39;49m\u001b[43m)\u001b[49m\n",
      "Cell \u001b[1;32mIn[268], line 2\u001b[0m, in \u001b[0;36mdivide\u001b[1;34m(a, b)\u001b[0m\n\u001b[0;32m      1\u001b[0m \u001b[38;5;28;01mdef\u001b[39;00m \u001b[38;5;21mdivide\u001b[39m(a, b):\n\u001b[1;32m----> 2\u001b[0m     \u001b[38;5;28;01massert\u001b[39;00m b \u001b[38;5;241m!=\u001b[39m \u001b[38;5;241m0\u001b[39m\n\u001b[0;32m      3\u001b[0m     \u001b[38;5;28mprint\u001b[39m(a\u001b[38;5;241m/\u001b[39mb)\n",
      "\u001b[1;31mAssertionError\u001b[0m: "
     ]
    }
   ],
   "source": [
    "divide(2, 0)"
   ]
  },
  {
   "cell_type": "code",
   "execution_count": null,
   "id": "b570aced",
   "metadata": {},
   "outputs": [],
   "source": []
  }
 ],
 "metadata": {
  "kernelspec": {
   "display_name": "Python 3 (ipykernel)",
   "language": "python",
   "name": "python3"
  },
  "language_info": {
   "codemirror_mode": {
    "name": "ipython",
    "version": 3
   },
   "file_extension": ".py",
   "mimetype": "text/x-python",
   "name": "python",
   "nbconvert_exporter": "python",
   "pygments_lexer": "ipython3",
   "version": "3.8.10"
  }
 },
 "nbformat": 4,
 "nbformat_minor": 5
}
