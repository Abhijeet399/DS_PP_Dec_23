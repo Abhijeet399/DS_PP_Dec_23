{
 "cells": [
  {
   "cell_type": "code",
   "execution_count": 7,
   "id": "37d251e7",
   "metadata": {},
   "outputs": [],
   "source": [
    "def temp(a, b):\n",
    "    print(c)\n",
    "    var = a + b\n",
    "    print(var)"
   ]
  },
  {
   "cell_type": "code",
   "execution_count": 8,
   "id": "f6b74f30",
   "metadata": {},
   "outputs": [
    {
     "name": "stdout",
     "output_type": "stream",
     "text": [
      "10\n",
      "3\n"
     ]
    }
   ],
   "source": [
    "c = 10\n",
    "temp(1, 2)"
   ]
  },
  {
   "cell_type": "code",
   "execution_count": 9,
   "id": "28f32abc",
   "metadata": {},
   "outputs": [
    {
     "ename": "NameError",
     "evalue": "name 'var' is not defined",
     "output_type": "error",
     "traceback": [
      "\u001b[1;31m---------------------------------------------------------------------------\u001b[0m",
      "\u001b[1;31mNameError\u001b[0m                                 Traceback (most recent call last)",
      "Cell \u001b[1;32mIn[9], line 1\u001b[0m\n\u001b[1;32m----> 1\u001b[0m \u001b[43mvar\u001b[49m\n",
      "\u001b[1;31mNameError\u001b[0m: name 'var' is not defined"
     ]
    }
   ],
   "source": [
    "var"
   ]
  },
  {
   "cell_type": "code",
   "execution_count": 14,
   "id": "d981de84",
   "metadata": {},
   "outputs": [],
   "source": [
    "a = 10"
   ]
  },
  {
   "cell_type": "code",
   "execution_count": 15,
   "id": "e1107008",
   "metadata": {},
   "outputs": [
    {
     "name": "stdout",
     "output_type": "stream",
     "text": [
      "<class 'int'>\n"
     ]
    }
   ],
   "source": [
    "print(type(a))"
   ]
  },
  {
   "cell_type": "code",
   "execution_count": 20,
   "id": "b96e9e46",
   "metadata": {},
   "outputs": [
    {
     "data": {
      "text/plain": [
       "True"
      ]
     },
     "execution_count": 20,
     "metadata": {},
     "output_type": "execute_result"
    }
   ],
   "source": [
    "isinstance(a, int)"
   ]
  },
  {
   "cell_type": "code",
   "execution_count": 29,
   "id": "5f281ce7",
   "metadata": {},
   "outputs": [],
   "source": [
    "string = 'Hello my name is Abhijeet'"
   ]
  },
  {
   "cell_type": "code",
   "execution_count": 31,
   "id": "fbf8ca00",
   "metadata": {},
   "outputs": [
    {
     "name": "stdout",
     "output_type": "stream",
     "text": [
      "0\n"
     ]
    }
   ],
   "source": [
    "print(string.count('1'))"
   ]
  },
  {
   "cell_type": "code",
   "execution_count": 39,
   "id": "cabe9720",
   "metadata": {},
   "outputs": [
    {
     "name": "stdout",
     "output_type": "stream",
     "text": [
      "The value of A: 10 of B: 5\n"
     ]
    }
   ],
   "source": [
    "a = 10\n",
    "b = 5\n",
    "c = 0\n",
    "print(f'The value of A: {\"10\"} of B: {b}')"
   ]
  },
  {
   "cell_type": "code",
   "execution_count": 40,
   "id": "7879cde6",
   "metadata": {},
   "outputs": [
    {
     "data": {
      "text/plain": [
       "'The value of A is 10'"
      ]
     },
     "execution_count": 40,
     "metadata": {},
     "output_type": "execute_result"
    }
   ],
   "source": [
    "'The value of A is ' + \"10\""
   ]
  },
  {
   "cell_type": "code",
   "execution_count": 45,
   "id": "310fc018",
   "metadata": {},
   "outputs": [],
   "source": [
    "class School_members:\n",
    "    \n",
    "    def __init__(self, name, age):\n",
    "        self.name = name\n",
    "        self.age = age\n",
    "        print('Initialising School member')\n",
    "        \n",
    "    def detail(self):\n",
    "        print(f'Name: {self.name}, Age: {self.age}')"
   ]
  },
  {
   "cell_type": "code",
   "execution_count": 52,
   "id": "b384c711",
   "metadata": {},
   "outputs": [],
   "source": [
    "class Teachers(School_members):\n",
    "    \n",
    "    def __init__(self, name, age, subject):\n",
    "        School_members.__init__(self, name, age)\n",
    "        self.subject = subject\n",
    "    \n",
    "    def detail(self):\n",
    "        School_members.detail(self)\n",
    "        print('Subject taught:', self.subject)"
   ]
  },
  {
   "cell_type": "code",
   "execution_count": 53,
   "id": "fea2c3c4",
   "metadata": {},
   "outputs": [
    {
     "name": "stdout",
     "output_type": "stream",
     "text": [
      "Initialising School member\n"
     ]
    }
   ],
   "source": [
    "abhijeet = Teachers('Abhijeet', 23, 'Data Science')"
   ]
  },
  {
   "cell_type": "code",
   "execution_count": 54,
   "id": "cdfc078c",
   "metadata": {},
   "outputs": [
    {
     "data": {
      "text/plain": [
       "'Abhijeet'"
      ]
     },
     "execution_count": 54,
     "metadata": {},
     "output_type": "execute_result"
    }
   ],
   "source": [
    "abhijeet.name"
   ]
  },
  {
   "cell_type": "code",
   "execution_count": 56,
   "id": "9dc9b490",
   "metadata": {},
   "outputs": [
    {
     "name": "stdout",
     "output_type": "stream",
     "text": [
      "Name: Abhijeet, Age: 23\n",
      "Subject taught: Data Science\n"
     ]
    }
   ],
   "source": [
    "abhijeet.detail()"
   ]
  },
  {
   "cell_type": "code",
   "execution_count": 68,
   "id": "bf3bc732",
   "metadata": {},
   "outputs": [],
   "source": [
    "class Student(School_members):\n",
    "    \n",
    "    def __init__(self, name, age, marks):\n",
    "        super().__init__(name, age)\n",
    "        self.marks = marks\n",
    "    \n",
    "    def detail(self):\n",
    "        super().detail()\n",
    "        print('Subject taught:', self.marks)"
   ]
  },
  {
   "cell_type": "code",
   "execution_count": 69,
   "id": "261ca68b",
   "metadata": {},
   "outputs": [
    {
     "name": "stdout",
     "output_type": "stream",
     "text": [
      "Initialising School member\n"
     ]
    }
   ],
   "source": [
    "vipin = Student('Vipin', 22, 95)"
   ]
  },
  {
   "cell_type": "code",
   "execution_count": 70,
   "id": "767b88fd",
   "metadata": {},
   "outputs": [
    {
     "name": "stdout",
     "output_type": "stream",
     "text": [
      "Name: Vipin, Age: 22\n",
      "Subject taught: 95\n"
     ]
    }
   ],
   "source": [
    "vipin.detail()"
   ]
  },
  {
   "cell_type": "code",
   "execution_count": 71,
   "id": "ad807d3b",
   "metadata": {},
   "outputs": [],
   "source": [
    "super?"
   ]
  },
  {
   "cell_type": "markdown",
   "id": "64b9c9d8",
   "metadata": {},
   "source": [
    "# File Handling"
   ]
  },
  {
   "cell_type": "code",
   "execution_count": 99,
   "id": "9d880a8c",
   "metadata": {},
   "outputs": [],
   "source": [
    "file = open('C:/Users/bhatt/OneDrive/Desktop/whisper-main/DS_PP_10_DEC_23/Lec14/abhijeet.txt', 'r')"
   ]
  },
  {
   "cell_type": "code",
   "execution_count": 100,
   "id": "b36bd366",
   "metadata": {},
   "outputs": [
    {
     "name": "stdout",
     "output_type": "stream",
     "text": [
      "<_io.TextIOWrapper name='C:/Users/bhatt/OneDrive/Desktop/whisper-main/DS_PP_10_DEC_23/Lec14/abhijeet.txt' mode='r' encoding='cp1252'>\n"
     ]
    }
   ],
   "source": [
    "print(file)"
   ]
  },
  {
   "cell_type": "code",
   "execution_count": 101,
   "id": "53dd4c50",
   "metadata": {},
   "outputs": [
    {
     "name": "stdout",
     "output_type": "stream",
     "text": [
      "Hello World!\n",
      "My name is Abhijeet.\n"
     ]
    }
   ],
   "source": [
    "print(file.read())"
   ]
  },
  {
   "cell_type": "code",
   "execution_count": 102,
   "id": "224ef0d5",
   "metadata": {},
   "outputs": [],
   "source": [
    "file.close()"
   ]
  },
  {
   "cell_type": "code",
   "execution_count": 115,
   "id": "4f6835ad",
   "metadata": {},
   "outputs": [],
   "source": [
    "file = open('C:/Users/bhatt/OneDrive/Desktop/whisper-main/DS_PP_10_DEC_23/Lec14/abhijeet.txt', 'r')"
   ]
  },
  {
   "cell_type": "code",
   "execution_count": 117,
   "id": "bc891af8",
   "metadata": {},
   "outputs": [
    {
     "name": "stdout",
     "output_type": "stream",
     "text": [
      "My name is Abhijeet.\n"
     ]
    }
   ],
   "source": [
    "print(file.readline())"
   ]
  },
  {
   "cell_type": "code",
   "execution_count": 113,
   "id": "3dadd53c",
   "metadata": {},
   "outputs": [],
   "source": [
    "file.close()"
   ]
  },
  {
   "cell_type": "code",
   "execution_count": 118,
   "id": "48843e8b",
   "metadata": {},
   "outputs": [],
   "source": [
    "string = '''Hello my name is Abhijeet.\n",
    "            Hello World'''"
   ]
  },
  {
   "cell_type": "code",
   "execution_count": 122,
   "id": "a38d770e",
   "metadata": {},
   "outputs": [],
   "source": [
    "def print_line():\n",
    "    print(string.split('\\n'))"
   ]
  },
  {
   "cell_type": "code",
   "execution_count": 123,
   "id": "cfbecc1d",
   "metadata": {},
   "outputs": [
    {
     "name": "stdout",
     "output_type": "stream",
     "text": [
      "['Hello my name is Abhijeet.', '            Hello World']\n"
     ]
    }
   ],
   "source": [
    "print_line()"
   ]
  },
  {
   "cell_type": "code",
   "execution_count": 124,
   "id": "d515ebff",
   "metadata": {},
   "outputs": [
    {
     "data": {
      "text/plain": [
       "'Hello my name is Abhijeet.\\n            Hello World'"
      ]
     },
     "execution_count": 124,
     "metadata": {},
     "output_type": "execute_result"
    }
   ],
   "source": [
    "string"
   ]
  },
  {
   "cell_type": "code",
   "execution_count": null,
   "id": "b29343f0",
   "metadata": {},
   "outputs": [],
   "source": []
  },
  {
   "cell_type": "code",
   "execution_count": null,
   "id": "2547bec8",
   "metadata": {},
   "outputs": [],
   "source": []
  },
  {
   "cell_type": "code",
   "execution_count": null,
   "id": "5536f513",
   "metadata": {},
   "outputs": [],
   "source": []
  }
 ],
 "metadata": {
  "kernelspec": {
   "display_name": "Python 3 (ipykernel)",
   "language": "python",
   "name": "python3"
  },
  "language_info": {
   "codemirror_mode": {
    "name": "ipython",
    "version": 3
   },
   "file_extension": ".py",
   "mimetype": "text/x-python",
   "name": "python",
   "nbconvert_exporter": "python",
   "pygments_lexer": "ipython3",
   "version": "3.8.10"
  }
 },
 "nbformat": 4,
 "nbformat_minor": 5
}
