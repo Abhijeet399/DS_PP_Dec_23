{
 "cells": [
  {
   "cell_type": "code",
   "execution_count": 1,
   "id": "efe9806a",
   "metadata": {},
   "outputs": [],
   "source": [
    "string = 'Hello my name is Abhijeet'"
   ]
  },
  {
   "cell_type": "code",
   "execution_count": 4,
   "id": "8960ac3a",
   "metadata": {},
   "outputs": [],
   "source": [
    "temp_str = ''\n",
    "for i in string:\n",
    "    temp_str = i + temp_str"
   ]
  },
  {
   "cell_type": "code",
   "execution_count": 5,
   "id": "e48b8f4a",
   "metadata": {},
   "outputs": [
    {
     "data": {
      "text/plain": [
       "'teejihbA si eman ym olleH'"
      ]
     },
     "execution_count": 5,
     "metadata": {},
     "output_type": "execute_result"
    }
   ],
   "source": [
    "temp_str"
   ]
  },
  {
   "cell_type": "code",
   "execution_count": 7,
   "id": "7066167a",
   "metadata": {},
   "outputs": [],
   "source": [
    "# Lists"
   ]
  },
  {
   "cell_type": "code",
   "execution_count": 11,
   "id": "11fcdc3c",
   "metadata": {},
   "outputs": [],
   "source": [
    "var = [1,2,3,'string', 2.0, True, range, [4,5,6], 'hello']"
   ]
  },
  {
   "cell_type": "code",
   "execution_count": 12,
   "id": "963f0d05",
   "metadata": {},
   "outputs": [
    {
     "data": {
      "text/plain": [
       "list"
      ]
     },
     "execution_count": 12,
     "metadata": {},
     "output_type": "execute_result"
    }
   ],
   "source": [
    "type(var)"
   ]
  },
  {
   "cell_type": "code",
   "execution_count": 13,
   "id": "7a52d7c3",
   "metadata": {},
   "outputs": [
    {
     "name": "stdout",
     "output_type": "stream",
     "text": [
      "[1, 2, 3, 'string', 2.0, True, <class 'range'>, [4, 5, 6], 'hello']\n"
     ]
    }
   ],
   "source": [
    "print(var)"
   ]
  },
  {
   "cell_type": "code",
   "execution_count": 23,
   "id": "b97717f4",
   "metadata": {},
   "outputs": [],
   "source": [
    "small_var = var[-2][1]"
   ]
  },
  {
   "cell_type": "code",
   "execution_count": 24,
   "id": "a8dae9ea",
   "metadata": {},
   "outputs": [
    {
     "name": "stdout",
     "output_type": "stream",
     "text": [
      "1 2 3 string 2.0 True <class 'range'> [4, 5, 6] hello "
     ]
    }
   ],
   "source": [
    "for i in var:\n",
    "    print(i, end=' ')"
   ]
  },
  {
   "cell_type": "code",
   "execution_count": 28,
   "id": "45762a1a",
   "metadata": {},
   "outputs": [
    {
     "data": {
      "text/plain": [
       "5"
      ]
     },
     "execution_count": 28,
     "metadata": {},
     "output_type": "execute_result"
    }
   ],
   "source": [
    "small_var"
   ]
  },
  {
   "cell_type": "code",
   "execution_count": 29,
   "id": "de882ec5",
   "metadata": {},
   "outputs": [
    {
     "name": "stdout",
     "output_type": "stream",
     "text": [
      "5\n"
     ]
    }
   ],
   "source": [
    "print(var[-2][1])"
   ]
  },
  {
   "cell_type": "code",
   "execution_count": 32,
   "id": "c7b45d09",
   "metadata": {},
   "outputs": [],
   "source": [
    "var.append('200')"
   ]
  },
  {
   "cell_type": "code",
   "execution_count": 33,
   "id": "50a4f6fd",
   "metadata": {},
   "outputs": [
    {
     "data": {
      "text/plain": [
       "[1, 2, 3, 'string', 2.0, True, range, [4, 5, 6], 'hello', 200, '200']"
      ]
     },
     "execution_count": 33,
     "metadata": {},
     "output_type": "execute_result"
    }
   ],
   "source": [
    "var"
   ]
  },
  {
   "cell_type": "code",
   "execution_count": 81,
   "id": "3162e0c4",
   "metadata": {},
   "outputs": [],
   "source": [
    "a = []\n",
    "for i in range(20):\n",
    "    a.append(i)"
   ]
  },
  {
   "cell_type": "code",
   "execution_count": 82,
   "id": "526a7e31",
   "metadata": {},
   "outputs": [
    {
     "data": {
      "text/plain": [
       "[0, 1, 2, 3, 4, 5, 6, 7, 8, 9, 10, 11, 12, 13, 14, 15, 16, 17, 18, 19]"
      ]
     },
     "execution_count": 82,
     "metadata": {},
     "output_type": "execute_result"
    }
   ],
   "source": [
    "a"
   ]
  },
  {
   "cell_type": "code",
   "execution_count": 36,
   "id": "2f02c45c",
   "metadata": {},
   "outputs": [
    {
     "data": {
      "text/plain": [
       "'Hello my name is Abhijeet'"
      ]
     },
     "execution_count": 36,
     "metadata": {},
     "output_type": "execute_result"
    }
   ],
   "source": [
    "string"
   ]
  },
  {
   "cell_type": "code",
   "execution_count": 37,
   "id": "5b31d430",
   "metadata": {},
   "outputs": [
    {
     "name": "stdout",
     "output_type": "stream",
     "text": [
      "['Hello', 'my', 'name', 'is', 'Abhijeet']\n"
     ]
    }
   ],
   "source": [
    "print(string.split())"
   ]
  },
  {
   "cell_type": "code",
   "execution_count": 41,
   "id": "d46e88e9",
   "metadata": {},
   "outputs": [],
   "source": [
    "def split_string(string):\n",
    "    temp_str = ''\n",
    "    lst = []\n",
    "    for i in string:\n",
    "        if i == ' ':\n",
    "            lst.append(temp_str)\n",
    "            temp_str = ''\n",
    "        else:\n",
    "            temp_str += i\n",
    "    lst.append(temp_str)\n",
    "    return lst"
   ]
  },
  {
   "cell_type": "code",
   "execution_count": 42,
   "id": "393c5336",
   "metadata": {},
   "outputs": [
    {
     "data": {
      "text/plain": [
       "['Hello', 'my', 'name', 'is', 'Abhijeet']"
      ]
     },
     "execution_count": 42,
     "metadata": {},
     "output_type": "execute_result"
    }
   ],
   "source": [
    "split_string(string)"
   ]
  },
  {
   "cell_type": "code",
   "execution_count": 43,
   "id": "972ec7fd",
   "metadata": {},
   "outputs": [
    {
     "data": {
      "text/plain": [
       "[0, 1, 2, 3, 4, 5, 6, 7, 8, 9, 10, 11, 12, 13, 14, 15, 16, 17, 18, 19]"
      ]
     },
     "execution_count": 43,
     "metadata": {},
     "output_type": "execute_result"
    }
   ],
   "source": [
    "a"
   ]
  },
  {
   "cell_type": "code",
   "execution_count": 44,
   "id": "d82dfe37",
   "metadata": {},
   "outputs": [],
   "source": [
    "length = 0\n",
    "for i in a:\n",
    "    length += 1"
   ]
  },
  {
   "cell_type": "code",
   "execution_count": 46,
   "id": "63e9e9d3",
   "metadata": {},
   "outputs": [
    {
     "data": {
      "text/plain": [
       "20"
      ]
     },
     "execution_count": 46,
     "metadata": {},
     "output_type": "execute_result"
    }
   ],
   "source": [
    "length"
   ]
  },
  {
   "cell_type": "code",
   "execution_count": 48,
   "id": "545cd388",
   "metadata": {},
   "outputs": [
    {
     "name": "stdout",
     "output_type": "stream",
     "text": [
      "19 18 17 16 15 14 13 12 11 10 9 8 7 6 5 4 3 2 1 0 "
     ]
    }
   ],
   "source": [
    "for i in range(1, length + 1):\n",
    "    print(a[-i], end = ' ')"
   ]
  },
  {
   "cell_type": "code",
   "execution_count": 50,
   "id": "135da675",
   "metadata": {},
   "outputs": [
    {
     "name": "stdout",
     "output_type": "stream",
     "text": [
      "20\n"
     ]
    }
   ],
   "source": [
    "print(len(a))"
   ]
  },
  {
   "cell_type": "code",
   "execution_count": 54,
   "id": "d5404405",
   "metadata": {},
   "outputs": [
    {
     "name": "stdout",
     "output_type": "stream",
     "text": [
      "19 18 17 16 15 14 13 12 11 10 9 8 7 6 5 4 3 2 1 0 "
     ]
    }
   ],
   "source": [
    "temp_lst = []\n",
    "for i in range(1, len(a) + 1):\n",
    "    temp_lst.append(a[-i])\n",
    "    print(a[-i], end = ' ')"
   ]
  },
  {
   "cell_type": "code",
   "execution_count": 56,
   "id": "396abe50",
   "metadata": {},
   "outputs": [
    {
     "data": {
      "text/plain": [
       "[19, 18, 17, 16, 15, 14, 13, 12, 11, 10, 9, 8, 7, 6, 5, 4, 3, 2, 1, 0]"
      ]
     },
     "execution_count": 56,
     "metadata": {},
     "output_type": "execute_result"
    }
   ],
   "source": [
    "temp_lst"
   ]
  },
  {
   "cell_type": "code",
   "execution_count": 63,
   "id": "9de34b37",
   "metadata": {},
   "outputs": [
    {
     "name": "stdout",
     "output_type": "stream",
     "text": [
      "1\n"
     ]
    }
   ],
   "source": [
    "var = [[1,2,3]]\n",
    "print(var[0][0])"
   ]
  },
  {
   "cell_type": "code",
   "execution_count": 59,
   "id": "412f81db",
   "metadata": {},
   "outputs": [],
   "source": [
    "var = var[0]"
   ]
  },
  {
   "cell_type": "code",
   "execution_count": 61,
   "id": "de241ba9",
   "metadata": {},
   "outputs": [
    {
     "data": {
      "text/plain": [
       "[1, 2, 3]"
      ]
     },
     "execution_count": 61,
     "metadata": {},
     "output_type": "execute_result"
    }
   ],
   "source": [
    "var"
   ]
  },
  {
   "cell_type": "code",
   "execution_count": 66,
   "id": "80ebdf5b",
   "metadata": {},
   "outputs": [
    {
     "name": "stdout",
     "output_type": "stream",
     "text": [
      "[0, 1, 3, 2, 3, 4, 5, 6, 7, 8, 100, 9, 10, 11, 12, 13, 14, 15, 16, 17, 18, 19]\n"
     ]
    }
   ],
   "source": [
    "a.insert(10, 100)\n",
    "print(a)"
   ]
  },
  {
   "cell_type": "code",
   "execution_count": 70,
   "id": "659825a1",
   "metadata": {},
   "outputs": [
    {
     "name": "stdout",
     "output_type": "stream",
     "text": [
      "Hello my name is Abhijeet\n",
      "2471171820720\n",
      "2471183660416\n"
     ]
    }
   ],
   "source": [
    "print(string)\n",
    "print(id(string))\n",
    "string = 'Abhijeet Bhattacharya'\n",
    "print(id(string))"
   ]
  },
  {
   "cell_type": "code",
   "execution_count": 71,
   "id": "68902e65",
   "metadata": {},
   "outputs": [
    {
     "name": "stdout",
     "output_type": "stream",
     "text": [
      "[0, 1, 3, 2, 3, 4, 5, 6, 7, 8, 100, 9, 10, 11, 12, 13, 14, 15, 16, 17, 18, 19]\n",
      "2471184197248\n",
      "2471184197248\n"
     ]
    }
   ],
   "source": [
    "print(a)\n",
    "print(id(a))\n",
    "a.append(200)\n",
    "print(id(a))"
   ]
  },
  {
   "cell_type": "code",
   "execution_count": 87,
   "id": "db30f1d6",
   "metadata": {},
   "outputs": [
    {
     "name": "stdout",
     "output_type": "stream",
     "text": [
      "[20, 200, 0, 1, 2, 3, 4, 5, 6, 7, 8, 9, 10, 11, 12, 13, 14, 15, 16, 17, 18, 19]\n",
      "2471186280512 140706251282800\n"
     ]
    }
   ],
   "source": [
    "print(a)\n",
    "print(id(a), id(a[0]))\n",
    "a.insert(0, 20)\n",
    "# print(id(a[0]))\n",
    "# print(id(a))"
   ]
  },
  {
   "cell_type": "code",
   "execution_count": 89,
   "id": "42795183",
   "metadata": {},
   "outputs": [
    {
     "name": "stdout",
     "output_type": "stream",
     "text": [
      "[20, 20, 200, 0, 1, 2, 3, 4, 5, 6, 7, 8, 9, 10, 11, 12, 13, 14, 15, 16, 17, 18, 19]\n"
     ]
    }
   ],
   "source": [
    "print(a)"
   ]
  },
  {
   "cell_type": "code",
   "execution_count": 105,
   "id": "1371f98e",
   "metadata": {},
   "outputs": [],
   "source": [
    "a = [1,2,3,4,5]"
   ]
  },
  {
   "cell_type": "code",
   "execution_count": 106,
   "id": "dd014099",
   "metadata": {},
   "outputs": [],
   "source": [
    "a.insert(0,100)"
   ]
  },
  {
   "cell_type": "code",
   "execution_count": 107,
   "id": "fa2ad807",
   "metadata": {},
   "outputs": [
    {
     "name": "stdout",
     "output_type": "stream",
     "text": [
      "[100, 1, 2, 3, 4, 5]\n"
     ]
    }
   ],
   "source": [
    "print(a)"
   ]
  },
  {
   "cell_type": "code",
   "execution_count": 108,
   "id": "7316e1a4",
   "metadata": {},
   "outputs": [],
   "source": [
    "a[0] = 0"
   ]
  },
  {
   "cell_type": "code",
   "execution_count": 109,
   "id": "65105e06",
   "metadata": {},
   "outputs": [
    {
     "data": {
      "text/plain": [
       "[0, 1, 2, 3, 4, 5]"
      ]
     },
     "execution_count": 109,
     "metadata": {},
     "output_type": "execute_result"
    }
   ],
   "source": [
    "a"
   ]
  },
  {
   "cell_type": "code",
   "execution_count": 111,
   "id": "29caf90d",
   "metadata": {},
   "outputs": [],
   "source": [
    "string = 'hello my name is abhijeet'"
   ]
  },
  {
   "cell_type": "code",
   "execution_count": 112,
   "id": "3c82f38e",
   "metadata": {},
   "outputs": [
    {
     "data": {
      "text/plain": [
       "'hello my name is abhijeet'"
      ]
     },
     "execution_count": 112,
     "metadata": {},
     "output_type": "execute_result"
    }
   ],
   "source": [
    "string"
   ]
  },
  {
   "cell_type": "code",
   "execution_count": 118,
   "id": "c6e4f4d3",
   "metadata": {},
   "outputs": [
    {
     "data": {
      "text/plain": [
       "2"
      ]
     },
     "execution_count": 118,
     "metadata": {},
     "output_type": "execute_result"
    }
   ],
   "source": [
    "'Abhijeet'.count('e')"
   ]
  },
  {
   "cell_type": "code",
   "execution_count": 119,
   "id": "56875997",
   "metadata": {},
   "outputs": [
    {
     "data": {
      "text/plain": [
       "'hello my name is abhijeet'"
      ]
     },
     "execution_count": 119,
     "metadata": {},
     "output_type": "execute_result"
    }
   ],
   "source": [
    "string"
   ]
  },
  {
   "cell_type": "code",
   "execution_count": 124,
   "id": "4254ad58",
   "metadata": {},
   "outputs": [
    {
     "name": "stdout",
     "output_type": "stream",
     "text": [
      "h 2\n",
      "e 4\n",
      "l 2\n",
      "l 2\n",
      "o 1\n",
      "  4\n",
      "m 2\n",
      "y 1\n",
      "  4\n",
      "n 1\n",
      "a 2\n",
      "m 2\n",
      "e 4\n",
      "  4\n",
      "i 2\n",
      "s 1\n",
      "  4\n",
      "a 2\n",
      "b 1\n",
      "h 2\n",
      "i 2\n",
      "j 1\n",
      "e 4\n",
      "e 4\n",
      "t 1\n"
     ]
    }
   ],
   "source": [
    "for i in string:\n",
    "    print(i, string.count(i))"
   ]
  },
  {
   "cell_type": "code",
   "execution_count": 123,
   "id": "ee0b61ff",
   "metadata": {},
   "outputs": [
    {
     "name": "stdout",
     "output_type": "stream",
     "text": [
      "h 2\n",
      "e 4\n",
      "l 2\n",
      "o 1\n",
      "  4\n",
      "m 2\n",
      "y 1\n",
      "n 1\n",
      "a 2\n",
      "i 2\n",
      "s 1\n",
      "b 1\n",
      "j 1\n",
      "t 1\n"
     ]
    }
   ],
   "source": [
    "unique_alphabets = []\n",
    "for i in string:\n",
    "    if i not in unique_alphabets:\n",
    "        unique_alphabets.append(i)\n",
    "        count = string.count(i)\n",
    "        print(i, count)"
   ]
  },
  {
   "cell_type": "code",
   "execution_count": 125,
   "id": "29c814db",
   "metadata": {},
   "outputs": [
    {
     "data": {
      "text/plain": [
       "['h', 'e', 'l', 'o', ' ', 'm', 'y', 'n', 'a', 'i', 's', 'b', 'j', 't']"
      ]
     },
     "execution_count": 125,
     "metadata": {},
     "output_type": "execute_result"
    }
   ],
   "source": [
    "unique_alphabets"
   ]
  },
  {
   "cell_type": "code",
   "execution_count": 127,
   "id": "08526f9a",
   "metadata": {},
   "outputs": [],
   "source": [
    "a = []\n",
    "for i in range(20):\n",
    "    a.append(i)"
   ]
  },
  {
   "cell_type": "code",
   "execution_count": 128,
   "id": "a3f83efb",
   "metadata": {},
   "outputs": [
    {
     "data": {
      "text/plain": [
       "[0, 1, 2, 3, 4, 5, 6, 7, 8, 9, 10, 11, 12, 13, 14, 15, 16, 17, 18, 19]"
      ]
     },
     "execution_count": 128,
     "metadata": {},
     "output_type": "execute_result"
    }
   ],
   "source": [
    "a"
   ]
  },
  {
   "cell_type": "code",
   "execution_count": 134,
   "id": "a7e7b88a",
   "metadata": {},
   "outputs": [],
   "source": [
    "target = 17\n",
    "def find_target(target):\n",
    "    for i in a:\n",
    "        if i == target:\n",
    "            return True\n",
    "    return False"
   ]
  },
  {
   "cell_type": "code",
   "execution_count": 133,
   "id": "32f25da4",
   "metadata": {},
   "outputs": [
    {
     "data": {
      "text/plain": [
       "False"
      ]
     },
     "execution_count": 133,
     "metadata": {},
     "output_type": "execute_result"
    }
   ],
   "source": [
    "find_target(target)"
   ]
  },
  {
   "cell_type": "code",
   "execution_count": 135,
   "id": "91bcaab4",
   "metadata": {},
   "outputs": [
    {
     "data": {
      "text/plain": [
       "[0, 1, 2, 3, 4, 5, 6, 7, 8, 9, 10, 11, 12, 13, 14, 15, 16, 17, 18, 19]"
      ]
     },
     "execution_count": 135,
     "metadata": {},
     "output_type": "execute_result"
    }
   ],
   "source": [
    "a"
   ]
  },
  {
   "cell_type": "code",
   "execution_count": 136,
   "id": "f74f75e4",
   "metadata": {},
   "outputs": [
    {
     "name": "stdout",
     "output_type": "stream",
     "text": [
      "17\n"
     ]
    }
   ],
   "source": [
    "target = 17\n",
    "start = 0\n",
    "end = len(a) - 1\n",
    "\n",
    "while(start <= end):\n",
    "    mid = int((start + end)/2)\n",
    "    if a[mid] == target:\n",
    "        print(mid)\n",
    "        break\n",
    "    if a[mid] < target:\n",
    "        start = mid + 1\n",
    "    if a[mid] > target:\n",
    "        end = mid - 1"
   ]
  },
  {
   "cell_type": "code",
   "execution_count": 141,
   "id": "4049b64d",
   "metadata": {},
   "outputs": [],
   "source": [
    "a.extend(range(2, 5))"
   ]
  },
  {
   "cell_type": "code",
   "execution_count": 143,
   "id": "1c79d538",
   "metadata": {},
   "outputs": [
    {
     "data": {
      "text/plain": [
       "[0, 1, 2, 3, 4, 5, 6, 7, 8, 9, 10, 11, 12, 13, 14, 15, 16, 17, 18, 19, 2, 3, 4]"
      ]
     },
     "execution_count": 143,
     "metadata": {},
     "output_type": "execute_result"
    }
   ],
   "source": [
    "a"
   ]
  },
  {
   "cell_type": "code",
   "execution_count": 144,
   "id": "fca83a1e",
   "metadata": {},
   "outputs": [],
   "source": [
    "a.extend(range(10, 15))"
   ]
  },
  {
   "cell_type": "code",
   "execution_count": 146,
   "id": "5e4f0290",
   "metadata": {},
   "outputs": [
    {
     "name": "stdout",
     "output_type": "stream",
     "text": [
      "[0, 1, 2, 3, 4, 5, 6, 7, 8, 9, 10, 11, 12, 13, 14, 15, 16, 17, 18, 19, 2, 3, 4, 10, 11, 12, 13, 14]\n"
     ]
    }
   ],
   "source": [
    "print(a)"
   ]
  },
  {
   "cell_type": "code",
   "execution_count": 151,
   "id": "7c5773c3",
   "metadata": {},
   "outputs": [],
   "source": [
    "a.reverse()"
   ]
  },
  {
   "cell_type": "code",
   "execution_count": 153,
   "id": "0637f3d4",
   "metadata": {},
   "outputs": [
    {
     "name": "stdout",
     "output_type": "stream",
     "text": [
      "[14, 13, 12, 11, 10, 4, 3, 2, 19, 18, 17, 16, 15, 14, 13, 12, 11, 10, 9, 8, 7, 6, 5, 4, 3, 2, 1, 0]\n"
     ]
    }
   ],
   "source": [
    "print(a)"
   ]
  },
  {
   "cell_type": "code",
   "execution_count": 158,
   "id": "3305a33d",
   "metadata": {},
   "outputs": [],
   "source": [
    "removed_ele = a.pop()"
   ]
  },
  {
   "cell_type": "code",
   "execution_count": 159,
   "id": "85672da2",
   "metadata": {},
   "outputs": [
    {
     "name": "stdout",
     "output_type": "stream",
     "text": [
      "[14, 13, 12, 11, 10, 4, 3, 2, 19, 18, 17, 16, 15, 14, 13, 12, 11, 10, 9, 8, 7, 6, 5, 4, 3, 2]\n"
     ]
    }
   ],
   "source": [
    "print(a)"
   ]
  },
  {
   "cell_type": "code",
   "execution_count": 161,
   "id": "02eb01c8",
   "metadata": {},
   "outputs": [
    {
     "data": {
      "text/plain": [
       "1"
      ]
     },
     "execution_count": 161,
     "metadata": {},
     "output_type": "execute_result"
    }
   ],
   "source": [
    "removed_ele"
   ]
  },
  {
   "cell_type": "code",
   "execution_count": 162,
   "id": "19aec205",
   "metadata": {},
   "outputs": [],
   "source": [
    "first_ele = a.pop(0)"
   ]
  },
  {
   "cell_type": "code",
   "execution_count": 163,
   "id": "512f6c98",
   "metadata": {},
   "outputs": [
    {
     "data": {
      "text/plain": [
       "14"
      ]
     },
     "execution_count": 163,
     "metadata": {},
     "output_type": "execute_result"
    }
   ],
   "source": [
    "first_ele"
   ]
  },
  {
   "cell_type": "code",
   "execution_count": 165,
   "id": "690ea3c4",
   "metadata": {},
   "outputs": [
    {
     "name": "stdout",
     "output_type": "stream",
     "text": [
      "[13, 12, 11, 10, 4, 3, 2, 19, 18, 17, 16, 15, 14, 13, 12, 11, 10, 9, 8, 7, 6, 5, 4, 3, 2]\n"
     ]
    }
   ],
   "source": [
    "print(a)"
   ]
  },
  {
   "cell_type": "code",
   "execution_count": 166,
   "id": "787ff32c",
   "metadata": {},
   "outputs": [],
   "source": [
    "a.remove(17)"
   ]
  },
  {
   "cell_type": "code",
   "execution_count": 167,
   "id": "62fbe5ee",
   "metadata": {},
   "outputs": [
    {
     "name": "stdout",
     "output_type": "stream",
     "text": [
      "[13, 12, 11, 10, 4, 3, 2, 19, 18, 16, 15, 14, 13, 12, 11, 10, 9, 8, 7, 6, 5, 4, 3, 2]\n"
     ]
    }
   ],
   "source": [
    "print(a)"
   ]
  },
  {
   "cell_type": "code",
   "execution_count": 168,
   "id": "8ef7f9ac",
   "metadata": {},
   "outputs": [],
   "source": [
    "a.sort()"
   ]
  },
  {
   "cell_type": "code",
   "execution_count": 170,
   "id": "381a38ee",
   "metadata": {},
   "outputs": [
    {
     "name": "stdout",
     "output_type": "stream",
     "text": [
      "[2, 2, 3, 3, 4, 4, 5, 6, 7, 8, 9, 10, 10, 11, 11, 12, 12, 13, 13, 14, 15, 16, 18, 19]\n"
     ]
    }
   ],
   "source": [
    "print(a)"
   ]
  },
  {
   "cell_type": "code",
   "execution_count": 171,
   "id": "28e7e904",
   "metadata": {},
   "outputs": [
    {
     "name": "stdout",
     "output_type": "stream",
     "text": [
      "[19, 18, 16, 15, 14, 13, 13, 12, 12, 11, 11, 10, 10, 9, 8, 7, 6, 5, 4, 4, 3, 3, 2, 2]\n"
     ]
    }
   ],
   "source": [
    "a.sort(reverse=True)\n",
    "print(a)"
   ]
  },
  {
   "cell_type": "code",
   "execution_count": 174,
   "id": "41a2fdde",
   "metadata": {},
   "outputs": [],
   "source": [
    "a.remove?"
   ]
  },
  {
   "cell_type": "code",
   "execution_count": 173,
   "id": "0a1136ef",
   "metadata": {},
   "outputs": [],
   "source": [
    "a.pop?"
   ]
  },
  {
   "cell_type": "code",
   "execution_count": null,
   "id": "393763d8",
   "metadata": {},
   "outputs": [],
   "source": []
  }
 ],
 "metadata": {
  "kernelspec": {
   "display_name": "Python 3 (ipykernel)",
   "language": "python",
   "name": "python3"
  },
  "language_info": {
   "codemirror_mode": {
    "name": "ipython",
    "version": 3
   },
   "file_extension": ".py",
   "mimetype": "text/x-python",
   "name": "python",
   "nbconvert_exporter": "python",
   "pygments_lexer": "ipython3",
   "version": "3.8.10"
  }
 },
 "nbformat": 4,
 "nbformat_minor": 5
}
