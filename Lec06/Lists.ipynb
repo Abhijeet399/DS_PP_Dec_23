{
 "cells": [
  {
   "cell_type": "code",
   "execution_count": 1,
   "id": "1a42dfbc",
   "metadata": {},
   "outputs": [],
   "source": [
    "string = 'Hello my name is Abhijeet'"
   ]
  },
  {
   "cell_type": "code",
   "execution_count": 4,
   "id": "7d70e366",
   "metadata": {},
   "outputs": [],
   "source": [
    "temp_str = ''\n",
    "for i in string:\n",
    "    temp_str = i + temp_str"
   ]
  },
  {
   "cell_type": "code",
   "execution_count": 5,
   "id": "a9a8c04d",
   "metadata": {},
   "outputs": [
    {
     "data": {
      "text/plain": [
       "'teejihbA si eman ym olleH'"
      ]
     },
     "execution_count": 5,
     "metadata": {},
     "output_type": "execute_result"
    }
   ],
   "source": [
    "temp_str"
   ]
  },
  {
   "cell_type": "code",
   "execution_count": 7,
   "id": "d3b4d8b2",
   "metadata": {},
   "outputs": [],
   "source": [
    "# Lists"
   ]
  },
  {
   "cell_type": "code",
   "execution_count": 11,
   "id": "a60426fd",
   "metadata": {},
   "outputs": [],
   "source": [
    "var = [1,2,3,'string', 2.0, True, range, [4,5,6], 'hello']"
   ]
  },
  {
   "cell_type": "code",
   "execution_count": 12,
   "id": "5a29260d",
   "metadata": {},
   "outputs": [
    {
     "data": {
      "text/plain": [
       "list"
      ]
     },
     "execution_count": 12,
     "metadata": {},
     "output_type": "execute_result"
    }
   ],
   "source": [
    "type(var)"
   ]
  },
  {
   "cell_type": "code",
   "execution_count": 13,
   "id": "becbcfd1",
   "metadata": {},
   "outputs": [
    {
     "name": "stdout",
     "output_type": "stream",
     "text": [
      "[1, 2, 3, 'string', 2.0, True, <class 'range'>, [4, 5, 6], 'hello']\n"
     ]
    }
   ],
   "source": [
    "print(var)"
   ]
  },
  {
   "cell_type": "code",
   "execution_count": 23,
   "id": "fc020ba6",
   "metadata": {},
   "outputs": [],
   "source": [
    "small_var = var[-2][1]"
   ]
  },
  {
   "cell_type": "code",
   "execution_count": 24,
   "id": "a5d45ae3",
   "metadata": {},
   "outputs": [
    {
     "name": "stdout",
     "output_type": "stream",
     "text": [
      "1 2 3 string 2.0 True <class 'range'> [4, 5, 6] hello "
     ]
    }
   ],
   "source": [
    "for i in var:\n",
    "    print(i, end=' ')"
   ]
  },
  {
   "cell_type": "code",
   "execution_count": 28,
   "id": "3093514d",
   "metadata": {},
   "outputs": [
    {
     "data": {
      "text/plain": [
       "5"
      ]
     },
     "execution_count": 28,
     "metadata": {},
     "output_type": "execute_result"
    }
   ],
   "source": [
    "small_var"
   ]
  },
  {
   "cell_type": "code",
   "execution_count": 29,
   "id": "84dd27aa",
   "metadata": {},
   "outputs": [
    {
     "name": "stdout",
     "output_type": "stream",
     "text": [
      "5\n"
     ]
    }
   ],
   "source": [
    "print(var[-2][1])"
   ]
  },
  {
   "cell_type": "code",
   "execution_count": 32,
   "id": "ad4041d5",
   "metadata": {},
   "outputs": [],
   "source": [
    "var.append('200')"
   ]
  },
  {
   "cell_type": "code",
   "execution_count": 33,
   "id": "6ea577b2",
   "metadata": {},
   "outputs": [
    {
     "data": {
      "text/plain": [
       "[1, 2, 3, 'string', 2.0, True, range, [4, 5, 6], 'hello', 200, '200']"
      ]
     },
     "execution_count": 33,
     "metadata": {},
     "output_type": "execute_result"
    }
   ],
   "source": [
    "var"
   ]
  },
  {
   "cell_type": "code",
   "execution_count": 81,
   "id": "b81d25da",
   "metadata": {},
   "outputs": [],
   "source": [
    "a = []\n",
    "for i in range(20):\n",
    "    a.append(i)"
   ]
  },
  {
   "cell_type": "code",
   "execution_count": 82,
   "id": "34af2286",
   "metadata": {},
   "outputs": [
    {
     "data": {
      "text/plain": [
       "[0, 1, 2, 3, 4, 5, 6, 7, 8, 9, 10, 11, 12, 13, 14, 15, 16, 17, 18, 19]"
      ]
     },
     "execution_count": 82,
     "metadata": {},
     "output_type": "execute_result"
    }
   ],
   "source": [
    "a"
   ]
  },
  {
   "cell_type": "code",
   "execution_count": 36,
   "id": "0ad9a5c0",
   "metadata": {},
   "outputs": [
    {
     "data": {
      "text/plain": [
       "'Hello my name is Abhijeet'"
      ]
     },
     "execution_count": 36,
     "metadata": {},
     "output_type": "execute_result"
    }
   ],
   "source": [
    "string"
   ]
  },
  {
   "cell_type": "code",
   "execution_count": 37,
   "id": "d2f0a98b",
   "metadata": {},
   "outputs": [
    {
     "name": "stdout",
     "output_type": "stream",
     "text": [
      "['Hello', 'my', 'name', 'is', 'Abhijeet']\n"
     ]
    }
   ],
   "source": [
    "print(string.split())"
   ]
  },
  {
   "cell_type": "code",
   "execution_count": 41,
   "id": "d048e3a7",
   "metadata": {},
   "outputs": [],
   "source": [
    "def split_string(string):\n",
    "    temp_str = ''\n",
    "    lst = []\n",
    "    for i in string:\n",
    "        if i == ' ':\n",
    "            lst.append(temp_str)\n",
    "            temp_str = ''\n",
    "        else:\n",
    "            temp_str += i\n",
    "    lst.append(temp_str)\n",
    "    return lst"
   ]
  },
  {
   "cell_type": "code",
   "execution_count": 42,
   "id": "aacc774f",
   "metadata": {},
   "outputs": [
    {
     "data": {
      "text/plain": [
       "['Hello', 'my', 'name', 'is', 'Abhijeet']"
      ]
     },
     "execution_count": 42,
     "metadata": {},
     "output_type": "execute_result"
    }
   ],
   "source": [
    "split_string(string)"
   ]
  },
  {
   "cell_type": "code",
   "execution_count": 43,
   "id": "38012606",
   "metadata": {},
   "outputs": [
    {
     "data": {
      "text/plain": [
       "[0, 1, 2, 3, 4, 5, 6, 7, 8, 9, 10, 11, 12, 13, 14, 15, 16, 17, 18, 19]"
      ]
     },
     "execution_count": 43,
     "metadata": {},
     "output_type": "execute_result"
    }
   ],
   "source": [
    "a"
   ]
  },
  {
   "cell_type": "code",
   "execution_count": 44,
   "id": "7f79c840",
   "metadata": {},
   "outputs": [],
   "source": [
    "length = 0\n",
    "for i in a:\n",
    "    length += 1"
   ]
  },
  {
   "cell_type": "code",
   "execution_count": 46,
   "id": "c0efb4dd",
   "metadata": {},
   "outputs": [
    {
     "data": {
      "text/plain": [
       "20"
      ]
     },
     "execution_count": 46,
     "metadata": {},
     "output_type": "execute_result"
    }
   ],
   "source": [
    "length"
   ]
  },
  {
   "cell_type": "code",
   "execution_count": 48,
   "id": "23017fcb",
   "metadata": {},
   "outputs": [
    {
     "name": "stdout",
     "output_type": "stream",
     "text": [
      "19 18 17 16 15 14 13 12 11 10 9 8 7 6 5 4 3 2 1 0 "
     ]
    }
   ],
   "source": [
    "for i in range(1, length + 1):\n",
    "    print(a[-i], end = ' ')"
   ]
  },
  {
   "cell_type": "code",
   "execution_count": 50,
   "id": "b007988f",
   "metadata": {},
   "outputs": [
    {
     "name": "stdout",
     "output_type": "stream",
     "text": [
      "20\n"
     ]
    }
   ],
   "source": [
    "print(len(a))"
   ]
  },
  {
   "cell_type": "code",
   "execution_count": 54,
   "id": "3fd3e81e",
   "metadata": {},
   "outputs": [
    {
     "name": "stdout",
     "output_type": "stream",
     "text": [
      "19 18 17 16 15 14 13 12 11 10 9 8 7 6 5 4 3 2 1 0 "
     ]
    }
   ],
   "source": [
    "temp_lst = []\n",
    "for i in range(1, len(a) + 1):\n",
    "    temp_lst.append(a[-i])\n",
    "    print(a[-i], end = ' ')"
   ]
  },
  {
   "cell_type": "code",
   "execution_count": 56,
   "id": "6c8cef09",
   "metadata": {},
   "outputs": [
    {
     "data": {
      "text/plain": [
       "[19, 18, 17, 16, 15, 14, 13, 12, 11, 10, 9, 8, 7, 6, 5, 4, 3, 2, 1, 0]"
      ]
     },
     "execution_count": 56,
     "metadata": {},
     "output_type": "execute_result"
    }
   ],
   "source": [
    "temp_lst"
   ]
  },
  {
   "cell_type": "code",
   "execution_count": 63,
   "id": "6b201cd6",
   "metadata": {},
   "outputs": [
    {
     "name": "stdout",
     "output_type": "stream",
     "text": [
      "1\n"
     ]
    }
   ],
   "source": [
    "var = [[1,2,3]]\n",
    "print(var[0][0])"
   ]
  },
  {
   "cell_type": "code",
   "execution_count": 59,
   "id": "fd1d4586",
   "metadata": {},
   "outputs": [],
   "source": [
    "var = var[0]"
   ]
  },
  {
   "cell_type": "code",
   "execution_count": 61,
   "id": "6bf25758",
   "metadata": {},
   "outputs": [
    {
     "data": {
      "text/plain": [
       "[1, 2, 3]"
      ]
     },
     "execution_count": 61,
     "metadata": {},
     "output_type": "execute_result"
    }
   ],
   "source": [
    "var"
   ]
  },
  {
   "cell_type": "code",
   "execution_count": 66,
   "id": "79a81185",
   "metadata": {},
   "outputs": [
    {
     "name": "stdout",
     "output_type": "stream",
     "text": [
      "[0, 1, 3, 2, 3, 4, 5, 6, 7, 8, 100, 9, 10, 11, 12, 13, 14, 15, 16, 17, 18, 19]\n"
     ]
    }
   ],
   "source": [
    "a.insert(10, 100)\n",
    "print(a)"
   ]
  },
  {
   "cell_type": "code",
   "execution_count": 70,
   "id": "469982dd",
   "metadata": {},
   "outputs": [
    {
     "name": "stdout",
     "output_type": "stream",
     "text": [
      "Hello my name is Abhijeet\n",
      "2471171820720\n",
      "2471183660416\n"
     ]
    }
   ],
   "source": [
    "print(string)\n",
    "print(id(string))\n",
    "string = 'Abhijeet Bhattacharya'\n",
    "print(id(string))"
   ]
  },
  {
   "cell_type": "code",
   "execution_count": 71,
   "id": "d89f2bec",
   "metadata": {},
   "outputs": [
    {
     "name": "stdout",
     "output_type": "stream",
     "text": [
      "[0, 1, 3, 2, 3, 4, 5, 6, 7, 8, 100, 9, 10, 11, 12, 13, 14, 15, 16, 17, 18, 19]\n",
      "2471184197248\n",
      "2471184197248\n"
     ]
    }
   ],
   "source": [
    "print(a)\n",
    "print(id(a))\n",
    "a.append(200)\n",
    "print(id(a))"
   ]
  },
  {
   "cell_type": "code",
   "execution_count": 87,
   "id": "c85d641d",
   "metadata": {},
   "outputs": [
    {
     "name": "stdout",
     "output_type": "stream",
     "text": [
      "[20, 200, 0, 1, 2, 3, 4, 5, 6, 7, 8, 9, 10, 11, 12, 13, 14, 15, 16, 17, 18, 19]\n",
      "2471186280512 140706251282800\n"
     ]
    }
   ],
   "source": [
    "print(a)\n",
    "print(id(a), id(a[0]))\n",
    "a.insert(0, 20)\n",
    "# print(id(a[0]))\n",
    "# print(id(a))"
   ]
  },
  {
   "cell_type": "code",
   "execution_count": 89,
   "id": "e2614e0f",
   "metadata": {},
   "outputs": [
    {
     "name": "stdout",
     "output_type": "stream",
     "text": [
      "[20, 20, 200, 0, 1, 2, 3, 4, 5, 6, 7, 8, 9, 10, 11, 12, 13, 14, 15, 16, 17, 18, 19]\n"
     ]
    }
   ],
   "source": [
    "print(a)"
   ]
  },
  {
   "cell_type": "code",
   "execution_count": 105,
   "id": "94f40c32",
   "metadata": {},
   "outputs": [],
   "source": [
    "a = [1,2,3,4,5]"
   ]
  },
  {
   "cell_type": "code",
   "execution_count": 106,
   "id": "4abc75fb",
   "metadata": {},
   "outputs": [],
   "source": [
    "a.insert(0,100)"
   ]
  },
  {
   "cell_type": "code",
   "execution_count": 107,
   "id": "dda78be4",
   "metadata": {},
   "outputs": [
    {
     "name": "stdout",
     "output_type": "stream",
     "text": [
      "[100, 1, 2, 3, 4, 5]\n"
     ]
    }
   ],
   "source": [
    "print(a)"
   ]
  },
  {
   "cell_type": "code",
   "execution_count": 108,
   "id": "471ff0bf",
   "metadata": {},
   "outputs": [],
   "source": [
    "a[0] = 0"
   ]
  },
  {
   "cell_type": "code",
   "execution_count": 109,
   "id": "ff4c8bb1",
   "metadata": {},
   "outputs": [
    {
     "data": {
      "text/plain": [
       "[0, 1, 2, 3, 4, 5]"
      ]
     },
     "execution_count": 109,
     "metadata": {},
     "output_type": "execute_result"
    }
   ],
   "source": [
    "a"
   ]
  },
  {
   "cell_type": "code",
   "execution_count": 111,
   "id": "0b180c06",
   "metadata": {},
   "outputs": [],
   "source": [
    "string = 'hello my name is abhijeet'"
   ]
  },
  {
   "cell_type": "code",
   "execution_count": 112,
   "id": "11567ec0",
   "metadata": {},
   "outputs": [
    {
     "data": {
      "text/plain": [
       "'hello my name is abhijeet'"
      ]
     },
     "execution_count": 112,
     "metadata": {},
     "output_type": "execute_result"
    }
   ],
   "source": [
    "string"
   ]
  },
  {
   "cell_type": "code",
   "execution_count": 118,
   "id": "e532ae2e",
   "metadata": {},
   "outputs": [
    {
     "data": {
      "text/plain": [
       "2"
      ]
     },
     "execution_count": 118,
     "metadata": {},
     "output_type": "execute_result"
    }
   ],
   "source": [
    "'Abhijeet'.count('e')"
   ]
  },
  {
   "cell_type": "code",
   "execution_count": 119,
   "id": "0f5d9611",
   "metadata": {},
   "outputs": [
    {
     "data": {
      "text/plain": [
       "'hello my name is abhijeet'"
      ]
     },
     "execution_count": 119,
     "metadata": {},
     "output_type": "execute_result"
    }
   ],
   "source": [
    "string"
   ]
  },
  {
   "cell_type": "code",
   "execution_count": 124,
   "id": "57ffbc84",
   "metadata": {},
   "outputs": [
    {
     "name": "stdout",
     "output_type": "stream",
     "text": [
      "h 2\n",
      "e 4\n",
      "l 2\n",
      "l 2\n",
      "o 1\n",
      "  4\n",
      "m 2\n",
      "y 1\n",
      "  4\n",
      "n 1\n",
      "a 2\n",
      "m 2\n",
      "e 4\n",
      "  4\n",
      "i 2\n",
      "s 1\n",
      "  4\n",
      "a 2\n",
      "b 1\n",
      "h 2\n",
      "i 2\n",
      "j 1\n",
      "e 4\n",
      "e 4\n",
      "t 1\n"
     ]
    }
   ],
   "source": [
    "for i in string:\n",
    "    print(i, string.count(i))"
   ]
  },
  {
   "cell_type": "code",
   "execution_count": 123,
   "id": "633881e9",
   "metadata": {},
   "outputs": [
    {
     "name": "stdout",
     "output_type": "stream",
     "text": [
      "h 2\n",
      "e 4\n",
      "l 2\n",
      "o 1\n",
      "  4\n",
      "m 2\n",
      "y 1\n",
      "n 1\n",
      "a 2\n",
      "i 2\n",
      "s 1\n",
      "b 1\n",
      "j 1\n",
      "t 1\n"
     ]
    }
   ],
   "source": [
    "unique_alphabets = []\n",
    "for i in string:\n",
    "    if i not in unique_alphabets:\n",
    "        unique_alphabets.append(i)\n",
    "        count = string.count(i)\n",
    "        print(i, count)"
   ]
  },
  {
   "cell_type": "code",
   "execution_count": 125,
   "id": "8dc21835",
   "metadata": {},
   "outputs": [
    {
     "data": {
      "text/plain": [
       "['h', 'e', 'l', 'o', ' ', 'm', 'y', 'n', 'a', 'i', 's', 'b', 'j', 't']"
      ]
     },
     "execution_count": 125,
     "metadata": {},
     "output_type": "execute_result"
    }
   ],
   "source": [
    "unique_alphabets"
   ]
  },
  {
   "cell_type": "code",
   "execution_count": 127,
   "id": "cf00f783",
   "metadata": {},
   "outputs": [],
   "source": [
    "a = []\n",
    "for i in range(20):\n",
    "    a.append(i)"
   ]
  },
  {
   "cell_type": "code",
   "execution_count": 128,
   "id": "c67bd55d",
   "metadata": {},
   "outputs": [
    {
     "data": {
      "text/plain": [
       "[0, 1, 2, 3, 4, 5, 6, 7, 8, 9, 10, 11, 12, 13, 14, 15, 16, 17, 18, 19]"
      ]
     },
     "execution_count": 128,
     "metadata": {},
     "output_type": "execute_result"
    }
   ],
   "source": [
    "a"
   ]
  },
  {
   "cell_type": "code",
   "execution_count": 134,
   "id": "872d534d",
   "metadata": {},
   "outputs": [],
   "source": [
    "target = 17\n",
    "def find_target(target):\n",
    "    for i in a:\n",
    "        if i == target:\n",
    "            return True\n",
    "    return False"
   ]
  },
  {
   "cell_type": "code",
   "execution_count": 133,
   "id": "6fae6488",
   "metadata": {},
   "outputs": [
    {
     "data": {
      "text/plain": [
       "False"
      ]
     },
     "execution_count": 133,
     "metadata": {},
     "output_type": "execute_result"
    }
   ],
   "source": [
    "find_target(target)"
   ]
  },
  {
   "cell_type": "code",
   "execution_count": 135,
   "id": "5a0ab34d",
   "metadata": {},
   "outputs": [
    {
     "data": {
      "text/plain": [
       "[0, 1, 2, 3, 4, 5, 6, 7, 8, 9, 10, 11, 12, 13, 14, 15, 16, 17, 18, 19]"
      ]
     },
     "execution_count": 135,
     "metadata": {},
     "output_type": "execute_result"
    }
   ],
   "source": [
    "a"
   ]
  },
  {
   "cell_type": "code",
   "execution_count": 136,
   "id": "052cde35",
   "metadata": {},
   "outputs": [
    {
     "name": "stdout",
     "output_type": "stream",
     "text": [
      "17\n"
     ]
    }
   ],
   "source": [
    "target = 17\n",
    "start = 0\n",
    "end = len(a) - 1\n",
    "\n",
    "while(start <= end):\n",
    "    mid = int((start + end)/2)\n",
    "    if a[mid] == target:\n",
    "        print(mid)\n",
    "        break\n",
    "    if a[mid] < target:\n",
    "        start = mid + 1\n",
    "    if a[mid] > target:\n",
    "        end = mid - 1"
   ]
  },
  {
   "cell_type": "code",
   "execution_count": null,
   "id": "36d0f6a5",
   "metadata": {},
   "outputs": [],
   "source": []
  }
 ],
 "metadata": {
  "kernelspec": {
   "display_name": "Python 3 (ipykernel)",
   "language": "python",
   "name": "python3"
  },
  "language_info": {
   "codemirror_mode": {
    "name": "ipython",
    "version": 3
   },
   "file_extension": ".py",
   "mimetype": "text/x-python",
   "name": "python",
   "nbconvert_exporter": "python",
   "pygments_lexer": "ipython3",
   "version": "3.8.10"
  }
 },
 "nbformat": 4,
 "nbformat_minor": 5
}
