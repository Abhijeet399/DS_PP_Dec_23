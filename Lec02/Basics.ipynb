{
 "cells": [
  {
   "cell_type": "code",
   "execution_count": 4,
   "id": "6c4ddfa5",
   "metadata": {},
   "outputs": [
    {
     "name": "stdout",
     "output_type": "stream",
     "text": [
      "1702870219184\n",
      "1702877078768\n"
     ]
    }
   ],
   "source": [
    "var = '123'\n",
    "print(id(var))\n",
    "var = '234'\n",
    "print(id(var))"
   ]
  },
  {
   "cell_type": "code",
   "execution_count": 5,
   "id": "514b74cd",
   "metadata": {},
   "outputs": [
    {
     "name": "stdout",
     "output_type": "stream",
     "text": [
      "<class 'str'>\n"
     ]
    }
   ],
   "source": [
    "var = 'This is my name: \"Abhijeet\"'\n",
    "print(type(var))"
   ]
  },
  {
   "cell_type": "code",
   "execution_count": 6,
   "id": "0c887980",
   "metadata": {},
   "outputs": [
    {
     "data": {
      "text/plain": [
       "str"
      ]
     },
     "execution_count": 6,
     "metadata": {},
     "output_type": "execute_result"
    }
   ],
   "source": [
    "type(var)"
   ]
  },
  {
   "cell_type": "code",
   "execution_count": 7,
   "id": "e44c474a",
   "metadata": {},
   "outputs": [],
   "source": [
    "# Functions"
   ]
  },
  {
   "cell_type": "code",
   "execution_count": 47,
   "id": "14e286db",
   "metadata": {},
   "outputs": [],
   "source": [
    "def first_function():\n",
    "#     print(x)\n",
    "    print('Hello World!')\n",
    "#     return x\n",
    "# print('Hi World!')"
   ]
  },
  {
   "cell_type": "code",
   "execution_count": 48,
   "id": "3d9a61a5",
   "metadata": {},
   "outputs": [
    {
     "name": "stdout",
     "output_type": "stream",
     "text": [
      "Hello World!\n"
     ]
    }
   ],
   "source": [
    "var = first_function()"
   ]
  },
  {
   "cell_type": "code",
   "execution_count": 49,
   "id": "b48d2cf5",
   "metadata": {},
   "outputs": [
    {
     "name": "stdout",
     "output_type": "stream",
     "text": [
      "None\n"
     ]
    }
   ],
   "source": [
    "print(var)"
   ]
  },
  {
   "cell_type": "code",
   "execution_count": 43,
   "id": "a976c0e2",
   "metadata": {},
   "outputs": [],
   "source": [
    "def temp(a, b):\n",
    "    return a + b"
   ]
  },
  {
   "cell_type": "code",
   "execution_count": 44,
   "id": "81eb6414",
   "metadata": {},
   "outputs": [
    {
     "name": "stdout",
     "output_type": "stream",
     "text": [
      "33\n"
     ]
    }
   ],
   "source": [
    "print(temp(10, 23))"
   ]
  },
  {
   "cell_type": "code",
   "execution_count": 45,
   "id": "1a0c6db3",
   "metadata": {},
   "outputs": [],
   "source": [
    "var = temp"
   ]
  },
  {
   "cell_type": "code",
   "execution_count": 46,
   "id": "f4ba134a",
   "metadata": {},
   "outputs": [
    {
     "name": "stdout",
     "output_type": "stream",
     "text": [
      "<function temp at 0x0000018C7B625CA0>\n"
     ]
    }
   ],
   "source": [
    "print(var)"
   ]
  },
  {
   "cell_type": "code",
   "execution_count": 50,
   "id": "059a350a",
   "metadata": {},
   "outputs": [],
   "source": [
    "string = 'Abhijeet'"
   ]
  },
  {
   "cell_type": "code",
   "execution_count": 51,
   "id": "ef8a8253",
   "metadata": {},
   "outputs": [
    {
     "name": "stdout",
     "output_type": "stream",
     "text": [
      "65\n"
     ]
    }
   ],
   "source": [
    "print(ord('A'))"
   ]
  },
  {
   "cell_type": "code",
   "execution_count": 63,
   "id": "7f08c6e8",
   "metadata": {},
   "outputs": [],
   "source": [
    "def lower_upper(abc):\n",
    "    ascii_abc = ord(abc)\n",
    "    diff = ord('z') - ord('Z')\n",
    "    print(chr(ascii_abc - diff))"
   ]
  },
  {
   "cell_type": "code",
   "execution_count": 64,
   "id": "c26c85fc",
   "metadata": {},
   "outputs": [
    {
     "name": "stdout",
     "output_type": "stream",
     "text": [
      "F\n"
     ]
    }
   ],
   "source": [
    "lower_upper('f')"
   ]
  },
  {
   "cell_type": "code",
   "execution_count": 59,
   "id": "dbaf8c99",
   "metadata": {},
   "outputs": [],
   "source": [
    "def lower_upper(abc):\n",
    "    print(chr(ord(abc) - 32))"
   ]
  },
  {
   "cell_type": "code",
   "execution_count": 60,
   "id": "0729505b",
   "metadata": {},
   "outputs": [
    {
     "name": "stdout",
     "output_type": "stream",
     "text": [
      "D\n"
     ]
    }
   ],
   "source": [
    "lower_upper('d')"
   ]
  },
  {
   "cell_type": "code",
   "execution_count": 73,
   "id": "3154e324",
   "metadata": {},
   "outputs": [],
   "source": [
    "def upper_lower(abc):\n",
    "    print(chr(ord(abc) + 32))"
   ]
  },
  {
   "cell_type": "code",
   "execution_count": 75,
   "id": "8f3717ed",
   "metadata": {},
   "outputs": [
    {
     "name": "stdout",
     "output_type": "stream",
     "text": [
      "P\n"
     ]
    }
   ],
   "source": [
    "upper_lower('0')"
   ]
  },
  {
   "cell_type": "code",
   "execution_count": 77,
   "id": "7b3e967a",
   "metadata": {},
   "outputs": [],
   "source": [
    "# Operators"
   ]
  },
  {
   "cell_type": "code",
   "execution_count": 80,
   "id": "7748493d",
   "metadata": {},
   "outputs": [],
   "source": [
    "var = 10"
   ]
  },
  {
   "cell_type": "code",
   "execution_count": 85,
   "id": "922ac26f",
   "metadata": {},
   "outputs": [
    {
     "name": "stdout",
     "output_type": "stream",
     "text": [
      "5.0\n",
      "15\n",
      "5\n",
      "10\n"
     ]
    }
   ],
   "source": [
    "print(var / 2)\n",
    "print(var + 5)\n",
    "print(var - 5)\n",
    "print(var * 1)"
   ]
  },
  {
   "cell_type": "code",
   "execution_count": 86,
   "id": "37d1ec66",
   "metadata": {},
   "outputs": [
    {
     "name": "stdout",
     "output_type": "stream",
     "text": [
      "0\n"
     ]
    }
   ],
   "source": [
    "print(var % 2)"
   ]
  },
  {
   "cell_type": "code",
   "execution_count": 87,
   "id": "07eeac35",
   "metadata": {},
   "outputs": [
    {
     "name": "stdout",
     "output_type": "stream",
     "text": [
      "100\n"
     ]
    }
   ],
   "source": [
    "print(var ** 2)"
   ]
  },
  {
   "cell_type": "code",
   "execution_count": 89,
   "id": "292b05f4",
   "metadata": {},
   "outputs": [
    {
     "name": "stdout",
     "output_type": "stream",
     "text": [
      "1\n"
     ]
    }
   ],
   "source": [
    "print(var // 6)"
   ]
  },
  {
   "cell_type": "code",
   "execution_count": 95,
   "id": "6ca0bef3",
   "metadata": {},
   "outputs": [
    {
     "name": "stdout",
     "output_type": "stream",
     "text": [
      "True\n"
     ]
    }
   ],
   "source": [
    "print(var >= 2)"
   ]
  },
  {
   "cell_type": "code",
   "execution_count": 96,
   "id": "39790435",
   "metadata": {},
   "outputs": [
    {
     "name": "stdout",
     "output_type": "stream",
     "text": [
      "True\n"
     ]
    }
   ],
   "source": [
    "print(var <= 20)"
   ]
  },
  {
   "cell_type": "code",
   "execution_count": 97,
   "id": "0c50c71a",
   "metadata": {},
   "outputs": [
    {
     "name": "stdout",
     "output_type": "stream",
     "text": [
      "True\n"
     ]
    }
   ],
   "source": [
    "print(var != 2)"
   ]
  },
  {
   "cell_type": "code",
   "execution_count": 98,
   "id": "5def2b63",
   "metadata": {},
   "outputs": [],
   "source": [
    "# Conditional Statements\n",
    "# If \n",
    "# Else\n",
    "# Elif"
   ]
  },
  {
   "cell_type": "code",
   "execution_count": 114,
   "id": "5aa4c82b",
   "metadata": {},
   "outputs": [
    {
     "name": "stdout",
     "output_type": "stream",
     "text": [
      "Manek\n"
     ]
    }
   ],
   "source": [
    "var = 5\n",
    "if var == 10:\n",
    "    print('Rishu')\n",
    "elif var == 7:\n",
    "    print('Amit')\n",
    "elif var == 5:\n",
    "    print('Manek')\n",
    "else:\n",
    "    print('Abhijeet')"
   ]
  },
  {
   "cell_type": "code",
   "execution_count": 122,
   "id": "fb5d1e98",
   "metadata": {},
   "outputs": [],
   "source": [
    "def report_card(marks):\n",
    "    if marks > 90:\n",
    "        print(\"A+\")\n",
    "    elif marks > 80:\n",
    "        print('A')\n",
    "    elif marks > 70:\n",
    "        print('B+')\n",
    "    elif marks > 60:\n",
    "        print('B')\n",
    "    elif marks > 50:\n",
    "        print('C+')\n",
    "    else:\n",
    "        print('F')"
   ]
  },
  {
   "cell_type": "code",
   "execution_count": 125,
   "id": "c5a0652e",
   "metadata": {},
   "outputs": [
    {
     "name": "stdout",
     "output_type": "stream",
     "text": [
      "F\n"
     ]
    }
   ],
   "source": [
    "report_card(50)"
   ]
  },
  {
   "cell_type": "code",
   "execution_count": null,
   "id": "de837626",
   "metadata": {},
   "outputs": [],
   "source": []
  }
 ],
 "metadata": {
  "kernelspec": {
   "display_name": "Python 3 (ipykernel)",
   "language": "python",
   "name": "python3"
  },
  "language_info": {
   "codemirror_mode": {
    "name": "ipython",
    "version": 3
   },
   "file_extension": ".py",
   "mimetype": "text/x-python",
   "name": "python",
   "nbconvert_exporter": "python",
   "pygments_lexer": "ipython3",
   "version": "3.8.10"
  }
 },
 "nbformat": 4,
 "nbformat_minor": 5
}
