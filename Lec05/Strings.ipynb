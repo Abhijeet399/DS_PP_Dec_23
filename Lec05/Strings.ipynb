{
 "cells": [
  {
   "cell_type": "code",
   "execution_count": 1,
   "id": "182a0140",
   "metadata": {},
   "outputs": [],
   "source": [
    "f_name = 'Abhijeet'\n",
    "l_name = ' Bhattacharya'"
   ]
  },
  {
   "cell_type": "code",
   "execution_count": 2,
   "id": "7b6c26cb",
   "metadata": {},
   "outputs": [
    {
     "name": "stdout",
     "output_type": "stream",
     "text": [
      "3\n"
     ]
    }
   ],
   "source": [
    "print(1 + 2)"
   ]
  },
  {
   "cell_type": "code",
   "execution_count": 3,
   "id": "2e62c96d",
   "metadata": {},
   "outputs": [
    {
     "name": "stdout",
     "output_type": "stream",
     "text": [
      "Abhijeet Bhattacharya\n"
     ]
    }
   ],
   "source": [
    "print(f_name + l_name)"
   ]
  },
  {
   "cell_type": "code",
   "execution_count": 6,
   "id": "57c2254f",
   "metadata": {},
   "outputs": [
    {
     "data": {
      "text/plain": [
       "'h'"
      ]
     },
     "execution_count": 6,
     "metadata": {},
     "output_type": "execute_result"
    }
   ],
   "source": [
    "l_name[2]"
   ]
  },
  {
   "cell_type": "code",
   "execution_count": 9,
   "id": "9f126383",
   "metadata": {},
   "outputs": [
    {
     "name": "stdout",
     "output_type": "stream",
     "text": [
      " Bhattacharya"
     ]
    }
   ],
   "source": [
    "for i in l_name:\n",
    "    print(i, end = '')"
   ]
  },
  {
   "cell_type": "code",
   "execution_count": 55,
   "id": "d5b20190",
   "metadata": {},
   "outputs": [
    {
     "name": "stdout",
     "output_type": "stream",
     "text": [
      "122762482376448723646\r",
      "3\r",
      "4\r",
      "abcd\r",
      "Abhijeet\n",
      "Hello\n"
     ]
    }
   ],
   "source": [
    "print('122762482376448723646', 3, 4, 'abcd', 'Abhijeet', sep = '\\r')\n",
    "print('Hello')"
   ]
  },
  {
   "cell_type": "code",
   "execution_count": 64,
   "id": "61005a05",
   "metadata": {},
   "outputs": [
    {
     "name": "stdout",
     "output_type": "stream",
     "text": [
      "Hello World of Programmers\r",
      "1\n"
     ]
    }
   ],
   "source": [
    "print('Hello','World', 'of', 'Programmers', end = '\\r')\n",
    "print(1)"
   ]
  },
  {
   "cell_type": "code",
   "execution_count": 19,
   "id": "805e27b0",
   "metadata": {},
   "outputs": [
    {
     "name": "stdout",
     "output_type": "stream",
     "text": [
      "Enter a number312\n"
     ]
    }
   ],
   "source": [
    "var = int(input('Enter a number'))"
   ]
  },
  {
   "cell_type": "code",
   "execution_count": 20,
   "id": "36453a48",
   "metadata": {},
   "outputs": [
    {
     "name": "stdout",
     "output_type": "stream",
     "text": [
      "312\n"
     ]
    }
   ],
   "source": [
    "print(var)"
   ]
  },
  {
   "cell_type": "code",
   "execution_count": 21,
   "id": "f6cb3d6f",
   "metadata": {},
   "outputs": [
    {
     "name": "stdout",
     "output_type": "stream",
     "text": [
      "1.0\n"
     ]
    }
   ],
   "source": [
    "print(2 / 2)"
   ]
  },
  {
   "cell_type": "code",
   "execution_count": 22,
   "id": "812420e6",
   "metadata": {},
   "outputs": [
    {
     "data": {
      "text/plain": [
       "int"
      ]
     },
     "execution_count": 22,
     "metadata": {},
     "output_type": "execute_result"
    }
   ],
   "source": [
    "type(var)"
   ]
  },
  {
   "cell_type": "code",
   "execution_count": 23,
   "id": "ec62dcc3",
   "metadata": {},
   "outputs": [
    {
     "data": {
      "text/plain": [
       "312"
      ]
     },
     "execution_count": 23,
     "metadata": {},
     "output_type": "execute_result"
    }
   ],
   "source": [
    "int(var)"
   ]
  },
  {
   "cell_type": "code",
   "execution_count": 25,
   "id": "bc3d625e",
   "metadata": {},
   "outputs": [],
   "source": [
    "string = 'Hello my name is Abhijeet.'"
   ]
  },
  {
   "cell_type": "code",
   "execution_count": 26,
   "id": "53ff57bf",
   "metadata": {},
   "outputs": [],
   "source": [
    "length = 0\n",
    "for i in string:\n",
    "    length += 1"
   ]
  },
  {
   "cell_type": "code",
   "execution_count": 27,
   "id": "39f795da",
   "metadata": {},
   "outputs": [
    {
     "data": {
      "text/plain": [
       "'e'"
      ]
     },
     "execution_count": 27,
     "metadata": {},
     "output_type": "execute_result"
    }
   ],
   "source": [
    "string[length-3]"
   ]
  },
  {
   "cell_type": "code",
   "execution_count": 29,
   "id": "486fafe5",
   "metadata": {
    "scrolled": true
   },
   "outputs": [
    {
     "name": "stdout",
     "output_type": "stream",
     "text": [
      ".teejihbA si eman ym olleH"
     ]
    }
   ],
   "source": [
    "for i in range(1, length + 1):\n",
    "    print(string[-i], end = '')"
   ]
  },
  {
   "cell_type": "code",
   "execution_count": 30,
   "id": "0e4d936e",
   "metadata": {},
   "outputs": [
    {
     "name": "stdout",
     "output_type": "stream",
     "text": [
      "Yes/Noes\n",
      "No\n"
     ]
    }
   ],
   "source": [
    "var = input('Yes/No')\n",
    "if var.strip() == 'Yes':\n",
    "    print('Yes')\n",
    "else:\n",
    "    print('No')"
   ]
  },
  {
   "cell_type": "code",
   "execution_count": 31,
   "id": "fbf166eb",
   "metadata": {},
   "outputs": [
    {
     "name": "stdout",
     "output_type": "stream",
     "text": [
      "Hello My name is Abhijeet\n"
     ]
    }
   ],
   "source": [
    "print('  Hello My name is Abhijeet  '.strip())"
   ]
  },
  {
   "cell_type": "code",
   "execution_count": 128,
   "id": "6719f187",
   "metadata": {},
   "outputs": [],
   "source": [
    "string.strip?"
   ]
  },
  {
   "cell_type": "code",
   "execution_count": 32,
   "id": "472fb210",
   "metadata": {},
   "outputs": [],
   "source": [
    "def remove_chr(string, chr_removed1, chr_removed2):\n",
    "    temp_string = ''\n",
    "    for i in string:\n",
    "        if i != chr_removed1 and i != chr_removed2:\n",
    "            temp_string += i\n",
    "    return temp_string"
   ]
  },
  {
   "cell_type": "code",
   "execution_count": 33,
   "id": "95ee33fe",
   "metadata": {},
   "outputs": [
    {
     "data": {
      "text/plain": [
       "'HllomynamisAbhijt.'"
      ]
     },
     "execution_count": 33,
     "metadata": {},
     "output_type": "execute_result"
    }
   ],
   "source": [
    "remove_chr(string, ' ', 'e')"
   ]
  },
  {
   "cell_type": "code",
   "execution_count": 34,
   "id": "d952a4bb",
   "metadata": {},
   "outputs": [],
   "source": [
    "def replace_chr(string, remove_chr, insert_chr):\n",
    "    temp_string = ''\n",
    "    for i in string:\n",
    "        if i != remove_chr:\n",
    "            temp_string += i\n",
    "        else:\n",
    "            temp_string += insert_chr\n",
    "    return temp_string"
   ]
  },
  {
   "cell_type": "code",
   "execution_count": 35,
   "id": "be6e3169",
   "metadata": {},
   "outputs": [
    {
     "data": {
      "text/plain": [
       "'HEllo my namE is AbhijEEt.'"
      ]
     },
     "execution_count": 35,
     "metadata": {},
     "output_type": "execute_result"
    }
   ],
   "source": [
    "replace_chr(string, 'e', 'E')"
   ]
  },
  {
   "cell_type": "code",
   "execution_count": 36,
   "id": "2182abdc",
   "metadata": {},
   "outputs": [
    {
     "data": {
      "text/plain": [
       "'HEllo my namE is AbhijEet.'"
      ]
     },
     "execution_count": 36,
     "metadata": {},
     "output_type": "execute_result"
    }
   ],
   "source": [
    "string.replace('e', 'E', 3)"
   ]
  },
  {
   "cell_type": "code",
   "execution_count": 37,
   "id": "d34d0bd1",
   "metadata": {},
   "outputs": [
    {
     "data": {
      "text/plain": [
       "<function str.replace(old, new, count=-1, /)>"
      ]
     },
     "execution_count": 37,
     "metadata": {},
     "output_type": "execute_result"
    }
   ],
   "source": [
    "string.replace"
   ]
  },
  {
   "cell_type": "code",
   "execution_count": 38,
   "id": "38330be7",
   "metadata": {},
   "outputs": [
    {
     "data": {
      "text/plain": [
       "'Hello my name is Abhijeet.'"
      ]
     },
     "execution_count": 38,
     "metadata": {},
     "output_type": "execute_result"
    }
   ],
   "source": [
    "string"
   ]
  },
  {
   "cell_type": "code",
   "execution_count": 39,
   "id": "e77db449",
   "metadata": {},
   "outputs": [],
   "source": [
    "def count_chr(string, chr_count):\n",
    "    count = 0\n",
    "    for i in string:\n",
    "        if i == chr_count:\n",
    "            count += 1\n",
    "    return count"
   ]
  },
  {
   "cell_type": "code",
   "execution_count": 40,
   "id": "ed6fdc1d",
   "metadata": {},
   "outputs": [
    {
     "data": {
      "text/plain": [
       "4"
      ]
     },
     "execution_count": 40,
     "metadata": {},
     "output_type": "execute_result"
    }
   ],
   "source": [
    "count_chr(string, 'e')"
   ]
  },
  {
   "cell_type": "code",
   "execution_count": 170,
   "id": "a2c187dc",
   "metadata": {},
   "outputs": [
    {
     "data": {
      "text/plain": [
       "4"
      ]
     },
     "execution_count": 170,
     "metadata": {},
     "output_type": "execute_result"
    }
   ],
   "source": [
    "string.count('e')"
   ]
  },
  {
   "cell_type": "code",
   "execution_count": 171,
   "id": "9747f9da",
   "metadata": {},
   "outputs": [],
   "source": [
    "string.count?"
   ]
  },
  {
   "cell_type": "code",
   "execution_count": 174,
   "id": "0157c77c",
   "metadata": {},
   "outputs": [
    {
     "data": {
      "text/plain": [
       "'Hello my name is Abhijeet.'"
      ]
     },
     "execution_count": 174,
     "metadata": {},
     "output_type": "execute_result"
    }
   ],
   "source": [
    "string"
   ]
  },
  {
   "cell_type": "code",
   "execution_count": 176,
   "id": "c1951949",
   "metadata": {},
   "outputs": [
    {
     "data": {
      "text/plain": [
       "['H', 'llo my nam', ' is Abhij', '', 't.']"
      ]
     },
     "execution_count": 176,
     "metadata": {},
     "output_type": "execute_result"
    }
   ],
   "source": [
    "string.split(sep = 'e')"
   ]
  },
  {
   "cell_type": "code",
   "execution_count": 181,
   "id": "7ac50149",
   "metadata": {},
   "outputs": [
    {
     "data": {
      "text/plain": [
       "['My', 'name', 'is', 'Abhijeet']"
      ]
     },
     "execution_count": 181,
     "metadata": {},
     "output_type": "execute_result"
    }
   ],
   "source": [
    "\"My name is Abhijeet\".split()"
   ]
  },
  {
   "cell_type": "code",
   "execution_count": 184,
   "id": "452af422",
   "metadata": {},
   "outputs": [],
   "source": [
    "def split_string(string):\n",
    "    temp_str = ''\n",
    "    for i in string:\n",
    "        if i == ' ':\n",
    "            print(temp_str)\n",
    "            temp_str = ''\n",
    "        else:\n",
    "            temp_str += i\n",
    "    print(temp_str)"
   ]
  },
  {
   "cell_type": "code",
   "execution_count": 185,
   "id": "250076b8",
   "metadata": {},
   "outputs": [
    {
     "name": "stdout",
     "output_type": "stream",
     "text": [
      "Hello\n",
      "my\n",
      "name\n",
      "is\n",
      "Abhijeet.\n"
     ]
    }
   ],
   "source": [
    "split_string(string)"
   ]
  },
  {
   "cell_type": "code",
   "execution_count": 195,
   "id": "37b1bbfd",
   "metadata": {},
   "outputs": [
    {
     "data": {
      "text/plain": [
       "'HelloEAmyEAnameEAisEAAbhijeet.'"
      ]
     },
     "execution_count": 195,
     "metadata": {},
     "output_type": "execute_result"
    }
   ],
   "source": [
    "string.replace(' ', 'EA')"
   ]
  },
  {
   "cell_type": "code",
   "execution_count": null,
   "id": "2289b1d2",
   "metadata": {},
   "outputs": [],
   "source": []
  }
 ],
 "metadata": {
  "kernelspec": {
   "display_name": "Python 3 (ipykernel)",
   "language": "python",
   "name": "python3"
  },
  "language_info": {
   "codemirror_mode": {
    "name": "ipython",
    "version": 3
   },
   "file_extension": ".py",
   "mimetype": "text/x-python",
   "name": "python",
   "nbconvert_exporter": "python",
   "pygments_lexer": "ipython3",
   "version": "3.8.10"
  }
 },
 "nbformat": 4,
 "nbformat_minor": 5
}
