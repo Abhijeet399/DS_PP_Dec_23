{
 "cells": [
  {
   "cell_type": "code",
   "execution_count": 1,
   "id": "b666cc04",
   "metadata": {},
   "outputs": [],
   "source": [
    "# Python Basics"
   ]
  },
  {
   "cell_type": "code",
   "execution_count": 3,
   "id": "04de7810",
   "metadata": {},
   "outputs": [],
   "source": [
    "var = 200"
   ]
  },
  {
   "cell_type": "code",
   "execution_count": 4,
   "id": "ae287e90",
   "metadata": {},
   "outputs": [
    {
     "name": "stdout",
     "output_type": "stream",
     "text": [
      "200\n"
     ]
    }
   ],
   "source": [
    "print(var)"
   ]
  },
  {
   "cell_type": "code",
   "execution_count": 5,
   "id": "93f57c1f",
   "metadata": {},
   "outputs": [
    {
     "name": "stdout",
     "output_type": "stream",
     "text": [
      "1024\n"
     ]
    }
   ],
   "source": [
    "var = 1024\n",
    "print(var)"
   ]
  },
  {
   "cell_type": "code",
   "execution_count": 15,
   "id": "aa3113f4",
   "metadata": {},
   "outputs": [],
   "source": [
    "var = 123"
   ]
  },
  {
   "cell_type": "code",
   "execution_count": 16,
   "id": "163317d6",
   "metadata": {},
   "outputs": [
    {
     "name": "stdout",
     "output_type": "stream",
     "text": [
      "123\n"
     ]
    }
   ],
   "source": [
    "print(var)"
   ]
  },
  {
   "cell_type": "code",
   "execution_count": 53,
   "id": "25d27528",
   "metadata": {},
   "outputs": [
    {
     "name": "stdout",
     "output_type": "stream",
     "text": [
      "123.2\n",
      "<class 'float'>\n"
     ]
    }
   ],
   "source": [
    "var = 123.20\n",
    "print(var)\n",
    "print(type(var))"
   ]
  },
  {
   "cell_type": "code",
   "execution_count": 20,
   "id": "103b460a",
   "metadata": {},
   "outputs": [
    {
     "name": "stdout",
     "output_type": "stream",
     "text": [
      "h\n"
     ]
    }
   ],
   "source": [
    "var = \"h\"\n",
    "print(var)"
   ]
  },
  {
   "cell_type": "code",
   "execution_count": 28,
   "id": "df96e67c",
   "metadata": {},
   "outputs": [
    {
     "name": "stdout",
     "output_type": "stream",
     "text": [
      "This is 'also' a string\n"
     ]
    }
   ],
   "source": [
    "var = \"This is 'also' a string\"\n",
    "print(var)"
   ]
  },
  {
   "cell_type": "code",
   "execution_count": 40,
   "id": "93621615",
   "metadata": {},
   "outputs": [
    {
     "name": "stdout",
     "output_type": "stream",
     "text": [
      "123.3\n"
     ]
    },
    {
     "data": {
      "text/plain": [
       "2680314928304"
      ]
     },
     "execution_count": 40,
     "metadata": {},
     "output_type": "execute_result"
    }
   ],
   "source": [
    "var = 123.3\n",
    "print(var)\n",
    "id(var)"
   ]
  },
  {
   "cell_type": "code",
   "execution_count": 41,
   "id": "9d6ee747",
   "metadata": {},
   "outputs": [
    {
     "name": "stdout",
     "output_type": "stream",
     "text": [
      "-123.3\n"
     ]
    },
    {
     "data": {
      "text/plain": [
       "2680314928176"
      ]
     },
     "execution_count": 41,
     "metadata": {},
     "output_type": "execute_result"
    }
   ],
   "source": [
    "var = -123.3\n",
    "print(var)\n",
    "id(var)"
   ]
  },
  {
   "cell_type": "code",
   "execution_count": 36,
   "id": "1e1e4707",
   "metadata": {},
   "outputs": [
    {
     "data": {
      "text/plain": [
       "3"
      ]
     },
     "execution_count": 36,
     "metadata": {},
     "output_type": "execute_result"
    }
   ],
   "source": [
    "1 + 2        # Adds 1 and 2"
   ]
  },
  {
   "cell_type": "code",
   "execution_count": 35,
   "id": "ae5267f9",
   "metadata": {},
   "outputs": [],
   "source": [
    "# String"
   ]
  },
  {
   "cell_type": "code",
   "execution_count": 38,
   "id": "a5c2e596",
   "metadata": {},
   "outputs": [
    {
     "data": {
      "text/plain": [
       "2680315886512"
      ]
     },
     "execution_count": 38,
     "metadata": {},
     "output_type": "execute_result"
    }
   ],
   "source": [
    "var = 'Abhijeet'\n",
    "id(var)"
   ]
  },
  {
   "cell_type": "code",
   "execution_count": 52,
   "id": "246476cd",
   "metadata": {},
   "outputs": [
    {
     "name": "stdout",
     "output_type": "stream",
     "text": [
      "2680321817648\n"
     ]
    },
    {
     "data": {
      "text/plain": [
       "str"
      ]
     },
     "execution_count": 52,
     "metadata": {},
     "output_type": "execute_result"
    }
   ],
   "source": [
    "var = 'Hello World!'\n",
    "print(id(var))\n",
    "type(var)"
   ]
  },
  {
   "cell_type": "code",
   "execution_count": 54,
   "id": "18c7fa4c",
   "metadata": {},
   "outputs": [],
   "source": [
    "var = True"
   ]
  },
  {
   "cell_type": "code",
   "execution_count": 55,
   "id": "f421bdcb",
   "metadata": {},
   "outputs": [],
   "source": [
    "var = False"
   ]
  },
  {
   "cell_type": "code",
   "execution_count": 56,
   "id": "d558903a",
   "metadata": {},
   "outputs": [
    {
     "data": {
      "text/plain": [
       "bool"
      ]
     },
     "execution_count": 56,
     "metadata": {},
     "output_type": "execute_result"
    }
   ],
   "source": [
    "type(var)"
   ]
  },
  {
   "cell_type": "code",
   "execution_count": 57,
   "id": "b43f7913",
   "metadata": {},
   "outputs": [
    {
     "data": {
      "text/plain": [
       "2680321315008"
      ]
     },
     "execution_count": 57,
     "metadata": {},
     "output_type": "execute_result"
    }
   ],
   "source": [
    "var = [1, 2, 3]\n",
    "id(var)"
   ]
  },
  {
   "cell_type": "code",
   "execution_count": 58,
   "id": "75aeed8c",
   "metadata": {},
   "outputs": [
    {
     "data": {
      "text/plain": [
       "2680321315008"
      ]
     },
     "execution_count": 58,
     "metadata": {},
     "output_type": "execute_result"
    }
   ],
   "source": [
    "var.append(4)\n",
    "id(var)"
   ]
  },
  {
   "cell_type": "code",
   "execution_count": 59,
   "id": "061563cb",
   "metadata": {},
   "outputs": [
    {
     "data": {
      "text/plain": [
       "[1, 2, 3, 4]"
      ]
     },
     "execution_count": 59,
     "metadata": {},
     "output_type": "execute_result"
    }
   ],
   "source": [
    "var"
   ]
  },
  {
   "cell_type": "code",
   "execution_count": null,
   "id": "8833490a",
   "metadata": {},
   "outputs": [],
   "source": []
  }
 ],
 "metadata": {
  "kernelspec": {
   "display_name": "Python 3 (ipykernel)",
   "language": "python",
   "name": "python3"
  },
  "language_info": {
   "codemirror_mode": {
    "name": "ipython",
    "version": 3
   },
   "file_extension": ".py",
   "mimetype": "text/x-python",
   "name": "python",
   "nbconvert_exporter": "python",
   "pygments_lexer": "ipython3",
   "version": "3.8.10"
  }
 },
 "nbformat": 4,
 "nbformat_minor": 5
}
