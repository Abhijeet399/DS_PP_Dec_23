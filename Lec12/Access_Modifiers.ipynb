{
 "cells": [
  {
   "cell_type": "code",
   "execution_count": 41,
   "id": "95720d65",
   "metadata": {},
   "outputs": [],
   "source": [
    "import numpy as np"
   ]
  },
  {
   "cell_type": "code",
   "execution_count": 214,
   "id": "73b4ee52",
   "metadata": {},
   "outputs": [],
   "source": [
    "class Mail:\n",
    "    \n",
    "    def __init__(self, name, age, email, password):\n",
    "        self.name = name\n",
    "        self.age = age\n",
    "        self._email = email\n",
    "        self.__email = email            # This is a private attribute\n",
    "        self.__password = password\n",
    "        \n",
    "    def details(self):\n",
    "        len_pass = len(self.__password)\n",
    "        print(self.name, self.age, self._email, '*' * len_pass)\n",
    "        self.view_password()\n",
    "        \n",
    "    def __make_otp(self):\n",
    "        self.otp = np.random.randint(1000, 10000)\n",
    "        print(self.otp)\n",
    "        \n",
    "    def view_password(self):\n",
    "        temp_pass = input('Enter Password')\n",
    "        if temp_pass == self.__password:\n",
    "            print(self.__password)\n",
    "        else:\n",
    "            print('Try Again')\n",
    "    \n",
    "    def update_Password(self, new_password):\n",
    "        self.__make_otp()\n",
    "        otp = int(input('Enter OTP'))\n",
    "        if self.otp == otp and self._email == self.__email:\n",
    "            self.__password = new_password"
   ]
  },
  {
   "cell_type": "code",
   "execution_count": 215,
   "id": "f7764b57",
   "metadata": {},
   "outputs": [],
   "source": [
    "abhijeet = Mail('Abhijeet', 23, 'abc@xyz.com', '1234')"
   ]
  },
  {
   "cell_type": "code",
   "execution_count": 216,
   "id": "8aadfd69",
   "metadata": {},
   "outputs": [
    {
     "ename": "AttributeError",
     "evalue": "'Mail' object has no attribute '__password'",
     "output_type": "error",
     "traceback": [
      "\u001b[1;31m---------------------------------------------------------------------------\u001b[0m",
      "\u001b[1;31mAttributeError\u001b[0m                            Traceback (most recent call last)",
      "Cell \u001b[1;32mIn[216], line 1\u001b[0m\n\u001b[1;32m----> 1\u001b[0m \u001b[38;5;28mprint\u001b[39m(\u001b[43mabhijeet\u001b[49m\u001b[38;5;241;43m.\u001b[39;49m\u001b[43m__password\u001b[49m)\n\u001b[0;32m      2\u001b[0m abhijeet\u001b[38;5;241m.\u001b[39mpassword \u001b[38;5;241m=\u001b[39m \u001b[38;5;241m2345\u001b[39m\n\u001b[0;32m      3\u001b[0m \u001b[38;5;28mprint\u001b[39m(abhijeet\u001b[38;5;241m.\u001b[39mpassword)\n",
      "\u001b[1;31mAttributeError\u001b[0m: 'Mail' object has no attribute '__password'"
     ]
    }
   ],
   "source": [
    "print(abhijeet.__password)\n",
    "abhijeet.password = 2345\n",
    "print(abhijeet.password)\n",
    "print(abhijeet.email)"
   ]
  },
  {
   "cell_type": "code",
   "execution_count": 217,
   "id": "4417778d",
   "metadata": {},
   "outputs": [
    {
     "name": "stdout",
     "output_type": "stream",
     "text": [
      "Abhijeet 23 abc@xyz.com ****\n",
      "Enter Password1234\n",
      "1234\n"
     ]
    }
   ],
   "source": [
    "abhijeet.details()"
   ]
  },
  {
   "cell_type": "code",
   "execution_count": 218,
   "id": "9ff43506",
   "metadata": {},
   "outputs": [
    {
     "name": "stdout",
     "output_type": "stream",
     "text": [
      "3405\n",
      "Enter OTP3405\n"
     ]
    }
   ],
   "source": [
    "abhijeet.update_Password('12345678')"
   ]
  },
  {
   "cell_type": "code",
   "execution_count": 219,
   "id": "559cecb5",
   "metadata": {},
   "outputs": [
    {
     "name": "stdout",
     "output_type": "stream",
     "text": [
      "Abhijeet 23 abc@xyz.com ********\n",
      "Enter Password12345678\n",
      "12345678\n"
     ]
    }
   ],
   "source": [
    "abhijeet.details()"
   ]
  },
  {
   "cell_type": "code",
   "execution_count": 220,
   "id": "f11025d8",
   "metadata": {},
   "outputs": [
    {
     "ename": "AttributeError",
     "evalue": "'Mail' object has no attribute '__make_otp'",
     "output_type": "error",
     "traceback": [
      "\u001b[1;31m---------------------------------------------------------------------------\u001b[0m",
      "\u001b[1;31mAttributeError\u001b[0m                            Traceback (most recent call last)",
      "Cell \u001b[1;32mIn[220], line 1\u001b[0m\n\u001b[1;32m----> 1\u001b[0m \u001b[43mabhijeet\u001b[49m\u001b[38;5;241;43m.\u001b[39;49m\u001b[43m__make_otp\u001b[49m()\n",
      "\u001b[1;31mAttributeError\u001b[0m: 'Mail' object has no attribute '__make_otp'"
     ]
    }
   ],
   "source": [
    "abhijeet.__make_otp()"
   ]
  },
  {
   "cell_type": "code",
   "execution_count": 221,
   "id": "d92ac8d4",
   "metadata": {},
   "outputs": [
    {
     "name": "stdout",
     "output_type": "stream",
     "text": [
      "abc@xyz.com\n",
      "lmn@pqr.com\n"
     ]
    }
   ],
   "source": [
    "print(abhijeet._email)\n",
    "abhijeet._email = 'lmn@pqr.com'\n",
    "print(abhijeet._email)"
   ]
  },
  {
   "cell_type": "code",
   "execution_count": 222,
   "id": "524c687c",
   "metadata": {},
   "outputs": [
    {
     "name": "stdout",
     "output_type": "stream",
     "text": [
      "3392\n",
      "Enter OTP3392\n"
     ]
    }
   ],
   "source": [
    "abhijeet.update_Password('12')"
   ]
  },
  {
   "cell_type": "code",
   "execution_count": 223,
   "id": "b927b4ae",
   "metadata": {},
   "outputs": [
    {
     "name": "stdout",
     "output_type": "stream",
     "text": [
      "Abhijeet 23 lmn@pqr.com ********\n",
      "Enter Password123456\n",
      "Try Again\n"
     ]
    }
   ],
   "source": [
    "abhijeet.details()"
   ]
  },
  {
   "cell_type": "code",
   "execution_count": 224,
   "id": "c82258ae",
   "metadata": {},
   "outputs": [
    {
     "name": "stdout",
     "output_type": "stream",
     "text": [
      " * * * *\n",
      " * * * *\n"
     ]
    }
   ],
   "source": [
    "print(2 * ' * *')\n",
    "print(' * *' + ' * *')"
   ]
  },
  {
   "cell_type": "code",
   "execution_count": 225,
   "id": "b02c72d2",
   "metadata": {},
   "outputs": [
    {
     "ename": "AttributeError",
     "evalue": "'Mail' object has no attribute '__password'",
     "output_type": "error",
     "traceback": [
      "\u001b[1;31m---------------------------------------------------------------------------\u001b[0m",
      "\u001b[1;31mAttributeError\u001b[0m                            Traceback (most recent call last)",
      "Cell \u001b[1;32mIn[225], line 1\u001b[0m\n\u001b[1;32m----> 1\u001b[0m \u001b[43mabhijeet\u001b[49m\u001b[38;5;241;43m.\u001b[39;49m\u001b[43m__password\u001b[49m\n",
      "\u001b[1;31mAttributeError\u001b[0m: 'Mail' object has no attribute '__password'"
     ]
    }
   ],
   "source": [
    "abhijeet.__password"
   ]
  },
  {
   "cell_type": "code",
   "execution_count": 226,
   "id": "4a02e26e",
   "metadata": {},
   "outputs": [
    {
     "data": {
      "text/plain": [
       "'This attribute doesnt exist'"
      ]
     },
     "execution_count": 226,
     "metadata": {},
     "output_type": "execute_result"
    }
   ],
   "source": [
    "getattr(abhijeet, '__password', 'This attribute doesnt exist')"
   ]
  },
  {
   "cell_type": "code",
   "execution_count": 227,
   "id": "1dfe2173",
   "metadata": {},
   "outputs": [
    {
     "name": "stdout",
     "output_type": "stream",
     "text": [
      "5.85\n"
     ]
    }
   ],
   "source": [
    "abhijeet.height = 5.85\n",
    "print(abhijeet.height)"
   ]
  },
  {
   "cell_type": "code",
   "execution_count": 228,
   "id": "aa731a2f",
   "metadata": {},
   "outputs": [],
   "source": [
    "setattr(abhijeet, 'height', 5.85)"
   ]
  },
  {
   "cell_type": "code",
   "execution_count": 234,
   "id": "c983354c",
   "metadata": {},
   "outputs": [
    {
     "name": "stdout",
     "output_type": "stream",
     "text": [
      "['_Mail__email', '_Mail__make_otp', '_Mail__password', '__class__', '__delattr__', '__dict__', '__dir__', '__doc__', '__eq__', '__format__', '__ge__', '__getattribute__', '__gt__', '__hash__', '__init__', '__init_subclass__', '__le__', '__lt__', '__module__', '__ne__', '__new__', '__reduce__', '__reduce_ex__', '__repr__', '__setattr__', '__sizeof__', '__str__', '__subclasshook__', '__weakref__', '_email', 'age', 'details', 'height', 'name', 'otp', 'update_Password', 'view_password']\n"
     ]
    }
   ],
   "source": [
    "print(dir(abhijeet))"
   ]
  },
  {
   "cell_type": "code",
   "execution_count": 237,
   "id": "45519175",
   "metadata": {},
   "outputs": [
    {
     "data": {
      "text/plain": [
       "{'name': 'Abhijeet',\n",
       " 'age': 23,\n",
       " '_email': 'lmn@pqr.com',\n",
       " '_Mail__email': 'abc@xyz.com',\n",
       " '_Mail__password': '12345678',\n",
       " 'otp': 3392,\n",
       " 'height': 5.85}"
      ]
     },
     "execution_count": 237,
     "metadata": {},
     "output_type": "execute_result"
    }
   ],
   "source": [
    "abhijeet.__dict__"
   ]
  },
  {
   "cell_type": "code",
   "execution_count": 238,
   "id": "2aa967af",
   "metadata": {},
   "outputs": [],
   "source": [
    "piyush = Mail('Piyush', 23, 'abc@xyz.com', '1234')"
   ]
  },
  {
   "cell_type": "code",
   "execution_count": 239,
   "id": "a2d516a4",
   "metadata": {},
   "outputs": [
    {
     "data": {
      "text/plain": [
       "{'name': 'Piyush',\n",
       " 'age': 23,\n",
       " '_email': 'abc@xyz.com',\n",
       " '_Mail__email': 'abc@xyz.com',\n",
       " '_Mail__password': '1234'}"
      ]
     },
     "execution_count": 239,
     "metadata": {},
     "output_type": "execute_result"
    }
   ],
   "source": [
    "piyush.__dict__"
   ]
  },
  {
   "cell_type": "code",
   "execution_count": 240,
   "id": "f5a4b421",
   "metadata": {},
   "outputs": [
    {
     "name": "stdout",
     "output_type": "stream",
     "text": [
      "8493\n",
      "Enter OTP8493\n"
     ]
    }
   ],
   "source": [
    "piyush.update_Password('12345678')"
   ]
  },
  {
   "cell_type": "code",
   "execution_count": 241,
   "id": "3e4f5131",
   "metadata": {},
   "outputs": [
    {
     "data": {
      "text/plain": [
       "{'name': 'Piyush',\n",
       " 'age': 23,\n",
       " '_email': 'abc@xyz.com',\n",
       " '_Mail__email': 'abc@xyz.com',\n",
       " '_Mail__password': '12345678',\n",
       " 'otp': 8493}"
      ]
     },
     "execution_count": 241,
     "metadata": {},
     "output_type": "execute_result"
    }
   ],
   "source": [
    "piyush.__dict__"
   ]
  },
  {
   "cell_type": "code",
   "execution_count": 259,
   "id": "dbcaf85b",
   "metadata": {},
   "outputs": [
    {
     "name": "stdout",
     "output_type": "stream",
     "text": [
      "<class 'str'> <class 'str'>\n",
      "1510\n"
     ]
    }
   ],
   "source": [
    "a = '10'\n",
    "b = '15'\n",
    "print(type(a), type(b))\n",
    "print(b + a)"
   ]
  },
  {
   "cell_type": "code",
   "execution_count": 251,
   "id": "116a18ea",
   "metadata": {},
   "outputs": [
    {
     "ename": "TypeError",
     "evalue": "unsupported operand type(s) for +: 'Mail' and 'Mail'",
     "output_type": "error",
     "traceback": [
      "\u001b[1;31m---------------------------------------------------------------------------\u001b[0m",
      "\u001b[1;31mTypeError\u001b[0m                                 Traceback (most recent call last)",
      "Cell \u001b[1;32mIn[251], line 1\u001b[0m\n\u001b[1;32m----> 1\u001b[0m \u001b[38;5;28mprint\u001b[39m(\u001b[43mabhijeet\u001b[49m\u001b[43m \u001b[49m\u001b[38;5;241;43m+\u001b[39;49m\u001b[43m \u001b[49m\u001b[43mpiyush\u001b[49m)\n",
      "\u001b[1;31mTypeError\u001b[0m: unsupported operand type(s) for +: 'Mail' and 'Mail'"
     ]
    }
   ],
   "source": [
    "print(abhijeet + piyush)"
   ]
  },
  {
   "cell_type": "code",
   "execution_count": 255,
   "id": "954c93a5",
   "metadata": {},
   "outputs": [
    {
     "data": {
      "text/plain": [
       "True"
      ]
     },
     "execution_count": 255,
     "metadata": {},
     "output_type": "execute_result"
    }
   ],
   "source": [
    "isinstance(b, str)"
   ]
  },
  {
   "cell_type": "code",
   "execution_count": 257,
   "id": "e74baa80",
   "metadata": {},
   "outputs": [
    {
     "name": "stdout",
     "output_type": "stream",
     "text": [
      "<class 'builtin_function_or_method'>\n"
     ]
    }
   ],
   "source": [
    "print(type(print))"
   ]
  },
  {
   "cell_type": "code",
   "execution_count": 261,
   "id": "c3b63704",
   "metadata": {},
   "outputs": [
    {
     "name": "stdout",
     "output_type": "stream",
     "text": [
      "['__add__', '__class__', '__contains__', '__delattr__', '__dir__', '__doc__', '__eq__', '__format__', '__ge__', '__getattribute__', '__getitem__', '__getnewargs__', '__gt__', '__hash__', '__init__', '__init_subclass__', '__iter__', '__le__', '__len__', '__lt__', '__mod__', '__mul__', '__ne__', '__new__', '__reduce__', '__reduce_ex__', '__repr__', '__rmod__', '__rmul__', '__setattr__', '__sizeof__', '__str__', '__subclasshook__', 'capitalize', 'casefold', 'center', 'count', 'encode', 'endswith', 'expandtabs', 'find', 'format', 'format_map', 'index', 'isalnum', 'isalpha', 'isascii', 'isdecimal', 'isdigit', 'isidentifier', 'islower', 'isnumeric', 'isprintable', 'isspace', 'istitle', 'isupper', 'join', 'ljust', 'lower', 'lstrip', 'maketrans', 'partition', 'replace', 'rfind', 'rindex', 'rjust', 'rpartition', 'rsplit', 'rstrip', 'split', 'splitlines', 'startswith', 'strip', 'swapcase', 'title', 'translate', 'upper', 'zfill']\n"
     ]
    }
   ],
   "source": [
    "print(dir(a))"
   ]
  },
  {
   "cell_type": "code",
   "execution_count": null,
   "id": "b78dd0ad",
   "metadata": {},
   "outputs": [],
   "source": []
  }
 ],
 "metadata": {
  "kernelspec": {
   "display_name": "Python 3 (ipykernel)",
   "language": "python",
   "name": "python3"
  },
  "language_info": {
   "codemirror_mode": {
    "name": "ipython",
    "version": 3
   },
   "file_extension": ".py",
   "mimetype": "text/x-python",
   "name": "python",
   "nbconvert_exporter": "python",
   "pygments_lexer": "ipython3",
   "version": "3.8.10"
  }
 },
 "nbformat": 4,
 "nbformat_minor": 5
}
